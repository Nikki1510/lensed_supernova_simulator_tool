{
 "cells": [
  {
   "cell_type": "code",
   "execution_count": 12,
   "id": "6816a948",
   "metadata": {},
   "outputs": [],
   "source": [
    "import os\n",
    "import opsimsummary as oss\n",
    "import healpy as hp\n",
    "from opsimsummary import SynOpSim\n",
    "import numpy as np\n",
    "import matplotlib.pyplot as plt\n",
    "import astropy.coordinates as coord\n",
    "import astropy.units as u\n",
    "import pickle\n",
    "from astropy.time import Time"
   ]
  },
  {
   "cell_type": "markdown",
   "id": "5e94abcf",
   "metadata": {},
   "source": [
    "## OpSim database"
   ]
  },
  {
   "cell_type": "code",
   "execution_count": 5,
   "id": "ddb28324",
   "metadata": {},
   "outputs": [],
   "source": [
    "myopsimv3 = '../data/OpSim_databases/baseline_v3.0_10yrs.db'"
   ]
  },
  {
   "cell_type": "code",
   "execution_count": 3,
   "id": "15893ddb",
   "metadata": {},
   "outputs": [
    {
     "name": "stdout",
     "output_type": "stream",
     "text": [
      "[('observations',), ('info',), ('Proposal',)]\n",
      " \n",
      "[(0, 'proposalId', 'INT', 0, None, 1), (1, 'proposalName', 'VARCHAR(20)', 0, None, 0), (2, 'proposalType', 'VARCHAR(5)', 0, None, 0)]\n",
      " \n",
      "[(0, 'observationId', 'INTEGER', 0, None, 0), (1, 'fieldRA', 'REAL', 0, None, 0), (2, 'fieldDec', 'REAL', 0, None, 0), (3, 'observationStartMJD', 'REAL', 0, None, 0), (4, 'flush_by_mjd', 'REAL', 0, None, 0), (5, 'visitExposureTime', 'REAL', 0, None, 0), (6, 'filter', 'TEXT', 0, None, 0), (7, 'rotSkyPos', 'REAL', 0, None, 0), (8, 'numExposures', 'INTEGER', 0, None, 0), (9, 'airmass', 'REAL', 0, None, 0), (10, 'seeingFwhm500', 'REAL', 0, None, 0), (11, 'seeingFwhmEff', 'REAL', 0, None, 0), (12, 'seeingFwhmGeom', 'REAL', 0, None, 0), (13, 'skyBrightness', 'REAL', 0, None, 0), (14, 'night', 'INTEGER', 0, None, 0), (15, 'slewTime', 'REAL', 0, None, 0), (16, 'visitTime', 'REAL', 0, None, 0), (17, 'slewDistance', 'REAL', 0, None, 0), (18, 'fiveSigmaDepth', 'REAL', 0, None, 0), (19, 'altitude', 'REAL', 0, None, 0), (20, 'azimuth', 'REAL', 0, None, 0), (21, 'paraAngle', 'REAL', 0, None, 0), (22, 'cloud', 'REAL', 0, None, 0), (23, 'moonAlt', 'REAL', 0, None, 0), (24, 'sunAlt', 'REAL', 0, None, 0), (25, 'note', 'TEXT', 0, None, 0), (26, 'fieldId', 'INTEGER', 0, None, 0), (27, 'proposalId', 'INTEGER', 0, None, 0), (28, 'block_id', 'INTEGER', 0, None, 0), (29, 'observationStartLST', 'REAL', 0, None, 0), (30, 'rotTelPos', 'REAL', 0, None, 0), (31, 'moonAz', 'REAL', 0, None, 0), (32, 'sunAz', 'REAL', 0, None, 0), (33, 'sunRA', 'REAL', 0, None, 0), (34, 'sunDec', 'REAL', 0, None, 0), (35, 'moonRA', 'REAL', 0, None, 0), (36, 'moonDec', 'REAL', 0, None, 0), (37, 'moonDistance', 'REAL', 0, None, 0), (38, 'solarElong', 'REAL', 0, None, 0), (39, 'moonPhase', 'REAL', 0, None, 0), (40, 'cummTelAz', 'REAL', 0, None, 0)]\n",
      " \n",
      "[(0, 310.02448010095446, -60.81292801655155, 60218.001805555556, 60218.02357638889, 30.0, 'y', 62.75077469249649, 2, 1.1725342085804404, 0.515394900672845, 0.7486257803188012, 0.6673703914220546, 18.432267271804115, 0, 156.0, 34.0, 34.92273948845222, 22.370556803880852, 58.5234106253795, 169.45444369659415, 341.08219307645766, 0.0, -4.820379962039748, -17.622489983640115, 'blob_twi, yy, a', -1, 1, 1, 299.3754371342805, 43.83296776895414, 78.82416340911224, 255.5932199626473, 3.257553163165949, -0.050105389807105785, 27.60946308840441, 11.956110964358581, 94.4903144763233, 102.9586507339075, 87.4079017472751, 169.45444369659415)]\n",
      " \n",
      "RA: \n",
      "[(310.02448010095446,), (310.601870654888,), (311.2926112967797,), (312.140731299734,), (304.1701625915517,), (304.2695579566816,), (310.02448010095446,), (310.601870654888,), (311.2926112967797,), (312.140731299734,)]\n",
      " \n",
      "Dec: \n",
      "[(-60.81292801655155,), (-63.56142456972618,), (-66.31777378317454,), (-69.08266620643604,), (-73.37544180861354,), (-70.56522162528773,), (-60.81292801655155,), (-63.56142456972618,), (-66.31777378317454,), (-69.08266620643604,)]\n",
      " \n",
      "ProposalId: \n",
      "[(1,), (1,), (1,), (1,), (0,), (0,), (1,), (1,), (1,), (1,)]\n",
      " \n",
      "Proposal info: \n",
      "[(0, 'Other', 'Other'), (1, 'WFD', 'WFD'), (2, 'DD:EDFS, b', 'DD'), (3, 'DD:COSMOS', 'DD'), (4, 'DD:XMM-LSS', 'DD'), (5, 'DD:ELAISS1', 'DD'), (6, 'DD:ECDFS', 'DD')]\n",
      " \n",
      "Number of observations:  2086980\n"
     ]
    }
   ],
   "source": [
    "import sqlite3\n",
    "db_name = '../data/baseline_v2.0_10yrs.db'\n",
    "connection = sqlite3.connect(db_name)\n",
    "c = connection.cursor()\n",
    "\n",
    "c.execute(\"SELECT name FROM sqlite_master WHERE type='table';\")\n",
    "print(c.fetchall())\n",
    "print(\" \")\n",
    "\n",
    "c.execute(\"pragma table_info(Proposal)\")\n",
    "print(c.fetchall())\n",
    "print(\" \")\n",
    "\n",
    "c.execute(\"pragma table_info(observations)\")\n",
    "print(c.fetchall())\n",
    "print(\" \")\n",
    "\n",
    "c.execute(\"select * from observations limit 1\")\n",
    "print(c.fetchall())\n",
    "print(\" \")\n",
    "c.execute(\"select fieldRA from observations limit 10\")\n",
    "print(\"RA: \")\n",
    "print(c.fetchall())\n",
    "print(\" \")\n",
    "c.execute(\"select fieldDec from observations limit 10\")\n",
    "print(\"Dec: \")\n",
    "print(c.fetchall())\n",
    "print(\" \")\n",
    "\n",
    "c.execute(\"select proposalId from observations limit 10\")\n",
    "print(\"ProposalId: \")\n",
    "print(c.fetchall())\n",
    "print(\" \")\n",
    "\n",
    "c.execute(\"select * from Proposal limit 20\")\n",
    "print(\"Proposal info: \")\n",
    "print(c.fetchall())\n",
    "print(\" \")\n",
    "\n",
    "c.execute(\"select fieldDec from observations\")\n",
    "print(\"Number of observations: \", len(c.fetchall()))\n",
    "# 2 million"
   ]
  },
  {
   "cell_type": "markdown",
   "id": "a5ddc110",
   "metadata": {},
   "source": [
    "## OpSim Summary"
   ]
  },
  {
   "cell_type": "code",
   "execution_count": 6,
   "id": "2140adbc",
   "metadata": {},
   "outputs": [
    {
     "name": "stdout",
     "output_type": "stream",
     "text": [
      " reading from database sqlite:///../data/OpSim_databases/baseline_v3.0_10yrs.db\n",
      "We have filterNull set to False\n",
      "checking that summary table read in\n",
      "\n",
      "Reading in raw tables successful\n",
      "replacing names works\n",
      "dropping duplicates works\n",
      "dithered column names exists \n",
      "Changing units for fbsv2 from degrees\n"
     ]
    }
   ],
   "source": [
    "synopsim = SynOpSim.fromOpSimDB(myopsimv3, opsimversion='fbsv2', usePointingTree=True, use_proposal_table=False,\n",
    "                               subset='unique_all')"
   ]
  },
  {
   "cell_type": "code",
   "execution_count": 7,
   "id": "eeb859c1",
   "metadata": {},
   "outputs": [],
   "source": [
    "ra = [54.0, 52.0, 89.2, 14.0]\n",
    "dec = [-27.5, -23.0, -10.5, 46.8]"
   ]
  },
  {
   "cell_type": "code",
   "execution_count": 8,
   "id": "f18e56e5",
   "metadata": {},
   "outputs": [],
   "source": [
    "gen = synopsim.pointingsEnclosing(ra, dec, circRadius=0., pointingRadius=1.75, \n",
    "                                  usePointingTree=True)"
   ]
  },
  {
   "cell_type": "code",
   "execution_count": null,
   "id": "2bc87ce1",
   "metadata": {},
   "outputs": [],
   "source": [
    "next(gen)"
   ]
  },
  {
   "cell_type": "code",
   "execution_count": 9,
   "id": "6a210fbb",
   "metadata": {},
   "outputs": [
    {
     "name": "stdout",
     "output_type": "stream",
     "text": [
      "check using ptree True\n"
     ]
    }
   ],
   "source": [
    "obs = next(gen)\n",
    "obs = obs.sort_values(by=['expMJD'])"
   ]
  },
  {
   "cell_type": "code",
   "execution_count": null,
   "id": "f3e1e9eb",
   "metadata": {},
   "outputs": [],
   "source": [
    "obs.keys()"
   ]
  },
  {
   "cell_type": "code",
   "execution_count": 10,
   "id": "3ea8cf24",
   "metadata": {},
   "outputs": [
    {
     "name": "stdout",
     "output_type": "stream",
     "text": [
      "Observation MJD: \n",
      "obsHistID\n",
      "3570       60222.363772\n",
      "6705       60226.337841\n",
      "6706       60226.338258\n",
      "6707       60226.338674\n",
      "6708       60226.339091\n",
      "               ...     \n",
      "2085796    63869.394606\n",
      "2085797    63869.394988\n",
      "2085798    63869.395370\n",
      "2085799    63869.395752\n",
      "2085800    63869.396134\n",
      "Name: expMJD, Length: 23648, dtype: float64\n",
      " \n",
      "Observation filters:\n",
      "obsHistID\n",
      "3570       y\n",
      "6705       g\n",
      "6706       g\n",
      "6707       g\n",
      "6708       g\n",
      "          ..\n",
      "2085796    u\n",
      "2085797    u\n",
      "2085798    u\n",
      "2085799    u\n",
      "2085800    u\n",
      "Name: filter, Length: 23648, dtype: object\n",
      " \n",
      "Limiting magnitude: \n",
      "obsHistID\n",
      "3570       22.350507\n",
      "6705       24.690890\n",
      "6706       24.754717\n",
      "6707       24.753540\n",
      "6708       24.868958\n",
      "             ...    \n",
      "2085796    22.451458\n",
      "2085797    22.405750\n",
      "2085798    22.359770\n",
      "2085799    22.313539\n",
      "2085800    22.302807\n",
      "Name: fiveSigmaDepth, Length: 23648, dtype: float64\n",
      " \n",
      "PSF: \n",
      "obsHistID\n",
      "3570       0.729479\n",
      "6705       0.819493\n",
      "6706       0.774801\n",
      "6707       0.775036\n",
      "6708       0.701625\n",
      "             ...   \n",
      "2085796    1.289353\n",
      "2085797    1.290019\n",
      "2085798    1.290689\n",
      "2085799    1.291364\n",
      "2085800    1.292042\n",
      "Name: seeingFwhmGeom, Length: 23648, dtype: float64\n"
     ]
    }
   ],
   "source": [
    "lim_mag = obs['fiveSigmaDepth']\n",
    "filters = obs['filter']\n",
    "days = obs['expMJD']\n",
    "psf = obs['seeingFwhmGeom']\n",
    "\n",
    "print(\"Observation MJD: \")\n",
    "print(days)\n",
    "print(\" \")\n",
    "print(\"Observation filters:\")\n",
    "print(filters)\n",
    "print(\" \")\n",
    "print(\"Limiting magnitude: \")\n",
    "print(lim_mag)\n",
    "print(\" \")\n",
    "print(\"PSF: \")\n",
    "print(psf)"
   ]
  },
  {
   "cell_type": "code",
   "execution_count": 11,
   "id": "822cf926",
   "metadata": {},
   "outputs": [
    {
     "data": {
      "image/png": "[encoded data removed]",
      "text/plain": [
       "<Figure size 1500x800 with 1 Axes>"
      ]
     },
     "metadata": {},
     "output_type": "display_data"
    }
   ],
   "source": [
    "\n",
    "\n",
    "\n",
    "plt.figure(figsize=(15, 8))\n",
    "plt.hist(days, bins=100, color='midnightblue', alpha=0.8)\n",
    "plt.xlabel(\"MJD\", fontsize=15)\n",
    "plt.show()\n",
    "\n",
    "# dates? close in winter?"
   ]
  },
  {
   "cell_type": "markdown",
   "id": "f7cca1cd",
   "metadata": {},
   "source": [
    "## Sample full LSST footprint"
   ]
  },
  {
   "cell_type": "code",
   "execution_count": null,
   "id": "b54848e5",
   "metadata": {},
   "outputs": [],
   "source": [
    "# Input coordinates (DEC between -90 and 40)\n",
    "\n",
    "def radians(degrees):\n",
    "    return degrees / 180 * np.pi\n",
    "\n",
    "N = 30000\n",
    "\n",
    "# Sample random points on a sphere\n",
    "ra_points = np.random.uniform(low=-180, high=180, size=N)\n",
    "dec_points = np.arcsin(2 * np.random.uniform(size=N) - 1) / np.pi * 180\n",
    "\n",
    "fig = plt.figure(figsize=(16, 8))\n",
    "ax1 = fig.add_subplot(221, projection=\"mollweide\")\n",
    "im1 = ax1.scatter(radians(ra_points), radians(dec_points), s=1, label=\"Excluded\")\n",
    "\n",
    "dec_selection = (dec_points > -90) & (dec_points < 40)\n",
    "ra_points = ra_points[dec_selection]\n",
    "dec_points = dec_points[dec_selection]\n",
    "im1 = ax1.scatter(radians(ra_points), radians(dec_points), s=1.5, label=\"Included\")\n",
    "plt.legend(loc=(0.95, 0.8), fontsize=12)\n",
    "\n",
    "ra_points += 180"
   ]
  },
  {
   "cell_type": "code",
   "execution_count": null,
   "id": "384767c0",
   "metadata": {},
   "outputs": [],
   "source": [
    "gen = synopsim.pointingsEnclosing(ra_points, dec_points, circRadius=0., pointingRadius=1.75, \n",
    "                                  usePointingTree=True)"
   ]
  },
  {
   "cell_type": "code",
   "execution_count": null,
   "id": "375ea00e",
   "metadata": {},
   "outputs": [],
   "source": [
    "# Loop through all pointings and save the ones that are in the LSST footprint\n",
    "\n",
    "opsim_ra_list, opsim_dec_list = [], []\n",
    "\n",
    "for p in range(len(ra_points)):\n",
    "    \n",
    "    obs = next(gen)\n",
    "    \n",
    "    opsim_ra = np.mean(obs['fieldRA'])\n",
    "    opsim_dec = np.mean(obs['fieldDec'])\n",
    "\n",
    "    if np.isnan(opsim_ra) or np.isnan(opsim_dec):\n",
    "        continue\n",
    "    \n",
    "    opsim_ra_list.append(opsim_ra)\n",
    "    opsim_dec_list.append(opsim_dec)\n",
    "    \n",
    "opsim_ra_list = np.array(opsim_ra_list)\n",
    "opsim_dec_list = np.array(opsim_dec_list)\n",
    "opsim_ra_list -= 180"
   ]
  },
  {
   "cell_type": "code",
   "execution_count": null,
   "id": "4bf8bba1",
   "metadata": {},
   "outputs": [],
   "source": [
    "fig = plt.figure(figsize=(16, 8))\n",
    "ax1 = fig.add_subplot(221, projection=\"mollweide\")\n",
    "im1 = ax1.scatter(radians(opsim_ra_list), radians(opsim_dec_list), s=0.5)"
   ]
  },
  {
   "cell_type": "code",
   "execution_count": null,
   "id": "736db6b8",
   "metadata": {},
   "outputs": [],
   "source": []
  }
 ],
 "metadata": {
  "kernelspec": {
   "display_name": "Python 3 (ipykernel)",
   "language": "python",
   "name": "python3"
  },
  "language_info": {
   "codemirror_mode": {
    "name": "ipython",
    "version": 3
   },
   "file_extension": ".py",
   "mimetype": "text/x-python",
   "name": "python",
   "nbconvert_exporter": "python",
   "pygments_lexer": "ipython3",
   "version": "3.7.1"
  }
 },
 "nbformat": 4,
 "nbformat_minor": 5
}
