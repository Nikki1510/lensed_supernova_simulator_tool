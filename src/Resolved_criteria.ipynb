{
 "cells": [
  {
   "cell_type": "code",
   "execution_count": 1,
   "id": "79291f8d",
   "metadata": {},
   "outputs": [],
   "source": [
    "import numpy as np\n",
    "import pandas as pd\n",
    "import pickle\n",
    "import matplotlib.pyplot as plt\n",
    "import os\n",
    "import seaborn\n",
    "from matplotlib.lines import Line2D\n",
    "from astropy.cosmology import Planck18\n",
    "plt.rc(\"font\", family=\"serif\")\n",
    "plt.rc(\"text\", usetex=True)\n",
    "import warnings\n",
    "warnings.filterwarnings('ignore')\n",
    "import astropy.coordinates as coord\n",
    "import astropy.units as u\n",
    "import corner\n",
    "import seaborn as sns"
   ]
  },
  {
   "cell_type": "code",
   "execution_count": 2,
   "id": "15f05951",
   "metadata": {},
   "outputs": [
    {
     "name": "stdout",
     "output_type": "stream",
     "text": [
      "Doubles:  5000\n",
      "Quads:  5000\n",
      "Unlensed:  5000\n"
     ]
    }
   ],
   "source": [
    "with open('../processed_data/Baseline_v_3_0/Baselinev30_NEW_large_numimages=2_batch001.pkl', 'rb') as f:\n",
    "    doubles = pickle.load(f)\n",
    "with open('../processed_data/Baseline_v_3_0/Baselinev30_NEW_large_numimages=4_batch001.pkl', 'rb') as f:\n",
    "    quads = pickle.load(f)\n",
    "with open('../processed_data/Baseline_v_3_0/Baselinev30_unlensed_gband_batch001.pkl', 'rb') as f:\n",
    "    sne = pickle.load(f)\n",
    "    \n",
    "print(\"Doubles: \", len(doubles))\n",
    "print(\"Quads: \", len(quads))\n",
    "print(\"Unlensed: \", len(sne))"
   ]
  },
  {
   "cell_type": "code",
   "execution_count": 3,
   "id": "d4e69a8f",
   "metadata": {},
   "outputs": [],
   "source": [
    "# masks\n",
    "\n",
    "# Rolling / non-rolling\n",
    "md_nonrol = (doubles['obs_start']) <= 60768\n",
    "md_rol = (doubles['obs_start']) > 60768\n",
    "mq_nonrol = (quads['obs_start']) <= 60768\n",
    "mq_rol = (quads['obs_start']) > 60768\n",
    "\n",
    "# Survey\n",
    "md_WFD = (doubles['survey']) == 'WFD'\n",
    "md_DDF = (doubles['survey']) == 'DDF'\n",
    "md_gal = (doubles['survey']) == 'galactic plane'\n",
    "mq_WFD = (quads['survey']) == 'WFD'\n",
    "mq_DDF = (quads['survey']) == 'DDF'\n",
    "mq_gal = (quads['survey']) == 'galactic plane'\n",
    "\n",
    "# Detected\n",
    "md_detected = (doubles['mag_method'] == True) | (doubles['mult_method'] == True)\n",
    "md_detected_micro = (doubles['mag_method_micro'] == True) | (doubles['mult_method_micro'] == True)\n",
    "md_detected_peak = (doubles['mag_method_peak'] == True) | (doubles['mult_method_peak'] == True)\n",
    "md_nondetect_micro = (doubles['mag_method_micro'] == False) & (doubles['mult_method_micro'] == False)\n",
    "md_nondetect = (doubles['mag_method'] == False) & (doubles['mult_method'] == False)\n",
    "mq_detected_micro = (quads['mag_method_micro'] == True) | (quads['mult_method_micro'] == True)\n",
    "mq_detected = (quads['mag_method'] == True) | (quads['mult_method'] == True)\n",
    "mq_nondetect_micro = (quads['mag_method_micro'] == False) & (quads['mult_method_micro'] == False)\n",
    "mq_nondetect = (quads['mag_method'] == False) & (quads['mult_method'] == False)\n",
    "mq_detected_peak = (quads['mag_method_peak'] == True) | (quads['mult_method_peak'] == True)\n",
    "\n",
    "md_detected_micro_mag = (doubles['mag_method_micro'] == True)\n",
    "md_detected_micro_mult = (doubles['mult_method_micro'] == True)\n",
    "mq_detected_micro_mag = (quads['mag_method_micro'] == True)\n",
    "mq_detected_micro_mult = (quads['mult_method_micro'] == True)\n",
    "\n",
    "md_mult_peak = (doubles['mult_method_peak'] == True)\n",
    "md_mag_peak = (doubles['mag_method_peak'] == True)\n",
    "mq_mult_peak = (quads['mult_method_peak'] == True)\n",
    "mq_mag_peak = (quads['mag_method_peak'] == True)\n"
   ]
  },
  {
   "cell_type": "code",
   "execution_count": 5,
   "id": "e424d103",
   "metadata": {},
   "outputs": [
    {
     "name": "stdout",
     "output_type": "stream",
     "text": [
      "Doubles:\n",
      "874\n",
      "1503\n",
      " \n",
      "Quads:\n",
      "2714\n",
      "2453\n"
     ]
    }
   ],
   "source": [
    "print(\"Doubles:\")\n",
    "print(((doubles['mag_method_micro'])).sum())\n",
    "print(((doubles['mult_method_micro'])).sum())\n",
    "print(\" \")\n",
    "print(\"Quads:\")\n",
    "print(((quads['mag_method_micro'])).sum())\n",
    "print(((quads['mult_method_micro'])).sum())"
   ]
  },
  {
   "cell_type": "code",
   "execution_count": 6,
   "id": "f6ebfeba",
   "metadata": {},
   "outputs": [
    {
     "data": {
      "text/plain": [
       "0       0.937871\n",
       "1       0.535325\n",
       "2       0.525605\n",
       "7       0.721876\n",
       "9       0.800618\n",
       "          ...   \n",
       "4988    0.573896\n",
       "4989    0.515200\n",
       "4992    0.627733\n",
       "4993    0.877100\n",
       "4998    1.273717\n",
       "Name: theta_E, Length: 2844, dtype: float64"
      ]
     },
     "execution_count": 6,
     "metadata": {},
     "output_type": "execute_result"
    }
   ],
   "source": [
    "doubles['theta_E'][doubles['theta_E'] > 0.5]"
   ]
  },
  {
   "cell_type": "code",
   "execution_count": 7,
   "id": "ce1282ee",
   "metadata": {},
   "outputs": [
    {
     "data": {
      "text/plain": [
       "0       0.716876\n",
       "1       0.791792\n",
       "3       0.825486\n",
       "5       0.977010\n",
       "7       1.407854\n",
       "          ...   \n",
       "4989    1.043705\n",
       "4992    0.653118\n",
       "4993    0.671601\n",
       "4995    0.916633\n",
       "4999    0.809785\n",
       "Name: theta_E, Length: 2916, dtype: float64"
      ]
     },
     "execution_count": 7,
     "metadata": {},
     "output_type": "execute_result"
    }
   ],
   "source": [
    "quads['theta_E'][quads['theta_E'] > 0.5]"
   ]
  },
  {
   "cell_type": "code",
   "execution_count": 11,
   "id": "d275d8ce",
   "metadata": {},
   "outputs": [],
   "source": [
    "def separation(x_image, y_image):\n",
    "    \"\"\"\n",
    "    Calculates the maximum image separation.\n",
    "\n",
    "    :param x_image: array of length [num_images] containing the x coordinates of the supernova images in arcsec\n",
    "    :param y_image: array of length [num_images] containing the y coordinates of the supernova images in arcsec\n",
    "    :return: maximum separation between images in arcsec (float)\n",
    "    \"\"\"\n",
    "    if len(x_image) == 2:\n",
    "        sep = ((x_image[0] - x_image[1])**2 + (y_image[0] - y_image[1])**2)**0.5\n",
    "        return sep\n",
    "    elif len(x_image) == 4:\n",
    "        sep1 = ((x_image[0] - x_image[1]) ** 2 + (y_image[0] - y_image[1]) ** 2) ** 0.5\n",
    "        sep2 = ((x_image[0] - x_image[2]) ** 2 + (y_image[0] - y_image[2]) ** 2) ** 0.5\n",
    "        sep3 = ((x_image[0] - x_image[3]) ** 2 + (y_image[0] - y_image[3]) ** 2) ** 0.5\n",
    "        sep4 = ((x_image[1] - x_image[2]) ** 2 + (y_image[1] - y_image[2]) ** 2) ** 0.5\n",
    "        sep5 = ((x_image[1] - x_image[3]) ** 2 + (y_image[1] - y_image[3]) ** 2) ** 0.5\n",
    "        sep6 = ((x_image[2] - x_image[3]) ** 2 + (y_image[2] - y_image[3]) ** 2) ** 0.5\n",
    "        separations = np.array([sep1, sep2, sep3, sep4, sep5, sep6])\n",
    "        max_sep = max(separations)\n",
    "        return max_sep\n",
    "    \n",
    "max_sep_doubles, max_sep_quads = [], []\n",
    "\n",
    "for i in range(len(doubles)):\n",
    "    max_sep_doubles.append(separation(doubles['image_x'][i], doubles['image_y'][i]))\n",
    "    max_sep_quads.append(separation(quads['image_x'][i], quads['image_y'][i]))"
   ]
  },
  {
   "cell_type": "code",
   "execution_count": 46,
   "id": "f0abbbdb",
   "metadata": {},
   "outputs": [
    {
     "name": "stdout",
     "output_type": "stream",
     "text": [
      "Doubles:\n",
      "Simple method:  1612\n",
      "New method:     1610\n",
      " \n",
      "Quads:\n",
      "Simple method:  2512\n",
      "New method:     2561\n"
     ]
    }
   ],
   "source": [
    "# Redo image multiplicity method:\n",
    "N = 0\n",
    "M = 0\n",
    "P = 0\n",
    "Q = 0\n",
    "\n",
    "for i in range(len(doubles)):\n",
    "    # old condition: max_sep > 0.5\n",
    "    if max_sep_doubles[i] > 0.5:\n",
    "        if (np.nanmax(doubles['obs_snr_micro'][i], axis=0) > 5).sum() > 1:\n",
    "            N += 1\n",
    "            \n",
    "    # new condition: max_sep > 2/3 PSF for at least 2 (3) images with S/N > 5 for doubles (quads)      \n",
    "    cond_psf = doubles['obs_psf'][i] < 3/2 * max_sep_doubles[i]\n",
    "    cond_snr1 = (doubles['obs_snr_micro'][i] > 5)[:,0]\n",
    "    cond_snr2 = (doubles['obs_snr_micro'][i] > 5)[:,1]\n",
    "    cond_im1 = (cond_psf & cond_snr1).sum()\n",
    "    cond_im2 = (cond_psf & cond_snr2).sum()\n",
    "    if cond_im1 > 0 and cond_im2 > 0:\n",
    "        M += 1\n",
    "\n",
    "print(\"Doubles:\")\n",
    "print(\"Simple method: \", N) \n",
    "print(\"New method:    \", M)\n",
    "        \n",
    "for i in range(len(quads)):\n",
    "    # old condition: max_sep > 0.5\n",
    "    if max_sep_quads[i] > 0.5:\n",
    "        if (np.nanmax(quads['obs_snr_micro'][i], axis=0) > 5).sum() > 2:\n",
    "            P += 1\n",
    "            \n",
    "    # new condition: max_sep > 2/3 PSF for at least 2 (3) images with S/N > 5 for doubles (quads)\n",
    "    # so each image should have at least once at the SAME time a good enough psf & S/N\n",
    "    cond_psf = quads['obs_psf'][i] < 3/2 * max_sep_quads[i]\n",
    "    cond_snr1 = (quads['obs_snr_micro'][i] > 5)[:,0]\n",
    "    cond_snr2 = (quads['obs_snr_micro'][i] > 5)[:,1]\n",
    "    cond_snr3 = (quads['obs_snr_micro'][i] > 5)[:,2]\n",
    "    cond_snr4 = (quads['obs_snr_micro'][i] > 5)[:,3]\n",
    "    cond_im1 = (cond_psf & cond_snr1).sum()\n",
    "    cond_im2 = (cond_psf & cond_snr2).sum()\n",
    "    cond_im3 = (cond_psf & cond_snr3).sum()\n",
    "    cond_im4 = (cond_psf & cond_snr4).sum()\n",
    "    if np.count_nonzero(np.array([cond_im1, cond_im2, cond_im3, cond_im4])) > 2:\n",
    "        Q += 1\n",
    "\n",
    "print(\" \")\n",
    "print(\"Quads:\")\n",
    "print(\"Simple method: \", P) \n",
    "print(\"New method:    \", Q)"
   ]
  },
  {
   "cell_type": "code",
   "execution_count": 17,
   "id": "49a5ed7e",
   "metadata": {},
   "outputs": [
    {
     "data": {
      "text/plain": [
       "(0.0, 6.0)"
      ]
     },
     "execution_count": 17,
     "metadata": {},
     "output_type": "execute_result"
    },
    {
     "data": {
      "image/png": "[encoded data removed]",
      "text/plain": [
       "<Figure size 640x480 with 1 Axes>"
      ]
     },
     "metadata": {},
     "output_type": "display_data"
    }
   ],
   "source": [
    "plt.plot(doubles['theta_E'] * 2**0.5, max_sep_doubles, '.')\n",
    "plt.xlim(0,6)\n",
    "plt.ylim(0,6)"
   ]
  },
  {
   "cell_type": "code",
   "execution_count": 18,
   "id": "8609aa36",
   "metadata": {},
   "outputs": [
    {
     "data": {
      "text/plain": [
       "Index(['time_series', 'z_source', 'z_lens', 'H0', 'theta_E', 'obs_peak',\n",
       "       'obs_times', 'obs_bands', 'model_mag', 'obs_mag', 'obs_mag_error',\n",
       "       'obs_snr', 'obs_mag_unresolved', 'mag_unresolved_error',\n",
       "       'snr_unresolved', 'macro_mag', 'source_x', 'source_y', 'time_delay',\n",
       "       'time_delay_distance', 'image_x', 'image_y', 'gamma_lens', 'e1_lens',\n",
       "       'e2_lens', 'g1_shear', 'g2_shear', 'micro_kappa', 'micro_gamma',\n",
       "       'micro_s', 'micro_peak', 'stretch', 'colour', 'Mb', 'obs_start',\n",
       "       'obs_end', 'mult_method_peak', 'mult_method', 'mult_method_micro',\n",
       "       'mag_method_peak', 'mag_method', 'mag_method_micro', 'coords',\n",
       "       'obs_skybrightness', 'obs_psf', 'obs_lim_mag', 'obs_N_coadds', 'survey',\n",
       "       'rolling', 'obs_mag_micro', 'mag_micro_error', 'obs_snr_micro',\n",
       "       'mag_unresolved_micro', 'mag_unresolved_micro_error',\n",
       "       'snr_unresolved_micro', 'peak_magnitudes', 'peak_magnitudes_micro'],\n",
       "      dtype='object')"
      ]
     },
     "execution_count": 18,
     "metadata": {},
     "output_type": "execute_result"
    }
   ],
   "source": [
    "doubles.keys()"
   ]
  },
  {
   "cell_type": "code",
   "execution_count": 41,
   "id": "8e6295f2",
   "metadata": {},
   "outputs": [
    {
     "name": "stdout",
     "output_type": "stream",
     "text": [
      "0.75\n",
      "[0.5909786  0.87171812 0.68405071 0.75659389 0.66915752 0.71950463\n",
      " 0.82792185 0.68153398 0.76056068 0.89542173 0.57347387 0.56661415\n",
      " 1.03093899 1.0203771  1.01903959 0.69806173 0.68663664 0.66915696\n",
      " 0.70080605 0.6454912  0.64495416 0.72376906 1.09361592 1.42362466\n",
      " 0.78936023 0.66965696 0.6449679  0.60105209 0.91170942 1.68170851\n",
      " 1.19401993 0.87756573 0.82315267 1.0221836  0.86838502 1.27940817\n",
      " 1.01565627 0.83879992 0.89865879 0.73906409 0.94092879 0.78844483\n",
      " 0.90419396 1.22558891 1.00453341 1.05934409 0.77749327 1.30250949\n",
      " 0.8788203  0.99127398 1.43125238]\n",
      "[ True False  True False  True  True False  True False False  True  True\n",
      " False False False  True  True  True  True  True  True  True False False\n",
      " False  True  True  True False False False False False False False False\n",
      " False False False  True False False False False False False False False\n",
      " False False False]\n",
      "[False False False False False False False  True  True False  True  True\n",
      "  True False  True  True  True  True  True  True  True  True False  True\n",
      "  True False  True  True  True False  True  True  True False False False\n",
      " False False False False False False False False False False False False\n",
      " False False False]\n",
      "12\n"
     ]
    }
   ],
   "source": [
    "max_sep = 0.5\n",
    "print(3/2 * max_sep)\n",
    "\n",
    "print(doubles['obs_psf'][6])\n",
    "print(doubles['obs_psf'][6] < 3/2 * max_sep)\n",
    "print((doubles['obs_snr_micro'][6] > 5)[:,0])\n",
    "print(((doubles['obs_snr_micro'][6] > 5)[:,0] & (doubles['obs_psf'][6] < 3/2 * max_sep)).sum())"
   ]
  },
  {
   "cell_type": "code",
   "execution_count": 26,
   "id": "96ff9119",
   "metadata": {},
   "outputs": [
    {
     "data": {
      "text/plain": [
       "array([[ 0.        ,  0.        ],\n",
       "       [        nan,  0.        ],\n",
       "       [        nan,  0.        ],\n",
       "       [ 0.        ,  0.        ],\n",
       "       [ 0.        ,  0.        ],\n",
       "       [ 0.        ,  0.        ],\n",
       "       [ 0.        ,  0.        ],\n",
       "       [12.97030679,         nan],\n",
       "       [15.12156398,         nan],\n",
       "       [ 4.50244254,         nan],\n",
       "       [32.49334649,  0.        ],\n",
       "       [25.1216058 ,  0.        ],\n",
       "       [10.48475393,  1.13337703],\n",
       "       [ 4.1159619 ,  0.        ],\n",
       "       [ 8.8875112 ,  1.60138123],\n",
       "       [21.36869728,  4.57897411],\n",
       "       [16.91260084,  4.24965661],\n",
       "       [ 9.5227704 ,  4.42217126],\n",
       "       [17.33501502,  9.99332588],\n",
       "       [15.84374562,  7.57228233],\n",
       "       [21.22846682, 14.00234179],\n",
       "       [16.8641469 , 11.80287476],\n",
       "       [ 3.62375899,  5.63430155],\n",
       "       [13.90452342, 13.59017999],\n",
       "       [15.80265155, 18.93471994],\n",
       "       [ 3.75328411,  7.06466011],\n",
       "       [ 6.87108624,  6.44551788],\n",
       "       [11.68804949, 18.72589452],\n",
       "       [ 6.11053337,  5.90264401],\n",
       "       [ 2.21213832,  4.1599862 ],\n",
       "       [10.0438062 , 11.22181405],\n",
       "       [ 5.98153094,  7.7393249 ],\n",
       "       [ 6.67271786,  6.21813948],\n",
       "       [ 3.44857886,  3.14135202],\n",
       "       [ 3.32995839,  2.90548678],\n",
       "       [ 0.        ,  0.        ],\n",
       "       [ 3.29431628,  5.60063672],\n",
       "       [ 3.88472222,  3.62370877],\n",
       "       [ 0.        ,  0.        ],\n",
       "       [ 1.45284739,  1.89161689],\n",
       "       [ 0.51372116,  0.94206146],\n",
       "       [ 0.        ,  0.        ],\n",
       "       [ 2.05983357,  2.32334736],\n",
       "       [ 0.        ,  1.07636569],\n",
       "       [ 2.61771816,  2.57761142],\n",
       "       [ 2.99424581,  2.91697758],\n",
       "       [ 1.05661447,  0.64119376],\n",
       "       [ 1.80677356,  0.        ],\n",
       "       [ 0.        ,  0.        ],\n",
       "       [ 0.        ,  0.        ],\n",
       "       [ 0.        ,  0.        ]])"
      ]
     },
     "execution_count": 26,
     "metadata": {},
     "output_type": "execute_result"
    }
   ],
   "source": [
    "doubles['obs_snr_micro'][6]"
   ]
  },
  {
   "cell_type": "code",
   "execution_count": null,
   "id": "87e2a978",
   "metadata": {},
   "outputs": [],
   "source": []
  }
 ],
 "metadata": {
  "kernelspec": {
   "display_name": "Python 3 (ipykernel)",
   "language": "python",
   "name": "python3"
  },
  "language_info": {
   "codemirror_mode": {
    "name": "ipython",
    "version": 3
   },
   "file_extension": ".py",
   "mimetype": "text/x-python",
   "name": "python",
   "nbconvert_exporter": "python",
   "pygments_lexer": "ipython3",
   "version": "3.7.1"
  }
 },
 "nbformat": 4,
 "nbformat_minor": 5
}
