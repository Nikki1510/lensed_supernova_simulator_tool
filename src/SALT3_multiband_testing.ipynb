{
 "cells": [
  {
   "cell_type": "code",
   "execution_count": 1,
   "id": "44937782",
   "metadata": {},
   "outputs": [],
   "source": [
    "import sncosmo\n",
    "import numpy as np\n",
    "import scipy.stats as stats\n",
    "from astropy.cosmology import FlatLambdaCDM\n",
    "import matplotlib.pyplot as plt\n",
    "import warnings\n",
    "warnings.filterwarnings('ignore')"
   ]
  },
  {
   "cell_type": "code",
   "execution_count": 2,
   "id": "29ef2a78",
   "metadata": {},
   "outputs": [],
   "source": [
    "def M_obs(x1, c, M_corrected):\n",
    "    \"\"\"\n",
    "    Applies the Tripp Formula to correlate absolute magnitude with colour and stretch.\n",
    "    Values for Alpha and Beta are taken from Scolnic & Kessler (2016).\n",
    "\n",
    "    :param x1: stretch parameter for the SALT2 model\n",
    "    :param c: colour parameter for the SALT2 model\n",
    "    :param M_corrected: The absolute magnitude of the supernova without stretch and colour correlations\n",
    "    :return: M_observed: The absolute magnitude of the supernova correlated with its stretch and colour\n",
    "    \"\"\"\n",
    "    Alpha = 0.14\n",
    "    Beta = 3.1\n",
    "    M_observed = - Alpha * x1 + Beta * c + M_corrected\n",
    "    return M_observed\n",
    "\n",
    "def light_curve(z_source):\n",
    "    \"\"\"\n",
    "    Samples light curve parameters from stretch and colour distributions based on Scolnic & Kessler (2016)\n",
    "    and returns a type Ia SN light curve model from SNcosmo.\n",
    "\n",
    "    :param z_source: redshift of the supernova\n",
    "    :return: SNcosmo model of the supernova light curve, stretch parameter, colour parameter, MW dust contribution,\n",
    "             observed absolute magnitude\n",
    "    \"\"\"\n",
    "    H_0 = 70\n",
    "    dustmodel = sncosmo.F99Dust(r_v=3.1)\n",
    "    model = sncosmo.Model(source='salt3', effects=[dustmodel], effect_names=['mw'], effect_frames=['obs'])\n",
    "    H_0_fid = 74.03                                      # SH0ES 2019 value\n",
    "    M_fid = -19.24                                       # Absolute magnitude corresponding to SH0ES 2019 H0 value\n",
    "\n",
    "    MW_dust = np.random.uniform(0, 0.2)                  # Sample E(B-V)\n",
    "    x1 = stats.skewnorm.rvs(-8.241, 1.2311, 1.6712)      # Sample stretch parameter\n",
    "    c = stats.skewnorm.rvs(2.483, -0.08938, 0.1215)      # Sample colour parameter\n",
    "    M_cosmo = 5 * np.log10(H_0 / H_0_fid) + M_fid        # Cosmology correction to absolute magnitude\n",
    "    M_corrected = np.random.normal(M_cosmo, 0.12)        # Absolute magnitude without colour/stretch correlation\n",
    "    M_observed = M_obs(x1, c, M_corrected)               # Absolute magnitude with colour/stretch correlation\n",
    "\n",
    "    model.set(z=z_source, t0=0.0, x1=x1, c=c, mwebv=MW_dust)\n",
    "    cosmo = FlatLambdaCDM(H0=H_0, Om0=0.3, Ob0=0.05)\n",
    "    model.set_source_peakabsmag(M_observed, 'bessellb', 'ab', cosmo=cosmo)\n",
    "    x0 = model.get('x0')\n",
    "    model.set(x0=x0)\n",
    "    return model, x1, c, MW_dust, M_observed"
   ]
  },
  {
   "cell_type": "code",
   "execution_count": 5,
   "id": "b221ff5f",
   "metadata": {},
   "outputs": [
    {
     "ename": "ValueError",
     "evalue": "bandpass 'lsstg' [3866, .., 5670] outside spectral range [4000, .., 22000]",
     "output_type": "error",
     "traceback": [
      "\u001b[0;31m---------------------------------------------------------------------------\u001b[0m",
      "\u001b[0;31mValueError\u001b[0m                                Traceback (most recent call last)",
      "\u001b[0;32m/var/folders/6x/j1tbqdk91439t5vn1y800sb40000gn/T/ipykernel_1403/1635145689.py\u001b[0m in \u001b[0;36m<module>\u001b[0;34m\u001b[0m\n\u001b[1;32m      6\u001b[0m \u001b[0;34m\u001b[0m\u001b[0m\n\u001b[1;32m      7\u001b[0m     \u001b[0mmodel\u001b[0m\u001b[0;34m,\u001b[0m \u001b[0m_\u001b[0m\u001b[0;34m,\u001b[0m \u001b[0m_\u001b[0m\u001b[0;34m,\u001b[0m \u001b[0m_\u001b[0m\u001b[0;34m,\u001b[0m \u001b[0m_\u001b[0m \u001b[0;34m=\u001b[0m \u001b[0mlight_curve\u001b[0m\u001b[0;34m(\u001b[0m\u001b[0mz_source\u001b[0m\u001b[0;34m)\u001b[0m\u001b[0;34m\u001b[0m\u001b[0;34m\u001b[0m\u001b[0m\n\u001b[0;32m----> 8\u001b[0;31m     \u001b[0mmags\u001b[0m \u001b[0;34m=\u001b[0m \u001b[0mmodel\u001b[0m\u001b[0;34m.\u001b[0m\u001b[0mbandmag\u001b[0m\u001b[0;34m(\u001b[0m\u001b[0mbandpass\u001b[0m\u001b[0;34m,\u001b[0m \u001b[0mtime\u001b[0m\u001b[0;34m=\u001b[0m\u001b[0mtimes\u001b[0m\u001b[0;34m,\u001b[0m \u001b[0mmagsys\u001b[0m\u001b[0;34m=\u001b[0m\u001b[0;34m'ab'\u001b[0m\u001b[0;34m)\u001b[0m\u001b[0;34m\u001b[0m\u001b[0;34m\u001b[0m\u001b[0m\n\u001b[0m\u001b[1;32m      9\u001b[0m \u001b[0;34m\u001b[0m\u001b[0m\n\u001b[1;32m     10\u001b[0m     \u001b[0mplt\u001b[0m\u001b[0;34m.\u001b[0m\u001b[0mplot\u001b[0m\u001b[0;34m(\u001b[0m\u001b[0mtimes\u001b[0m\u001b[0;34m,\u001b[0m \u001b[0mmags\u001b[0m\u001b[0;34m,\u001b[0m \u001b[0mcolor\u001b[0m\u001b[0;34m=\u001b[0m\u001b[0;34m'midnightblue'\u001b[0m\u001b[0;34m,\u001b[0m \u001b[0malpha\u001b[0m\u001b[0;34m=\u001b[0m\u001b[0;36m0.1\u001b[0m\u001b[0;34m)\u001b[0m\u001b[0;34m\u001b[0m\u001b[0;34m\u001b[0m\u001b[0m\n",
      "\u001b[0;32m~/anaconda3/lib/python3.7/site-packages/sncosmo/models.py\u001b[0m in \u001b[0;36mbandmag\u001b[0;34m(self, band, magsys, time)\u001b[0m\n\u001b[1;32m   1774\u001b[0m             \u001b[0mThe\u001b[0m \u001b[0;32mreturn\u001b[0m \u001b[0mvalue\u001b[0m \u001b[0;32mis\u001b[0m \u001b[0man\u001b[0m\u001b[0;31m \u001b[0m\u001b[0;31m`\u001b[0m\u001b[0;34m~\u001b[0m\u001b[0mnumpy\u001b[0m\u001b[0;34m.\u001b[0m\u001b[0mndarray\u001b[0m\u001b[0;31m`\u001b[0m \u001b[0;32mif\u001b[0m \u001b[0many\u001b[0m \u001b[0mare\u001b[0m \u001b[0minterable\u001b[0m\u001b[0;34m.\u001b[0m\u001b[0;34m\u001b[0m\u001b[0;34m\u001b[0m\u001b[0m\n\u001b[1;32m   1775\u001b[0m         \"\"\"\n\u001b[0;32m-> 1776\u001b[0;31m         \u001b[0;32mreturn\u001b[0m \u001b[0m_bandmag\u001b[0m\u001b[0;34m(\u001b[0m\u001b[0mself\u001b[0m\u001b[0;34m,\u001b[0m \u001b[0mband\u001b[0m\u001b[0;34m,\u001b[0m \u001b[0mmagsys\u001b[0m\u001b[0;34m,\u001b[0m \u001b[0mtime\u001b[0m\u001b[0;34m)\u001b[0m\u001b[0;34m\u001b[0m\u001b[0;34m\u001b[0m\u001b[0m\n\u001b[0m\u001b[1;32m   1777\u001b[0m \u001b[0;34m\u001b[0m\u001b[0m\n\u001b[1;32m   1778\u001b[0m     \u001b[0;32mdef\u001b[0m \u001b[0mcolor\u001b[0m\u001b[0;34m(\u001b[0m\u001b[0mself\u001b[0m\u001b[0;34m,\u001b[0m \u001b[0mband1\u001b[0m\u001b[0;34m,\u001b[0m \u001b[0mband2\u001b[0m\u001b[0;34m,\u001b[0m \u001b[0mmagsys\u001b[0m\u001b[0;34m,\u001b[0m \u001b[0mtime\u001b[0m\u001b[0;34m)\u001b[0m\u001b[0;34m:\u001b[0m\u001b[0;34m\u001b[0m\u001b[0;34m\u001b[0m\u001b[0m\n",
      "\u001b[0;32m~/anaconda3/lib/python3.7/site-packages/sncosmo/models.py\u001b[0m in \u001b[0;36m_bandmag\u001b[0;34m(model, band, magsys, time_or_phase)\u001b[0m\n\u001b[1;32m    176\u001b[0m     \u001b[0mSource\u001b[0m \u001b[0;32mand\u001b[0m\u001b[0;31m \u001b[0m\u001b[0;31m`\u001b[0m\u001b[0;31m`\u001b[0m\u001b[0mtime\u001b[0m\u001b[0;31m`\u001b[0m\u001b[0;31m`\u001b[0m \u001b[0;32mis\u001b[0m \u001b[0mused\u001b[0m \u001b[0;32min\u001b[0m \u001b[0mModel\u001b[0m\u001b[0;34m.\u001b[0m\u001b[0;34m\u001b[0m\u001b[0;34m\u001b[0m\u001b[0m\n\u001b[1;32m    177\u001b[0m     \"\"\"\n\u001b[0;32m--> 178\u001b[0;31m     \u001b[0mbandflux\u001b[0m \u001b[0;34m=\u001b[0m \u001b[0m_bandflux\u001b[0m\u001b[0;34m(\u001b[0m\u001b[0mmodel\u001b[0m\u001b[0;34m,\u001b[0m \u001b[0mband\u001b[0m\u001b[0;34m,\u001b[0m \u001b[0mtime_or_phase\u001b[0m\u001b[0;34m,\u001b[0m \u001b[0;32mNone\u001b[0m\u001b[0;34m,\u001b[0m \u001b[0;32mNone\u001b[0m\u001b[0;34m)\u001b[0m\u001b[0;34m\u001b[0m\u001b[0;34m\u001b[0m\u001b[0m\n\u001b[0m\u001b[1;32m    179\u001b[0m     \u001b[0mband\u001b[0m\u001b[0;34m,\u001b[0m \u001b[0mmagsys\u001b[0m\u001b[0;34m,\u001b[0m \u001b[0mbandflux\u001b[0m \u001b[0;34m=\u001b[0m \u001b[0mnp\u001b[0m\u001b[0;34m.\u001b[0m\u001b[0mbroadcast_arrays\u001b[0m\u001b[0;34m(\u001b[0m\u001b[0mband\u001b[0m\u001b[0;34m,\u001b[0m \u001b[0mmagsys\u001b[0m\u001b[0;34m,\u001b[0m \u001b[0mbandflux\u001b[0m\u001b[0;34m)\u001b[0m\u001b[0;34m\u001b[0m\u001b[0;34m\u001b[0m\u001b[0m\n\u001b[1;32m    180\u001b[0m     \u001b[0mreturn_scalar\u001b[0m \u001b[0;34m=\u001b[0m \u001b[0;34m(\u001b[0m\u001b[0mband\u001b[0m\u001b[0;34m.\u001b[0m\u001b[0mndim\u001b[0m \u001b[0;34m==\u001b[0m \u001b[0;36m0\u001b[0m\u001b[0;34m)\u001b[0m\u001b[0;34m\u001b[0m\u001b[0;34m\u001b[0m\u001b[0m\n",
      "\u001b[0;32m~/anaconda3/lib/python3.7/site-packages/sncosmo/models.py\u001b[0m in \u001b[0;36m_bandflux\u001b[0;34m(model, band, time_or_phase, zp, zpsys)\u001b[0m\n\u001b[1;32m    153\u001b[0m         \u001b[0mb\u001b[0m \u001b[0;34m=\u001b[0m \u001b[0mget_bandpass\u001b[0m\u001b[0;34m(\u001b[0m\u001b[0mb\u001b[0m\u001b[0;34m)\u001b[0m\u001b[0;34m\u001b[0m\u001b[0;34m\u001b[0m\u001b[0m\n\u001b[1;32m    154\u001b[0m \u001b[0;34m\u001b[0m\u001b[0m\n\u001b[0;32m--> 155\u001b[0;31m         \u001b[0mfsum\u001b[0m \u001b[0;34m=\u001b[0m \u001b[0m_bandflux_single\u001b[0m\u001b[0;34m(\u001b[0m\u001b[0mmodel\u001b[0m\u001b[0;34m,\u001b[0m \u001b[0mb\u001b[0m\u001b[0;34m,\u001b[0m \u001b[0mtime_or_phase\u001b[0m\u001b[0;34m[\u001b[0m\u001b[0mmask\u001b[0m\u001b[0;34m]\u001b[0m\u001b[0;34m)\u001b[0m\u001b[0;34m\u001b[0m\u001b[0;34m\u001b[0m\u001b[0m\n\u001b[0m\u001b[1;32m    156\u001b[0m \u001b[0;34m\u001b[0m\u001b[0m\n\u001b[1;32m    157\u001b[0m         \u001b[0;32mif\u001b[0m \u001b[0mzp\u001b[0m \u001b[0;32mis\u001b[0m \u001b[0;32mnot\u001b[0m \u001b[0;32mNone\u001b[0m\u001b[0;34m:\u001b[0m\u001b[0;34m\u001b[0m\u001b[0;34m\u001b[0m\u001b[0m\n",
      "\u001b[0;32m~/anaconda3/lib/python3.7/site-packages/sncosmo/models.py\u001b[0m in \u001b[0;36m_bandflux_single\u001b[0;34m(model, band, time_or_phase)\u001b[0m\n\u001b[1;32m    108\u001b[0m                          \u001b[0;34m'outside spectral range [{3:.6g}, .., {4:.6g}]'\u001b[0m\u001b[0;34m\u001b[0m\u001b[0;34m\u001b[0m\u001b[0m\n\u001b[1;32m    109\u001b[0m                          .format(band.name, band.minwave(), band.maxwave(),\n\u001b[0;32m--> 110\u001b[0;31m                                  model.minwave(), model.maxwave()))\n\u001b[0m\u001b[1;32m    111\u001b[0m \u001b[0;34m\u001b[0m\u001b[0m\n\u001b[1;32m    112\u001b[0m     \u001b[0;31m# Set up wavelength grid. Spacing (dwave) evenly divides the bandpass,\u001b[0m\u001b[0;34m\u001b[0m\u001b[0;34m\u001b[0m\u001b[0;34m\u001b[0m\u001b[0m\n",
      "\u001b[0;31mValueError\u001b[0m: bandpass 'lsstg' [3866, .., 5670] outside spectral range [4000, .., 22000]"
     ]
    }
   ],
   "source": [
    "z_source = 1.0\n",
    "bandpass = 'lsstg'\n",
    "times = np.linspace(-50, 250, 1000)\n",
    "\n",
    "for i in range(100):\n",
    "    \n",
    "    model, _, _, _, _ = light_curve(z_source)\n",
    "    mags = model.bandmag(bandpass, time=times, magsys='ab')\n",
    "\n",
    "    plt.plot(times, mags, color='midnightblue', alpha=0.1)\n",
    "    \n",
    "plt.gca().invert_yaxis()\n",
    "plt.xlabel(\"time (days)\")\n",
    "plt.ylabel(\"Apparent magnitude\")"
   ]
  },
  {
   "cell_type": "code",
   "execution_count": 76,
   "id": "826877c1",
   "metadata": {},
   "outputs": [
    {
     "name": "stdout",
     "output_type": "stream",
     "text": [
      "[[0.09299357 0.51958572 0.45701584]\n",
      " [0.2234336  0.65210602 0.89592518]\n",
      " [0.95773602 1.30777242 0.39025655]\n",
      " ...\n",
      " [0.73498757 1.12151126 0.23338135]\n",
      " [0.61615153 0.59518547 0.04110726]\n",
      " [0.07425625 1.08639629 0.65286454]]\n",
      "0.8309718924714712\n"
     ]
    },
    {
     "data": {
      "image/png": "[encoded data removed]",
      "text/plain": [
       "<Figure size 432x288 with 1 Axes>"
      ]
     },
     "metadata": {
      "needs_background": "light"
     },
     "output_type": "display_data"
    }
   ],
   "source": [
    "data = np.load(\"../data/sample_zl_zsn_theta.npz\")['zlens_zSN_theta']\n",
    "\n",
    "print((data))\n",
    "zs = data[:,1]\n",
    "\n",
    "plt.figure(2)\n",
    "plt.hist(zs, bins=100)\n",
    "\n",
    "print(len(zs[zs > 2]) / len(zs) * 100)"
   ]
  },
  {
   "cell_type": "code",
   "execution_count": 78,
   "id": "93ca4b97",
   "metadata": {},
   "outputs": [
    {
     "name": "stdout",
     "output_type": "stream",
     "text": [
      "1109021.5843106203\n"
     ]
    }
   ],
   "source": [
    "zeropoint = sncosmo.ABMagSystem(name='ab').zpbandflux('ztfr')\n",
    "print(zeropoint)"
   ]
  },
  {
   "cell_type": "code",
   "execution_count": 79,
   "id": "8ce0087c",
   "metadata": {},
   "outputs": [
    {
     "name": "stdout",
     "output_type": "stream",
     "text": [
      "Downloading http://sncosmo.github.io/data/bandpasses/ztf/P48_g.dat [Done]\n",
      "1256598.9579155657\n"
     ]
    }
   ],
   "source": [
    "zeropoint = sncosmo.ABMagSystem(name='ab').zpbandflux('ztfg')\n",
    "print(zeropoint)"
   ]
  },
  {
   "cell_type": "code",
   "execution_count": null,
   "id": "01974e9b",
   "metadata": {},
   "outputs": [],
   "source": [
    "'baseline_v2.0_10yrs.db'"
   ]
  }
 ],
 "metadata": {
  "kernelspec": {
   "display_name": "Python 3 (ipykernel)",
   "language": "python",
   "name": "python3"
  },
  "language_info": {
   "codemirror_mode": {
    "name": "ipython",
    "version": 3
   },
   "file_extension": ".py",
   "mimetype": "text/x-python",
   "name": "python",
   "nbconvert_exporter": "python",
   "pygments_lexer": "ipython3",
   "version": "3.7.1"
  }
 },
 "nbformat": 4,
 "nbformat_minor": 5
}
