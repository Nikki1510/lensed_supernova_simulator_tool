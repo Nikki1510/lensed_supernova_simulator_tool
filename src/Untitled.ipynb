{
 "cells": [
  {
   "cell_type": "code",
   "execution_count": 39,
   "id": "0d49793b",
   "metadata": {},
   "outputs": [],
   "source": [
    "from class_microlensing import Microlensing\n",
    "import numpy as np\n",
    "import sys\n",
    "import time\n",
    "import matplotlib.pyplot as plt\n",
    "from tqdm import tqdm\n",
    "plt.rc(\"font\", family=\"serif\")\n",
    "plt.rc(\"text\", usetex=True)\n",
    "from astropy.cosmology import FlatLambdaCDM"
   ]
  },
  {
   "cell_type": "code",
   "execution_count": 14,
   "id": "7a5b6f4e",
   "metadata": {},
   "outputs": [
    {
     "name": "stderr",
     "output_type": "stream",
     "text": [
      "100%|███████████████████████████████████████████████| 100/100 [00:53<00:00,  1.87it/s]\n",
      "100%|███████████████████████████████████████████████| 500/500 [01:49<00:00,  4.66it/s]"
     ]
    }
   ],
   "source": [
    "M = Microlensing(1, 1, 1, 1, 1, 1, 1, 1, 1)\n",
    "kgs = [0.362000, 0.280000, 0.910]\n",
    "\n",
    "peak_contr = []\n",
    "\n",
    "N_runs = 500\n",
    "tqdm._instances.clear()\n",
    "pbar = tqdm(total=N_runs, position=0, leave=True)\n",
    "\n",
    "for n in range(N_runs):\n",
    "    SN_model = np.random.choice([\"m\", \"n\", \"w\", \"s\"])\n",
    "    curves = M.micro_lightcurve(kgs, source_redshift=0.8, SN_model=SN_model)\n",
    "    peak_contr.append(curves['micro_i'][20] - curves['macro_i'][20])\n",
    "    pbar.update(1)"
   ]
  },
  {
   "cell_type": "code",
   "execution_count": null,
   "id": "ae7724a9",
   "metadata": {},
   "outputs": [],
   "source": [
    "# print(peak_contr)"
   ]
  },
  {
   "cell_type": "code",
   "execution_count": 17,
   "id": "f51cfd7a",
   "metadata": {},
   "outputs": [
    {
     "name": "stdout",
     "output_type": "stream",
     "text": [
      "Mean:  0.02183600000000029\n",
      "Median:  0.0940000000000012\n"
     ]
    }
   ],
   "source": [
    "print(\"Mean: \", np.mean(peak_contr))\n",
    "print(\"Median: \", np.median(peak_contr))"
   ]
  },
  {
   "cell_type": "code",
   "execution_count": 16,
   "id": "2707850c",
   "metadata": {},
   "outputs": [
    {
     "data": {
      "text/plain": [
       "<matplotlib.lines.Line2D at 0x7fef90d1ceb8>"
      ]
     },
     "execution_count": 16,
     "metadata": {},
     "output_type": "execute_result"
    },
    {
     "data": {
      "image/png": "[encoded data removed]",
      "text/plain": [
       "<Figure size 640x480 with 1 Axes>"
      ]
     },
     "metadata": {},
     "output_type": "display_data"
    }
   ],
   "source": [
    "plt.hist(peak_contr, bins=30)\n",
    "plt.axvline(x=0, color='red')"
   ]
  },
  {
   "cell_type": "code",
   "execution_count": 26,
   "id": "be9b3621",
   "metadata": {},
   "outputs": [
    {
     "name": "stderr",
     "output_type": "stream",
     "text": [
      "100%|███████████████████████████████████████████████| 500/500 [06:12<00:00,  1.34it/s]\n",
      "100%|█████████████████████████████████████████████| 2000/2000 [07:08<00:00,  4.26it/s]"
     ]
    }
   ],
   "source": [
    "M = Microlensing(1, 1, 1, 1, 1, 1, 1, 1, 1)\n",
    "kgs = [9.564962670984238358e-01, 9.517424234642006819e-01, 4.430360463808165061e-01]\n",
    "\n",
    "peak_contr = []\n",
    "\n",
    "N_runs = 2000\n",
    "tqdm._instances.clear()\n",
    "pbar = tqdm(total=N_runs, position=0, leave=True)\n",
    "\n",
    "for n in range(N_runs):\n",
    "    SN_model = np.random.choice([\"m\", \"n\", \"w\", \"s\"])\n",
    "    curves = M.micro_lightcurve(kgs, source_redshift=0.8, SN_model=SN_model)\n",
    "    peak_contr.append(np.median(curves['micro_i'] - curves['macro_i']))\n",
    "    pbar.update(1)"
   ]
  },
  {
   "cell_type": "code",
   "execution_count": 38,
   "id": "434c1b69",
   "metadata": {},
   "outputs": [
    {
     "name": "stdout",
     "output_type": "stream",
     "text": [
      "Mean delta m_i:  0.413506\n",
      "Median delta m_i:  0.5249999999999986\n"
     ]
    },
    {
     "data": {
      "image/png": "[encoded data removed]",
      "text/plain": [
       "<Figure size 640x480 with 1 Axes>"
      ]
     },
     "metadata": {},
     "output_type": "display_data"
    }
   ],
   "source": [
    "plt.hist(peak_contr, bins=40, alpha=0.6)\n",
    "plt.axvline(x=0, color='C3', lw=2)\n",
    "plt.xlabel(r\"$\\Delta m_i$\", fontsize=20)\n",
    "plt.text(-3, 130, r\"mean $\\Delta m_i = $ \" + str(np.around(np.mean(peak_contr), 2)), fontsize=16)\n",
    "plt.text(-3, 110, r\"median $\\Delta m_i = $ \" + str(np.around(np.median(peak_contr), 2)), fontsize=16)\n",
    "# plt.savefig(\"../Results/Figures/ml4im_DeltaMi.png\", transparent=False, facecolor='white', dpi=250, bbox_inches='tight')\n",
    "\n",
    "print(\"Mean delta m_i: \", np.mean(peak_contr))\n",
    "print(\"Median delta m_i: \", np.median(peak_contr))"
   ]
  },
  {
   "cell_type": "code",
   "execution_count": 23,
   "id": "72a2df36",
   "metadata": {},
   "outputs": [
    {
     "data": {
      "text/plain": [
       "[0.7720000000000002,\n",
       " 0.8049999999999997,\n",
       " 1.0070000000000014,\n",
       " 1.3889999999999993,\n",
       " -0.3050000000000015,\n",
       " 0.9490000000000016,\n",
       " -0.14899999999999913,\n",
       " 1.3249999999999993,\n",
       " 0.7810000000000024,\n",
       " 1.0779999999999994]"
      ]
     },
     "execution_count": 23,
     "metadata": {},
     "output_type": "execute_result"
    }
   ],
   "source": [
    " peak_contr"
   ]
  },
  {
   "cell_type": "code",
   "execution_count": 49,
   "id": "c6f79fc5",
   "metadata": {},
   "outputs": [
    {
     "name": "stdout",
     "output_type": "stream",
     "text": [
      "21.617740546895014\n",
      "[21.96922425 21.96922425]\n"
     ]
    }
   ],
   "source": [
    "M = -19.4\n",
    "z_lens = 0.3\n",
    "z_source = 0.9\n",
    "H_0 = 67.8\n",
    "cosmo = FlatLambdaCDM(H0=H_0, Om0=0.315)\n",
    "macro_mag = np.array([1, 1]) * 10\n",
    "\n",
    "m = M + cosmo.distmod(z_source).value\n",
    "ml = M + cosmo.distmod(z_lens).value\n",
    "m -= 2.5 * np.log10(macro_mag)\n",
    "\n",
    "\n",
    "print(ml)\n",
    "print(m)"
   ]
  },
  {
   "cell_type": "code",
   "execution_count": 50,
   "id": "5cebff3e",
   "metadata": {},
   "outputs": [],
   "source": [
    "import traceback"
   ]
  },
  {
   "cell_type": "code",
   "execution_count": 54,
   "id": "1073258f",
   "metadata": {},
   "outputs": [
    {
     "ename": "ValueError",
     "evalue": "zero-size array to reduction operation maximum which has no identity",
     "output_type": "error",
     "traceback": [
      "\u001b[0;31m---------------------------------------------------------------------------\u001b[0m",
      "\u001b[0;31mValueError\u001b[0m                                Traceback (most recent call last)",
      "\u001b[0;32m/var/folders/6x/j1tbqdk91439t5vn1y800sb40000gn/T/ipykernel_71967/30527220.py\u001b[0m in \u001b[0;36m<module>\u001b[0;34m\u001b[0m\n\u001b[1;32m      1\u001b[0m \u001b[0mobs_snr\u001b[0m \u001b[0;34m=\u001b[0m \u001b[0mnp\u001b[0m\u001b[0;34m.\u001b[0m\u001b[0marray\u001b[0m\u001b[0;34m(\u001b[0m\u001b[0;34m[\u001b[0m\u001b[0;36m1\u001b[0m\u001b[0;34m,\u001b[0m\u001b[0;36m2\u001b[0m\u001b[0;34m,\u001b[0m\u001b[0;36m3\u001b[0m\u001b[0;34m]\u001b[0m\u001b[0;34m)\u001b[0m\u001b[0;34m\u001b[0m\u001b[0;34m\u001b[0m\u001b[0m\n\u001b[1;32m      2\u001b[0m \u001b[0mobs_snr\u001b[0m \u001b[0;34m=\u001b[0m \u001b[0mnp\u001b[0m\u001b[0;34m.\u001b[0m\u001b[0marray\u001b[0m\u001b[0;34m(\u001b[0m\u001b[0;34m[\u001b[0m\u001b[0;34m]\u001b[0m\u001b[0;34m)\u001b[0m\u001b[0;34m\u001b[0m\u001b[0;34m\u001b[0m\u001b[0m\n\u001b[0;32m----> 3\u001b[0;31m \u001b[0mprint\u001b[0m\u001b[0;34m(\u001b[0m\u001b[0mnp\u001b[0m\u001b[0;34m.\u001b[0m\u001b[0mmax\u001b[0m\u001b[0;34m(\u001b[0m\u001b[0mobs_snr\u001b[0m\u001b[0;34m,\u001b[0m \u001b[0;36m0\u001b[0m\u001b[0;34m)\u001b[0m\u001b[0;34m)\u001b[0m\u001b[0;34m\u001b[0m\u001b[0;34m\u001b[0m\u001b[0m\n\u001b[0m",
      "\u001b[0;32m<__array_function__ internals>\u001b[0m in \u001b[0;36mamax\u001b[0;34m(*args, **kwargs)\u001b[0m\n",
      "\u001b[0;32m~/anaconda3/lib/python3.7/site-packages/numpy/core/fromnumeric.py\u001b[0m in \u001b[0;36mamax\u001b[0;34m(a, axis, out, keepdims, initial, where)\u001b[0m\n\u001b[1;32m   2753\u001b[0m     \"\"\"\n\u001b[1;32m   2754\u001b[0m     return _wrapreduction(a, np.maximum, 'max', axis, None, out,\n\u001b[0;32m-> 2755\u001b[0;31m                           keepdims=keepdims, initial=initial, where=where)\n\u001b[0m\u001b[1;32m   2756\u001b[0m \u001b[0;34m\u001b[0m\u001b[0m\n\u001b[1;32m   2757\u001b[0m \u001b[0;34m\u001b[0m\u001b[0m\n",
      "\u001b[0;32m~/anaconda3/lib/python3.7/site-packages/numpy/core/fromnumeric.py\u001b[0m in \u001b[0;36m_wrapreduction\u001b[0;34m(obj, ufunc, method, axis, dtype, out, **kwargs)\u001b[0m\n\u001b[1;32m     84\u001b[0m                 \u001b[0;32mreturn\u001b[0m \u001b[0mreduction\u001b[0m\u001b[0;34m(\u001b[0m\u001b[0maxis\u001b[0m\u001b[0;34m=\u001b[0m\u001b[0maxis\u001b[0m\u001b[0;34m,\u001b[0m \u001b[0mout\u001b[0m\u001b[0;34m=\u001b[0m\u001b[0mout\u001b[0m\u001b[0;34m,\u001b[0m \u001b[0;34m**\u001b[0m\u001b[0mpasskwargs\u001b[0m\u001b[0;34m)\u001b[0m\u001b[0;34m\u001b[0m\u001b[0;34m\u001b[0m\u001b[0m\n\u001b[1;32m     85\u001b[0m \u001b[0;34m\u001b[0m\u001b[0m\n\u001b[0;32m---> 86\u001b[0;31m     \u001b[0;32mreturn\u001b[0m \u001b[0mufunc\u001b[0m\u001b[0;34m.\u001b[0m\u001b[0mreduce\u001b[0m\u001b[0;34m(\u001b[0m\u001b[0mobj\u001b[0m\u001b[0;34m,\u001b[0m \u001b[0maxis\u001b[0m\u001b[0;34m,\u001b[0m \u001b[0mdtype\u001b[0m\u001b[0;34m,\u001b[0m \u001b[0mout\u001b[0m\u001b[0;34m,\u001b[0m \u001b[0;34m**\u001b[0m\u001b[0mpasskwargs\u001b[0m\u001b[0;34m)\u001b[0m\u001b[0;34m\u001b[0m\u001b[0;34m\u001b[0m\u001b[0m\n\u001b[0m\u001b[1;32m     87\u001b[0m \u001b[0;34m\u001b[0m\u001b[0m\n\u001b[1;32m     88\u001b[0m \u001b[0;34m\u001b[0m\u001b[0m\n",
      "\u001b[0;31mValueError\u001b[0m: zero-size array to reduction operation maximum which has no identity"
     ]
    }
   ],
   "source": [
    "\n",
    "\n",
    "m = M_i + cosmo.distmod(z_lens).value"
   ]
  },
  {
   "cell_type": "code",
   "execution_count": 1,
   "id": "bae336f9",
   "metadata": {},
   "outputs": [
    {
     "name": "stdout",
     "output_type": "stream",
     "text": [
      "-19.430890277575692\n"
     ]
    }
   ],
   "source": [
    "import numpy as np\n",
    "\n",
    "H_0_fid = 74.03                                  \n",
    "M_fid = -19.24  \n",
    "H_0 = 67.8\n",
    "\n",
    "M_cosmo = 5 * np.log10(H_0 / H_0_fid) + M_fid  \n",
    "\n",
    "print(M_cosmo)"
   ]
  },
  {
   "cell_type": "code",
   "execution_count": null,
   "id": "cd4fbc90",
   "metadata": {},
   "outputs": [],
   "source": []
  }
 ],
 "metadata": {
  "kernelspec": {
   "display_name": "Python 3 (ipykernel)",
   "language": "python",
   "name": "python3"
  },
  "language_info": {
   "codemirror_mode": {
    "name": "ipython",
    "version": 3
   },
   "file_extension": ".py",
   "mimetype": "text/x-python",
   "name": "python",
   "nbconvert_exporter": "python",
   "pygments_lexer": "ipython3",
   "version": "3.7.1"
  }
 },
 "nbformat": 4,
 "nbformat_minor": 5
}
