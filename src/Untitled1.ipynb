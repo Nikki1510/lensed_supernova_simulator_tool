{
 "cells": [
  {
   "cell_type": "code",
   "execution_count": 1,
   "id": "67fea24a",
   "metadata": {},
   "outputs": [],
   "source": [
    "import numpy as np\n",
    "import pandas as pd\n",
    "import pickle\n",
    "import matplotlib.pyplot as plt\n",
    "import os\n",
    "import seaborn\n",
    "from matplotlib.lines import Line2D\n",
    "from astropy.cosmology import Planck18\n",
    "plt.rc(\"font\", family=\"serif\")\n",
    "plt.rc(\"text\", usetex=True)\n",
    "import warnings\n",
    "warnings.filterwarnings('ignore')\n",
    "import astropy.coordinates as coord\n",
    "import astropy.units as u\n",
    "import corner\n",
    "import seaborn as sns"
   ]
  },
  {
   "cell_type": "code",
   "execution_count": null,
   "id": "5408207a",
   "metadata": {},
   "outputs": [],
   "source": [
    "with open('../processed_data/Baseline_v_3_0/Baselinev30_NEW_large_numimages=2_batch001.pkl', 'rb') as f:\n",
    "    doubles = pickle.load(f)\n",
    "with open('../processed_data/Baseline_v_3_0/Baselinev30_NEW_large_numimages=4_batch001.pkl', 'rb') as f:\n",
    "    quads = pickle.load(f)\n",
    "with open('../processed_data/Baseline_v_3_0/Baselinev30_unlensed_gband_batch001.pkl', 'rb') as f:\n",
    "    sne = pickle.load(f)\n",
    "    \n",
    "print(\"Doubles: \", len(doubles))\n",
    "print(\"Quads: \", len(quads))\n",
    "print(\"Unlensed: \", len(sne))"
   ]
  }
 ],
 "metadata": {
  "kernelspec": {
   "display_name": "Python 3 (ipykernel)",
   "language": "python",
   "name": "python3"
  },
  "language_info": {
   "codemirror_mode": {
    "name": "ipython",
    "version": 3
   },
   "file_extension": ".py",
   "mimetype": "text/x-python",
   "name": "python",
   "nbconvert_exporter": "python",
   "pygments_lexer": "ipython3",
   "version": "3.7.1"
  }
 },
 "nbformat": 4,
 "nbformat_minor": 5
}
