{
 "cells": [
  {
   "cell_type": "code",
   "execution_count": 67,
   "id": "cd97ecd2",
   "metadata": {},
   "outputs": [],
   "source": [
    "import numpy as np\n",
    "import sncosmo\n",
    "import matplotlib.pyplot as plt\n",
    "import pandas as pd\n",
    "import scipy.stats as stats\n",
    "from astropy.cosmology import FlatLambdaCDM\n",
    "import matplotlib.pyplot as plt\n",
    "import warnings\n",
    "warnings.filterwarnings('ignore')\n",
    "plt.rc(\"font\", family=\"serif\")\n",
    "plt.rc(\"text\", usetex=True)\n",
    "\n",
    "import os\n",
    "import opsimsummary as oss\n",
    "import healpy as hp\n",
    "from opsimsummary import SynOpSim\n",
    "import numpy as np\n",
    "import matplotlib.pyplot as plt\n",
    "import astropy.coordinates as coord\n",
    "import astropy.units as u\n",
    "import pickle\n",
    "plt.rc(\"font\", family=\"serif\")\n",
    "plt.rc(\"text\", usetex=True)"
   ]
  },
  {
   "cell_type": "code",
   "execution_count": 2,
   "id": "4ac7536e",
   "metadata": {},
   "outputs": [],
   "source": [
    "# Convert from flux to magnitude\n",
    "\n",
    "def mag(flux):\n",
    "    return -2.5 * np.log10(flux / 1256598)"
   ]
  },
  {
   "cell_type": "code",
   "execution_count": 51,
   "id": "83a4d0eb",
   "metadata": {},
   "outputs": [
    {
     "data": {
      "text/html": [
       "<div>\n",
       "<style scoped>\n",
       "    .dataframe tbody tr th:only-of-type {\n",
       "        vertical-align: middle;\n",
       "    }\n",
       "\n",
       "    .dataframe tbody tr th {\n",
       "        vertical-align: top;\n",
       "    }\n",
       "\n",
       "    .dataframe thead th {\n",
       "        text-align: right;\n",
       "    }\n",
       "</style>\n",
       "<table border=\"1\" class=\"dataframe\">\n",
       "  <thead>\n",
       "    <tr style=\"text-align: right;\">\n",
       "      <th></th>\n",
       "      <th>mjd</th>\n",
       "      <th>filter</th>\n",
       "      <th>flux</th>\n",
       "      <th>fluxerr</th>\n",
       "      <th>zp</th>\n",
       "      <th>magsys</th>\n",
       "      <th>lim_mag</th>\n",
       "      <th>stacked</th>\n",
       "    </tr>\n",
       "  </thead>\n",
       "  <tbody>\n",
       "    <tr>\n",
       "      <th>0</th>\n",
       "      <td>59815.190509</td>\n",
       "      <td>sdssu</td>\n",
       "      <td>NaN</td>\n",
       "      <td>3.169786</td>\n",
       "      <td>23.9</td>\n",
       "      <td>ab</td>\n",
       "      <td>21.454622</td>\n",
       "      <td>0</td>\n",
       "    </tr>\n",
       "    <tr>\n",
       "      <th>1</th>\n",
       "      <td>59812.331663</td>\n",
       "      <td>sdssu</td>\n",
       "      <td>NaN</td>\n",
       "      <td>12.619147</td>\n",
       "      <td>23.9</td>\n",
       "      <td>ab</td>\n",
       "      <td>19.954622</td>\n",
       "      <td>0</td>\n",
       "    </tr>\n",
       "    <tr>\n",
       "      <th>2</th>\n",
       "      <td>59813.280702</td>\n",
       "      <td>sdssu</td>\n",
       "      <td>NaN</td>\n",
       "      <td>8.730317</td>\n",
       "      <td>23.9</td>\n",
       "      <td>ab</td>\n",
       "      <td>20.354622</td>\n",
       "      <td>0</td>\n",
       "    </tr>\n",
       "    <tr>\n",
       "      <th>3</th>\n",
       "      <td>59825.879379</td>\n",
       "      <td>sdssg</td>\n",
       "      <td>29.403566</td>\n",
       "      <td>3.114394</td>\n",
       "      <td>23.9</td>\n",
       "      <td>ab</td>\n",
       "      <td>21.473763</td>\n",
       "      <td>0</td>\n",
       "    </tr>\n",
       "    <tr>\n",
       "      <th>4</th>\n",
       "      <td>59827.888462</td>\n",
       "      <td>sdssg</td>\n",
       "      <td>29.160838</td>\n",
       "      <td>3.034968</td>\n",
       "      <td>23.9</td>\n",
       "      <td>ab</td>\n",
       "      <td>21.501812</td>\n",
       "      <td>0</td>\n",
       "    </tr>\n",
       "    <tr>\n",
       "      <th>...</th>\n",
       "      <td>...</td>\n",
       "      <td>...</td>\n",
       "      <td>...</td>\n",
       "      <td>...</td>\n",
       "      <td>...</td>\n",
       "      <td>...</td>\n",
       "      <td>...</td>\n",
       "      <td>...</td>\n",
       "    </tr>\n",
       "    <tr>\n",
       "      <th>423</th>\n",
       "      <td>59861.834464</td>\n",
       "      <td>sdssz</td>\n",
       "      <td>40.204302</td>\n",
       "      <td>5.097052</td>\n",
       "      <td>23.9</td>\n",
       "      <td>ab</td>\n",
       "      <td>20.938899</td>\n",
       "      <td>0</td>\n",
       "    </tr>\n",
       "    <tr>\n",
       "      <th>424</th>\n",
       "      <td>59861.847690</td>\n",
       "      <td>sdssz</td>\n",
       "      <td>33.712582</td>\n",
       "      <td>5.165116</td>\n",
       "      <td>23.9</td>\n",
       "      <td>ab</td>\n",
       "      <td>20.924497</td>\n",
       "      <td>0</td>\n",
       "    </tr>\n",
       "    <tr>\n",
       "      <th>425</th>\n",
       "      <td>59871.823675</td>\n",
       "      <td>sdssz</td>\n",
       "      <td>27.037684</td>\n",
       "      <td>3.594215</td>\n",
       "      <td>23.9</td>\n",
       "      <td>ab</td>\n",
       "      <td>21.318187</td>\n",
       "      <td>0</td>\n",
       "    </tr>\n",
       "    <tr>\n",
       "      <th>426</th>\n",
       "      <td>59879.832515</td>\n",
       "      <td>sdssz</td>\n",
       "      <td>20.209941</td>\n",
       "      <td>6.919475</td>\n",
       "      <td>23.9</td>\n",
       "      <td>ab</td>\n",
       "      <td>20.607014</td>\n",
       "      <td>0</td>\n",
       "    </tr>\n",
       "    <tr>\n",
       "      <th>427</th>\n",
       "      <td>59871.836926</td>\n",
       "      <td>sdssz</td>\n",
       "      <td>27.958422</td>\n",
       "      <td>5.759672</td>\n",
       "      <td>23.9</td>\n",
       "      <td>ab</td>\n",
       "      <td>20.806203</td>\n",
       "      <td>0</td>\n",
       "    </tr>\n",
       "  </tbody>\n",
       "</table>\n",
       "<p>428 rows × 8 columns</p>\n",
       "</div>"
      ],
      "text/plain": [
       "              mjd filter       flux    fluxerr    zp magsys    lim_mag  \\\n",
       "0    59815.190509  sdssu        NaN   3.169786  23.9     ab  21.454622   \n",
       "1    59812.331663  sdssu        NaN  12.619147  23.9     ab  19.954622   \n",
       "2    59813.280702  sdssu        NaN   8.730317  23.9     ab  20.354622   \n",
       "3    59825.879379  sdssg  29.403566   3.114394  23.9     ab  21.473763   \n",
       "4    59827.888462  sdssg  29.160838   3.034968  23.9     ab  21.501812   \n",
       "..            ...    ...        ...        ...   ...    ...        ...   \n",
       "423  59861.834464  sdssz  40.204302   5.097052  23.9     ab  20.938899   \n",
       "424  59861.847690  sdssz  33.712582   5.165116  23.9     ab  20.924497   \n",
       "425  59871.823675  sdssz  27.037684   3.594215  23.9     ab  21.318187   \n",
       "426  59879.832515  sdssz  20.209941   6.919475  23.9     ab  20.607014   \n",
       "427  59871.836926  sdssz  27.958422   5.759672  23.9     ab  20.806203   \n",
       "\n",
       "     stacked  \n",
       "0          0  \n",
       "1          0  \n",
       "2          0  \n",
       "3          0  \n",
       "4          0  \n",
       "..       ...  \n",
       "423        0  \n",
       "424        0  \n",
       "425        0  \n",
       "426        0  \n",
       "427        0  \n",
       "\n",
       "[428 rows x 8 columns]"
      ]
     },
     "execution_count": 51,
     "metadata": {},
     "output_type": "execute_result"
    }
   ],
   "source": [
    "lc2 = pd.read_csv('../data/ZTF22aaylnhq_ZTF.csv')\n",
    "lc = pd.read_csv('../data/ZTF2022qmx.csv')\n",
    "lc2"
   ]
  },
  {
   "cell_type": "code",
   "execution_count": 52,
   "id": "668b9658",
   "metadata": {},
   "outputs": [
    {
     "data": {
      "text/html": [
       "<div>\n",
       "<style scoped>\n",
       "    .dataframe tbody tr th:only-of-type {\n",
       "        vertical-align: middle;\n",
       "    }\n",
       "\n",
       "    .dataframe tbody tr th {\n",
       "        vertical-align: top;\n",
       "    }\n",
       "\n",
       "    .dataframe thead th {\n",
       "        text-align: right;\n",
       "    }\n",
       "</style>\n",
       "<table border=\"1\" class=\"dataframe\">\n",
       "  <thead>\n",
       "    <tr style=\"text-align: right;\">\n",
       "      <th></th>\n",
       "      <th>mjd</th>\n",
       "      <th>filter</th>\n",
       "      <th>flux</th>\n",
       "      <th>fluxerr</th>\n",
       "      <th>zp</th>\n",
       "      <th>magsys</th>\n",
       "      <th>lim_mag</th>\n",
       "      <th>stacked</th>\n",
       "    </tr>\n",
       "  </thead>\n",
       "  <tbody>\n",
       "    <tr>\n",
       "      <th>199</th>\n",
       "      <td>59816.175243</td>\n",
       "      <td>ztfr</td>\n",
       "      <td>111.255051</td>\n",
       "      <td>8.666271</td>\n",
       "      <td>23.9</td>\n",
       "      <td>ab</td>\n",
       "      <td>20.362616</td>\n",
       "      <td>0</td>\n",
       "    </tr>\n",
       "    <tr>\n",
       "      <th>200</th>\n",
       "      <td>59816.175243</td>\n",
       "      <td>ztfr</td>\n",
       "      <td>111.255441</td>\n",
       "      <td>8.666280</td>\n",
       "      <td>23.9</td>\n",
       "      <td>ab</td>\n",
       "      <td>20.362615</td>\n",
       "      <td>0</td>\n",
       "    </tr>\n",
       "    <tr>\n",
       "      <th>201</th>\n",
       "      <td>59816.175243</td>\n",
       "      <td>ztfr</td>\n",
       "      <td>111.255417</td>\n",
       "      <td>8.666278</td>\n",
       "      <td>23.9</td>\n",
       "      <td>ab</td>\n",
       "      <td>20.362615</td>\n",
       "      <td>0</td>\n",
       "    </tr>\n",
       "    <tr>\n",
       "      <th>203</th>\n",
       "      <td>59817.197974</td>\n",
       "      <td>ztfr</td>\n",
       "      <td>107.330780</td>\n",
       "      <td>7.559863</td>\n",
       "      <td>23.9</td>\n",
       "      <td>ab</td>\n",
       "      <td>20.510912</td>\n",
       "      <td>0</td>\n",
       "    </tr>\n",
       "    <tr>\n",
       "      <th>204</th>\n",
       "      <td>59829.151771</td>\n",
       "      <td>ztfr</td>\n",
       "      <td>75.364116</td>\n",
       "      <td>11.215698</td>\n",
       "      <td>23.9</td>\n",
       "      <td>ab</td>\n",
       "      <td>20.082631</td>\n",
       "      <td>0</td>\n",
       "    </tr>\n",
       "    <tr>\n",
       "      <th>...</th>\n",
       "      <td>...</td>\n",
       "      <td>...</td>\n",
       "      <td>...</td>\n",
       "      <td>...</td>\n",
       "      <td>...</td>\n",
       "      <td>...</td>\n",
       "      <td>...</td>\n",
       "      <td>...</td>\n",
       "    </tr>\n",
       "    <tr>\n",
       "      <th>309</th>\n",
       "      <td>59808.223333</td>\n",
       "      <td>ztfr</td>\n",
       "      <td>119.857106</td>\n",
       "      <td>12.461052</td>\n",
       "      <td>23.9</td>\n",
       "      <td>ab</td>\n",
       "      <td>19.968310</td>\n",
       "      <td>0</td>\n",
       "    </tr>\n",
       "    <tr>\n",
       "      <th>310</th>\n",
       "      <td>59807.279329</td>\n",
       "      <td>ztfr</td>\n",
       "      <td>126.333878</td>\n",
       "      <td>11.122526</td>\n",
       "      <td>23.9</td>\n",
       "      <td>ab</td>\n",
       "      <td>20.091688</td>\n",
       "      <td>0</td>\n",
       "    </tr>\n",
       "    <tr>\n",
       "      <th>311</th>\n",
       "      <td>59806.192523</td>\n",
       "      <td>ztfr</td>\n",
       "      <td>128.826766</td>\n",
       "      <td>8.716795</td>\n",
       "      <td>23.9</td>\n",
       "      <td>ab</td>\n",
       "      <td>20.356305</td>\n",
       "      <td>0</td>\n",
       "    </tr>\n",
       "    <tr>\n",
       "      <th>313</th>\n",
       "      <td>59807.279329</td>\n",
       "      <td>ztfr</td>\n",
       "      <td>126.332132</td>\n",
       "      <td>11.122357</td>\n",
       "      <td>23.9</td>\n",
       "      <td>ab</td>\n",
       "      <td>20.091705</td>\n",
       "      <td>0</td>\n",
       "    </tr>\n",
       "    <tr>\n",
       "      <th>314</th>\n",
       "      <td>59815.171690</td>\n",
       "      <td>ztfr</td>\n",
       "      <td>110.574255</td>\n",
       "      <td>8.304775</td>\n",
       "      <td>23.9</td>\n",
       "      <td>ab</td>\n",
       "      <td>20.408877</td>\n",
       "      <td>0</td>\n",
       "    </tr>\n",
       "  </tbody>\n",
       "</table>\n",
       "<p>71 rows × 8 columns</p>\n",
       "</div>"
      ],
      "text/plain": [
       "              mjd filter        flux    fluxerr    zp magsys    lim_mag  \\\n",
       "199  59816.175243   ztfr  111.255051   8.666271  23.9     ab  20.362616   \n",
       "200  59816.175243   ztfr  111.255441   8.666280  23.9     ab  20.362615   \n",
       "201  59816.175243   ztfr  111.255417   8.666278  23.9     ab  20.362615   \n",
       "203  59817.197974   ztfr  107.330780   7.559863  23.9     ab  20.510912   \n",
       "204  59829.151771   ztfr   75.364116  11.215698  23.9     ab  20.082631   \n",
       "..            ...    ...         ...        ...   ...    ...        ...   \n",
       "309  59808.223333   ztfr  119.857106  12.461052  23.9     ab  19.968310   \n",
       "310  59807.279329   ztfr  126.333878  11.122526  23.9     ab  20.091688   \n",
       "311  59806.192523   ztfr  128.826766   8.716795  23.9     ab  20.356305   \n",
       "313  59807.279329   ztfr  126.332132  11.122357  23.9     ab  20.091705   \n",
       "314  59815.171690   ztfr  110.574255   8.304775  23.9     ab  20.408877   \n",
       "\n",
       "     stacked  \n",
       "199        0  \n",
       "200        0  \n",
       "201        0  \n",
       "203        0  \n",
       "204        0  \n",
       "..       ...  \n",
       "309        0  \n",
       "310        0  \n",
       "311        0  \n",
       "313        0  \n",
       "314        0  \n",
       "\n",
       "[71 rows x 8 columns]"
      ]
     },
     "execution_count": 52,
     "metadata": {},
     "output_type": "execute_result"
    }
   ],
   "source": [
    "ztfr = lc[(lc['filter'] == 'ztfr') & (np.isfinite(lc['mag']))]\n",
    "ztfg = lc[(lc['filter'] == 'ztfg') & (np.isfinite(lc['mag']))]\n",
    "\n",
    "ztfr2 = lc2[(lc2['filter'] == 'ztfr') & (np.isfinite(lc2['flux']))]\n",
    "ztfg2 = lc2[(lc2['filter'] == 'ztfg') & (np.isfinite(lc2['flux']))]\n",
    "ztfr2"
   ]
  },
  {
   "cell_type": "code",
   "execution_count": 53,
   "id": "b1992b1c",
   "metadata": {},
   "outputs": [
    {
     "data": {
      "text/plain": [
       "199    18.634201\n",
       "200    18.634197\n",
       "201    18.634197\n",
       "203    18.673189\n",
       "204    19.057088\n",
       "         ...    \n",
       "309    18.553341\n",
       "310    18.496200\n",
       "311    18.474985\n",
       "313    18.496215\n",
       "314    18.640865\n",
       "Name: flux, Length: 71, dtype: float64"
      ]
     },
     "execution_count": 53,
     "metadata": {},
     "output_type": "execute_result"
    }
   ],
   "source": [
    "magr2 = -2.5 * np.log10(ztfr2['flux'] / 10**9.5)\n",
    "magr2"
   ]
  },
  {
   "cell_type": "code",
   "execution_count": 83,
   "id": "599f6585",
   "metadata": {},
   "outputs": [
    {
     "data": {
      "image/png": "[encoded data removed]",
      "text/plain": [
       "<Figure size 640x480 with 1 Axes>"
      ]
     },
     "metadata": {},
     "output_type": "display_data"
    }
   ],
   "source": [
    "plt.figure(0)\n",
    "#plt.errorbar(x=ztfg['mjd'], y=ztfg['mag'], yerr=ztfg['magerr'], lw=0, elinewidth=2, label=\"ztf g\")\n",
    "#plt.errorbar(x=ztfr['mjd'], y=ztfr['mag'], yerr=ztfr['magerr'], lw=0, elinewidth=2, label=\"ztf r\")\n",
    "plt.plot(ztfr['mjd'], ztfr['mag'], 'd', label=\"ztf r\")\n",
    "plt.plot(mjd, new_mags_r, 'd', color='C1')\n",
    "#plt.legend(fontsize=16)\n",
    "plt.gca().invert_yaxis()\n",
    "plt.xlabel(\"Date (mjd)\", fontsize=18)\n",
    "plt.ylabel(\"Apparent magnitude\", fontsize=18)\n",
    "plt.show()"
   ]
  },
  {
   "cell_type": "code",
   "execution_count": 69,
   "id": "ebd4db44",
   "metadata": {},
   "outputs": [],
   "source": [
    "myopsimv3 = '../data/OpSim_databases/baseline_v3.0_10yrs.db'"
   ]
  },
  {
   "cell_type": "code",
   "execution_count": 70,
   "id": "bacaf1f2",
   "metadata": {},
   "outputs": [
    {
     "name": "stdout",
     "output_type": "stream",
     "text": [
      " reading from database sqlite:///../data/OpSim_databases/baseline_v3.0_10yrs.db\n",
      "We have filterNull set to False\n",
      "checking that summary table read in\n",
      "\n",
      "Reading in raw tables successful\n",
      "replacing names works\n",
      "dropping duplicates works\n",
      "dithered column names exists \n",
      "Changing units for fbsv2 from degrees\n"
     ]
    }
   ],
   "source": [
    "synopsim = SynOpSim.fromOpSimDB(myopsimv3, opsimversion='fbsv2', usePointingTree=True, use_proposal_table=False,\n",
    "                               subset='unique_all')"
   ]
  },
  {
   "cell_type": "code",
   "execution_count": 72,
   "id": "b700154e",
   "metadata": {},
   "outputs": [],
   "source": [
    "def flux(mag, zero_point):\n",
    "    return 10**((zero_point - mag)/2.5)\n",
    "\n",
    "def radians(degrees):\n",
    "    return degrees / 180 * np.pi"
   ]
  },
  {
   "cell_type": "code",
   "execution_count": 214,
   "id": "edf74df6",
   "metadata": {},
   "outputs": [
    {
     "name": "stdout",
     "output_type": "stream",
     "text": [
      "ra, dec:  [-145.78849904] [-44.84094392]\n"
     ]
    },
    {
     "data": {
      "image/png": "[encoded data removed]",
      "text/plain": [
       "<Figure size 1600x800 with 1 Axes>"
      ]
     },
     "metadata": {},
     "output_type": "display_data"
    }
   ],
   "source": [
    "# Sample random points on a sphere\n",
    "N = 1\n",
    "ra_points = np.random.uniform(low=-180, high=180, size=N)\n",
    "dec_points = np.arcsin(2 * np.random.uniform(size=N) - 1) / np.pi * 180\n",
    "\n",
    "dec_selection = (dec_points > -90) & (dec_points < 40)\n",
    "ra_points = ra_points[dec_selection]\n",
    "dec_points = dec_points[dec_selection]\n",
    "\n",
    "print(\"ra, dec: \", ra_points, dec_points)\n",
    "\n",
    "gen = synopsim.pointingsEnclosing(ra_points, dec_points, circRadius=0., pointingRadius=1.75, \n",
    "                                  usePointingTree=True)\n",
    "\n",
    "fig = plt.figure(figsize=(16, 8))\n",
    "ax1 = fig.add_subplot(221, projection=\"mollweide\")\n",
    "im1 = ax1.scatter(radians(ra_points), radians(dec_points), s=20, label=\"Excluded\")\n"
   ]
  },
  {
   "cell_type": "code",
   "execution_count": 215,
   "id": "41fffb3d",
   "metadata": {},
   "outputs": [
    {
     "name": "stdout",
     "output_type": "stream",
     "text": [
      "check using ptree True\n"
     ]
    }
   ],
   "source": [
    "cadence = next(gen)"
   ]
  },
  {
   "cell_type": "code",
   "execution_count": 216,
   "id": "f36c9773",
   "metadata": {},
   "outputs": [],
   "source": [
    "mjd = cadence['expMJD'][cadence['filter'] == 'r']\n",
    "\n"
   ]
  },
  {
   "cell_type": "code",
   "execution_count": 78,
   "id": "cf7343af",
   "metadata": {},
   "outputs": [
    {
     "data": {
      "text/plain": [
       "obsHistID\n",
       "1223572    62376.139728\n",
       "834634     61669.052268\n",
       "834684     61669.076261\n",
       "406257     60951.014877\n",
       "406307     60951.037807\n",
       "               ...     \n",
       "1208693    62343.159653\n",
       "309559     60763.387523\n",
       "716430     61473.399694\n",
       "397009     60936.000126\n",
       "397059     60936.024757\n",
       "Name: expMJD, Length: 814, dtype: float64"
      ]
     },
     "execution_count": 78,
     "metadata": {},
     "output_type": "execute_result"
    }
   ],
   "source": [
    "mjd"
   ]
  },
  {
   "cell_type": "code",
   "execution_count": 217,
   "id": "910163bd",
   "metadata": {},
   "outputs": [],
   "source": [
    "def light_curve(z_source):\n",
    "    \"\"\"\n",
    "    Samples light curve parameters from stretch and colour distributions based on Scolnic & Kessler (2016)\n",
    "    and returns a type Ia SN light curve model from SNcosmo.\n",
    "\n",
    "    :param z_source: redshift of the supernova\n",
    "    :return: SNcosmo model of the supernova light curve, stretch parameter, colour parameter, MW dust contribution,\n",
    "             observed absolute magnitude\n",
    "    \"\"\"\n",
    "    H_0 = 70\n",
    "    model = sncosmo.Model(source='salt3')\n",
    "    x1 = 0                               \n",
    "    c = 0\n",
    "    M_observed = -19.3\n",
    "\n",
    "    model.set(z=z_source, t0=59805, x1=x1, c=c)\n",
    "    cosmo = FlatLambdaCDM(H0=H_0, Om0=0.3, Ob0=0.05)\n",
    "    model.set_source_peakabsmag(M_observed, 'bessellb', 'ab', cosmo=cosmo)\n",
    "    x0 = model.get('x0')\n",
    "    model.set(x0=x0)\n",
    "    \n",
    "    return model\n",
    "\n",
    "z_source = 0.35\n",
    "model = light_curve(z_source)\n",
    "times = mjd - mjd.iloc[0] + ztfr['mjd'].iloc[0]\n",
    "mags_r = model.bandmag('ztfr', time=times, magsys='ab')\n",
    "\n",
    "mu = 19\n",
    "new_mags_r = mags_r - 2.5 * np.log10(mu)\n"
   ]
  },
  {
   "cell_type": "code",
   "execution_count": 229,
   "id": "85ea2c38",
   "metadata": {},
   "outputs": [
    {
     "data": {
      "image/png": "[encoded data removed]",
      "text/plain": [
       "<Figure size 640x480 with 1 Axes>"
      ]
     },
     "metadata": {},
     "output_type": "display_data"
    }
   ],
   "source": [
    "plt.figure(0)\n",
    "#plt.errorbar(x=ztfg['mjd'], y=ztfg['mag'], yerr=ztfg['magerr'], lw=0, elinewidth=2, label=\"ztf g\")\n",
    "#plt.errorbar(x=ztfr['mjd'], y=ztfr['mag'], yerr=ztfr['magerr'], lw=0, elinewidth=2, label=\"ztf r\")\n",
    "plt.plot(ztfr['mjd'], ztfr['mag'], 'd', label=\"ztf r\", ms=10)\n",
    "#plt.plot(times + 3.5, new_mags_r, 'd', color='C1')\n",
    "#plt.legend(fontsize=16)\n",
    "plt.gca().invert_yaxis()\n",
    "plt.xlabel(\"Date (mjd)\", fontsize=18)\n",
    "plt.ylabel(\"Apparent magnitude\", fontsize=18)\n",
    "plt.xlim(59790, 59830)\n",
    "plt.ylim(20.2, 18.4)\n",
    "#plt.savefig(\"../results/figures/LC_cadence_ZTF.png\", transparent=False, facecolor='white', dpi=250, bbox_inches='tight')\n",
    "plt.show()"
   ]
  },
  {
   "cell_type": "code",
   "execution_count": 230,
   "id": "9d40b917",
   "metadata": {},
   "outputs": [
    {
     "data": {
      "image/png": "[encoded data removed]",
      "text/plain": [
       "<Figure size 640x480 with 1 Axes>"
      ]
     },
     "metadata": {},
     "output_type": "display_data"
    }
   ],
   "source": [
    "plt.figure(0)\n",
    "#plt.errorbar(x=ztfg['mjd'], y=ztfg['mag'], yerr=ztfg['magerr'], lw=0, elinewidth=2, label=\"ztf g\")\n",
    "#plt.errorbar(x=ztfr['mjd'], y=ztfr['mag'], yerr=ztfr['magerr'], lw=0, elinewidth=2, label=\"ztf r\")\n",
    "#plt.plot(ztfr['mjd'], ztfr['mag'], 'd', label=\"ztf r\")\n",
    "plt.plot(times + 3.5, new_mags_r, 'd', color='C2', ms=10)\n",
    "#plt.legend(fontsize=16)\n",
    "plt.gca().invert_yaxis()\n",
    "plt.xlabel(\"Date (mjd)\", fontsize=18)\n",
    "plt.ylabel(\"Apparent magnitude\", fontsize=18)\n",
    "plt.xlim(59790, 59830)\n",
    "plt.ylim(20.2, 18.4)\n",
    "#plt.savefig(\"../results/figures/LC_cadence_LSST.png\", transparent=False, facecolor='white', dpi=250, bbox_inches='tight')\n",
    "plt.show()"
   ]
  },
  {
   "cell_type": "markdown",
   "id": "8e843e07",
   "metadata": {},
   "source": [
    "##### print(np.diff(np.sort(times))[:10])\n",
    "print(np.diff(ztfr['mjd']))"
   ]
  },
  {
   "cell_type": "code",
   "execution_count": 132,
   "id": "6bc23976",
   "metadata": {},
   "outputs": [
    {
     "data": {
      "text/plain": [
       "array([59791.15789632, 59794.2325347 , 59800.13726882, 59800.13820645,\n",
       "       59800.16127979, 59800.16223382, 59800.20900587, 59800.2134932 ,\n",
       "       59800.22026836, 59800.22475157, 59801.15385503, 59801.17824987,\n",
       "       59810.10219836, 59823.16777597, 59823.19175953, 59830.07259641,\n",
       "       59830.09635782, 59832.08578976, 59834.14394133, 59838.13406454,\n",
       "       59841.97602359, 59841.99860254, 59849.95654212, 59849.97901494,\n",
       "       59855.07143183, 59855.09524965, 59856.09665301, 59856.12064099,\n",
       "       59867.88530056, 59867.90852538, 59868.01301576, 59868.03673688,\n",
       "       59868.06108889, 59869.03641324, 59869.05921317, 59869.92714006,\n",
       "       59869.95099745, 59871.00736235])"
      ]
     },
     "execution_count": 132,
     "metadata": {},
     "output_type": "execute_result"
    }
   ],
   "source": [
    "np.sort(times[np.isfinite(mags_r)])"
   ]
  },
  {
   "cell_type": "code",
   "execution_count": 231,
   "id": "668dca36",
   "metadata": {},
   "outputs": [
    {
     "data": {
      "text/plain": [
       "array([ 0.,  2.,  2.,  2.,  0.,  4., 16.,  3.,  0.,  8.,  0., 23.,  0.,\n",
       "        7.,  0.])"
      ]
     },
     "execution_count": 231,
     "metadata": {},
     "output_type": "execute_result"
    }
   ],
   "source": [
    "np.around(np.diff(np.sort(times[np.isfinite(mags_r)])))"
   ]
  },
  {
   "cell_type": "code",
   "execution_count": 139,
   "id": "aa758bed",
   "metadata": {},
   "outputs": [
    {
     "data": {
      "text/plain": [
       "3.0857938576154993"
      ]
     },
     "execution_count": 139,
     "metadata": {},
     "output_type": "execute_result"
    }
   ],
   "source": [
    "np.median(np.diff(np.sort(times))[np.diff(np.sort(times)) >= 1])"
   ]
  },
  {
   "cell_type": "code",
   "execution_count": 140,
   "id": "dee70106",
   "metadata": {},
   "outputs": [
    {
     "data": {
      "text/plain": [
       "0.04677204730978701"
      ]
     },
     "execution_count": 140,
     "metadata": {},
     "output_type": "execute_result"
    }
   ],
   "source": [
    "np.median(np.diff(np.sort(times[np.isfinite(mags_r)])))"
   ]
  },
  {
   "cell_type": "code",
   "execution_count": 212,
   "id": "f41a0aa2",
   "metadata": {},
   "outputs": [
    {
     "data": {
      "text/plain": [
       "9.777777777777779"
      ]
     },
     "execution_count": 212,
     "metadata": {},
     "output_type": "execute_result"
    }
   ],
   "source": [
    "np.mean([ 2.,  2.,  0.,  7., 13., 11., 15.,  5., 33.])"
   ]
  },
  {
   "cell_type": "code",
   "execution_count": null,
   "id": "f576beb8",
   "metadata": {},
   "outputs": [],
   "source": []
  }
 ],
 "metadata": {
  "kernelspec": {
   "display_name": "Python 3 (ipykernel)",
   "language": "python",
   "name": "python3"
  },
  "language_info": {
   "codemirror_mode": {
    "name": "ipython",
    "version": 3
   },
   "file_extension": ".py",
   "mimetype": "text/x-python",
   "name": "python",
   "nbconvert_exporter": "python",
   "pygments_lexer": "ipython3",
   "version": "3.7.1"
  }
 },
 "nbformat": 4,
 "nbformat_minor": 5
}
