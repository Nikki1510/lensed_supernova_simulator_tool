{
 "cells": [
  {
   "cell_type": "code",
   "execution_count": 1,
   "id": "d1df3d1f",
   "metadata": {},
   "outputs": [
    {
     "name": "stderr",
     "output_type": "stream",
     "text": [
      "WARNING: AstropyDeprecationWarning: The update_default_config function is deprecated and may be removed in a future version. [sncosmo]\n"
     ]
    }
   ],
   "source": [
    "import numpy as np \n",
    "import pandas as pd\n",
    "import matplotlib.pyplot as plt \n",
    "import sntd, sncosmo, os\n",
    "#from utils_suhail import *\n",
    "%load_ext autoreload\n",
    "%autoreload 2"
   ]
  },
  {
   "cell_type": "code",
   "execution_count": 2,
   "id": "27be3069",
   "metadata": {},
   "outputs": [],
   "source": [
    "#doubles_df = pd.read_pickle('../lensed_SNe/Sims_Storage_fromNikki/Baselinev20_numimages=2_batch001.pkl')\n",
    "doubles_df = pd.read_pickle('../processed_data/Baseline_v_3_0//Baselinev30_NEW_large_numimages=2_batch001.pkl')\n",
    "\n"
   ]
  },
  {
   "cell_type": "code",
   "execution_count": 3,
   "id": "004b6f26",
   "metadata": {},
   "outputs": [],
   "source": [
    "index_list = np.loadtxt('../processed_data/Doubles_dt_gold_sample.txt')\n",
    "#lc_tab = to_sntd(doubles_df, good_index[0])\n",
    "good_index = np.where(index_list == 1)[0]\n",
    "#print(good_index)\n",
    "peak_mag = [[doubles_df['obs_peak'][i][2][0], doubles_df['obs_peak'][i][2][1]]  for i in good_index]\n",
    "peak_mag = np.array(peak_mag)\n",
    "#print(peak_mag)\n",
    "#print(doubles_df['obs_peak'][2][0])\n",
    "best_index = good_index[(peak_mag[:,0] <= 22.5) & (peak_mag[:,1] <= 22.5)] "
   ]
  },
  {
   "cell_type": "code",
   "execution_count": 4,
   "id": "b2c2659c",
   "metadata": {},
   "outputs": [
    {
     "name": "stdout",
     "output_type": "stream",
     "text": [
      "[ 63  72 186 345 429 438 444 573 605 615 774 875 958 965 972 983 994]\n"
     ]
    }
   ],
   "source": [
    "print(best_index)"
   ]
  },
  {
   "cell_type": "code",
   "execution_count": 5,
   "id": "53037061",
   "metadata": {},
   "outputs": [
    {
     "name": "stdout",
     "output_type": "stream",
     "text": [
      "[ 63  72 186 345 429 438 444 573 605 615 774 875 958 965 972 983 994]\n"
     ]
    }
   ],
   "source": [
    "print(best_index)"
   ]
  },
  {
   "cell_type": "code",
   "execution_count": 5,
   "id": "e416f495",
   "metadata": {},
   "outputs": [],
   "source": [
    "def to_salt(df, i, im_val, filt_ls = ['g', 'r', 'i', 'z', 'y']):\n",
    "    lc_tab = Table()\n",
    "    lc_tab.meta['z'] = df['z_source'][i]\n",
    "    lc_tab.meta['zlens'] = df['z_lens'][i]\n",
    "    lc_tab.meta['time_delay'] = df['time_delay'][i]\n",
    "    lc_tab.meta['magnification'] = df['macro_mag'][i]\n",
    "    times = np.array(df['obs_times'][i])\n",
    "    bands = np.array(df['obs_bands'][i])\n",
    "    mags = df['brightness_im'][i]\n",
    "    mjd = []\n",
    "    bval = []\n",
    "    flux_arr = []\n",
    "    flux_err_arr = []\n",
    "    zp = []\n",
    "    zpsys = []\n",
    "    eflux = 0.1\n",
    "    for filtval in filt_ls: \n",
    "    \n",
    "        mask_f = np.where(bands == filtval)\n",
    "        tval = times[mask_f]\n",
    "        magval = mags[mask_f]\n",
    "        for jj, val in enumerate(tval):\n",
    "            mjd.append(val)\n",
    "            #print(filtval)\n",
    "            #print(magval)\n",
    "            bval.append('lsst'+filtval)\n",
    "        \n",
    "            \n",
    "            if magval[jj][im_val - 1] < 40:\n",
    "                flux = pow(10, -0.4 * (magval[jj][im_val-1] - 25))\n",
    "                #flux += fval\n",
    "                flux_err = (2.5 / np.log(10)) * eflux * flux\n",
    "                #flux_err = #np.sqrt(flux_err ** 2. + efval ** 2.)\n",
    "            else:\n",
    "                flux = -99\n",
    "                flux_err = -99 \n",
    "            #if magval[jj][im_val] < 40: \n",
    "            #    fval = pow(10, -0.4 * (magval[jj][0] - 25))\n",
    "            #    flux += fval\n",
    "            #    efval = (2.5 / np.log(10)) * eflux * flux\n",
    "            #    flux_err = np.sqrt(flux_err ** 2. + efval ** 2.)\n",
    "            flux_arr.append(flux)\n",
    "            flux_err_arr.append(flux_err)\n",
    "            zp.append(25)\n",
    "            zpsys.append('ab')\n",
    "    lc_tab['time'] = mjd\n",
    "    lc_tab['band'] = bval\n",
    "    lc_tab['flux'] = flux_arr\n",
    "    lc_tab['fluxerr'] = flux_err_arr\n",
    "    lc_tab['zp'] = zp\n",
    "    lc_tab['zpsys'] = zpsys\n",
    "    return lc_tab "
   ]
  },
  {
   "cell_type": "code",
   "execution_count": 6,
   "id": "0fac59f2",
   "metadata": {},
   "outputs": [
    {
     "ename": "NameError",
     "evalue": "name 'Table' is not defined",
     "output_type": "error",
     "traceback": [
      "\u001b[0;31m---------------------------------------------------------------------------\u001b[0m",
      "\u001b[0;31mNameError\u001b[0m                                 Traceback (most recent call last)",
      "Input \u001b[0;32mIn [6]\u001b[0m, in \u001b[0;36m<cell line: 1>\u001b[0;34m()\u001b[0m\n\u001b[0;32m----> 1\u001b[0m glSN_im1 \u001b[38;5;241m=\u001b[39m \u001b[43mto_salt\u001b[49m\u001b[43m(\u001b[49m\u001b[43mdoubles_df\u001b[49m\u001b[43m,\u001b[49m\u001b[43m \u001b[49m\u001b[43mbest_index\u001b[49m\u001b[43m[\u001b[49m\u001b[38;5;241;43m0\u001b[39;49m\u001b[43m]\u001b[49m\u001b[43m,\u001b[49m\u001b[43m \u001b[49m\u001b[38;5;241;43m1\u001b[39;49m\u001b[43m)\u001b[49m\n\u001b[1;32m      2\u001b[0m glSN_im2 \u001b[38;5;241m=\u001b[39m to_salt(doubles_df, best_index[\u001b[38;5;241m0\u001b[39m], \u001b[38;5;241m2\u001b[39m)\n\u001b[1;32m      3\u001b[0m \u001b[38;5;28mprint\u001b[39m(doubles_df\u001b[38;5;241m.\u001b[39mkeys())\n",
      "Input \u001b[0;32mIn [5]\u001b[0m, in \u001b[0;36mto_salt\u001b[0;34m(df, i, im_val, filt_ls)\u001b[0m\n\u001b[1;32m      1\u001b[0m \u001b[38;5;28;01mdef\u001b[39;00m \u001b[38;5;21mto_salt\u001b[39m(df, i, im_val, filt_ls \u001b[38;5;241m=\u001b[39m [\u001b[38;5;124m'\u001b[39m\u001b[38;5;124mg\u001b[39m\u001b[38;5;124m'\u001b[39m, \u001b[38;5;124m'\u001b[39m\u001b[38;5;124mr\u001b[39m\u001b[38;5;124m'\u001b[39m, \u001b[38;5;124m'\u001b[39m\u001b[38;5;124mi\u001b[39m\u001b[38;5;124m'\u001b[39m, \u001b[38;5;124m'\u001b[39m\u001b[38;5;124mz\u001b[39m\u001b[38;5;124m'\u001b[39m, \u001b[38;5;124m'\u001b[39m\u001b[38;5;124my\u001b[39m\u001b[38;5;124m'\u001b[39m]):\n\u001b[0;32m----> 2\u001b[0m     lc_tab \u001b[38;5;241m=\u001b[39m \u001b[43mTable\u001b[49m()\n\u001b[1;32m      3\u001b[0m     lc_tab\u001b[38;5;241m.\u001b[39mmeta[\u001b[38;5;124m'\u001b[39m\u001b[38;5;124mz\u001b[39m\u001b[38;5;124m'\u001b[39m] \u001b[38;5;241m=\u001b[39m df[\u001b[38;5;124m'\u001b[39m\u001b[38;5;124mz_source\u001b[39m\u001b[38;5;124m'\u001b[39m][i]\n\u001b[1;32m      4\u001b[0m     lc_tab\u001b[38;5;241m.\u001b[39mmeta[\u001b[38;5;124m'\u001b[39m\u001b[38;5;124mzlens\u001b[39m\u001b[38;5;124m'\u001b[39m] \u001b[38;5;241m=\u001b[39m df[\u001b[38;5;124m'\u001b[39m\u001b[38;5;124mz_lens\u001b[39m\u001b[38;5;124m'\u001b[39m][i]\n",
      "\u001b[0;31mNameError\u001b[0m: name 'Table' is not defined"
     ]
    }
   ],
   "source": [
    "glSN_im1 = to_salt(doubles_df, best_index[0], 1)\n",
    "glSN_im2 = to_salt(doubles_df, best_index[0], 2)\n",
    "print(doubles_df.keys())"
   ]
  },
  {
   "cell_type": "code",
   "execution_count": 7,
   "id": "236e74f8",
   "metadata": {},
   "outputs": [
    {
     "data": {
      "text/plain": [
       "array([-28.18145625, -24.29284919, -24.26221227, -24.2319502 ,\n",
       "       -13.79467093, -13.794859  , -12.71476626, -12.69537465,\n",
       "        -8.21267092,  -8.18828272,  -5.35711996,  -5.33311485,\n",
       "        -3.2161099 ,  -3.19179006,   5.59890639,   5.62318386,\n",
       "        12.77559973,  14.29038135,  14.29001126,  17.76267287,\n",
       "        17.78683562,  19.6248576 ,  19.64946784,  20.77359594,\n",
       "        20.79769655,  24.77118498,  40.64637365,  40.67089479,\n",
       "        42.70924391,  45.64772784,  45.67195545,  48.4262478 ,\n",
       "        48.46094325,  49.66218743,  54.59003528,  56.65701463,\n",
       "        61.64615835,  61.67038031,  80.48260856])"
      ]
     },
     "execution_count": 7,
     "metadata": {},
     "output_type": "execute_result"
    }
   ],
   "source": [
    "doubles_df['time_delay'][429]\n",
    "doubles_df['obs_times'][429]"
   ]
  },
  {
   "cell_type": "code",
   "execution_count": 8,
   "id": "83a23719",
   "metadata": {},
   "outputs": [
    {
     "name": "stdout",
     "output_type": "stream",
     "text": [
      "Downloading http://sncosmo.github.io/data/models/pierel/salt2-extended.tar.gz [Done]\n",
      "['z', 't0', 'x0', 'x1', 'c', 'MWebv', 'MWr_v']\n"
     ]
    },
    {
     "ename": "NameError",
     "evalue": "name 'Table' is not defined",
     "output_type": "error",
     "traceback": [
      "\u001b[0;31m---------------------------------------------------------------------------\u001b[0m",
      "\u001b[0;31mNameError\u001b[0m                                 Traceback (most recent call last)",
      "Input \u001b[0;32mIn [8]\u001b[0m, in \u001b[0;36m<cell line: 31>\u001b[0;34m()\u001b[0m\n\u001b[1;32m     30\u001b[0m \u001b[38;5;66;03m#for ii in best_index:\u001b[39;00m\n\u001b[1;32m     31\u001b[0m \u001b[38;5;28;01mfor\u001b[39;00m ii \u001b[38;5;129;01min\u001b[39;00m good_index: \n\u001b[0;32m---> 32\u001b[0m     inferT, sigma, input_dt \u001b[38;5;241m=\u001b[39m \u001b[43mfit_salt\u001b[49m\u001b[43m(\u001b[49m\u001b[43mdoubles_df\u001b[49m\u001b[43m,\u001b[49m\u001b[43m \u001b[49m\u001b[43mii\u001b[49m\u001b[43m,\u001b[49m\u001b[43m \u001b[49m\u001b[43mmodel\u001b[49m\u001b[43m)\u001b[49m\n\u001b[1;32m     33\u001b[0m     \u001b[38;5;28mprint\u001b[39m(inferT, sigma, input_dt)\n\u001b[1;32m     34\u001b[0m     infer_input_arr\u001b[38;5;241m.\u001b[39mappend([ii, inferT, sigma, input_dt])\n",
      "Input \u001b[0;32mIn [8]\u001b[0m, in \u001b[0;36mfit_salt\u001b[0;34m(df, indexx, model, savefig)\u001b[0m\n\u001b[1;32m     10\u001b[0m z \u001b[38;5;241m=\u001b[39m df[\u001b[38;5;124m'\u001b[39m\u001b[38;5;124mz_source\u001b[39m\u001b[38;5;124m'\u001b[39m][indexx]\n\u001b[1;32m     11\u001b[0m model[\u001b[38;5;124m'\u001b[39m\u001b[38;5;124mz\u001b[39m\u001b[38;5;124m'\u001b[39m] \u001b[38;5;241m=\u001b[39m z\n\u001b[0;32m---> 12\u001b[0m lc_im1 \u001b[38;5;241m=\u001b[39m \u001b[43mto_salt\u001b[49m\u001b[43m(\u001b[49m\u001b[43mdf\u001b[49m\u001b[43m,\u001b[49m\u001b[43m \u001b[49m\u001b[43mindexx\u001b[49m\u001b[43m,\u001b[49m\u001b[43m \u001b[49m\u001b[38;5;241;43m1\u001b[39;49m\u001b[43m)\u001b[49m\n\u001b[1;32m     13\u001b[0m lc_im1_det \u001b[38;5;241m=\u001b[39m lc_im1[lc_im1[\u001b[38;5;124m'\u001b[39m\u001b[38;5;124mflux\u001b[39m\u001b[38;5;124m'\u001b[39m] \u001b[38;5;241m/\u001b[39m lc_im1[\u001b[38;5;124m'\u001b[39m\u001b[38;5;124mfluxerr\u001b[39m\u001b[38;5;124m'\u001b[39m] \u001b[38;5;241m>\u001b[39m\u001b[38;5;241m=\u001b[39m \u001b[38;5;241m3\u001b[39m]\n\u001b[1;32m     14\u001b[0m lc_im2 \u001b[38;5;241m=\u001b[39m to_salt(df, indexx, \u001b[38;5;241m2\u001b[39m)\n",
      "Input \u001b[0;32mIn [5]\u001b[0m, in \u001b[0;36mto_salt\u001b[0;34m(df, i, im_val, filt_ls)\u001b[0m\n\u001b[1;32m      1\u001b[0m \u001b[38;5;28;01mdef\u001b[39;00m \u001b[38;5;21mto_salt\u001b[39m(df, i, im_val, filt_ls \u001b[38;5;241m=\u001b[39m [\u001b[38;5;124m'\u001b[39m\u001b[38;5;124mg\u001b[39m\u001b[38;5;124m'\u001b[39m, \u001b[38;5;124m'\u001b[39m\u001b[38;5;124mr\u001b[39m\u001b[38;5;124m'\u001b[39m, \u001b[38;5;124m'\u001b[39m\u001b[38;5;124mi\u001b[39m\u001b[38;5;124m'\u001b[39m, \u001b[38;5;124m'\u001b[39m\u001b[38;5;124mz\u001b[39m\u001b[38;5;124m'\u001b[39m, \u001b[38;5;124m'\u001b[39m\u001b[38;5;124my\u001b[39m\u001b[38;5;124m'\u001b[39m]):\n\u001b[0;32m----> 2\u001b[0m     lc_tab \u001b[38;5;241m=\u001b[39m \u001b[43mTable\u001b[49m()\n\u001b[1;32m      3\u001b[0m     lc_tab\u001b[38;5;241m.\u001b[39mmeta[\u001b[38;5;124m'\u001b[39m\u001b[38;5;124mz\u001b[39m\u001b[38;5;124m'\u001b[39m] \u001b[38;5;241m=\u001b[39m df[\u001b[38;5;124m'\u001b[39m\u001b[38;5;124mz_source\u001b[39m\u001b[38;5;124m'\u001b[39m][i]\n\u001b[1;32m      4\u001b[0m     lc_tab\u001b[38;5;241m.\u001b[39mmeta[\u001b[38;5;124m'\u001b[39m\u001b[38;5;124mzlens\u001b[39m\u001b[38;5;124m'\u001b[39m] \u001b[38;5;241m=\u001b[39m df[\u001b[38;5;124m'\u001b[39m\u001b[38;5;124mz_lens\u001b[39m\u001b[38;5;124m'\u001b[39m][i]\n",
      "\u001b[0;31mNameError\u001b[0m: name 'Table' is not defined"
     ]
    }
   ],
   "source": [
    "#sequentially fit salt to the images and fix x1 to get time-delay\n",
    "\n",
    "dust = sncosmo.CCM89Dust()\n",
    "model = sncosmo.Model('salt2-extended', effects=[sncosmo.CCM89Dust()],\n",
    "                           effect_names=['MW'],\n",
    "                           effect_frames=['obs'])\n",
    "print(model.param_names)\n",
    "\n",
    "def fit_salt(df, indexx, model, savefig=True):\n",
    "    z = df['z_source'][indexx]\n",
    "    model['z'] = z\n",
    "    lc_im1 = to_salt(df, indexx, 1)\n",
    "    lc_im1_det = lc_im1[lc_im1['flux'] / lc_im1['fluxerr'] >= 3]\n",
    "    lc_im2 = to_salt(df, indexx, 2)\n",
    "    lc_im2_det = lc_im2[lc_im2['flux'] / lc_im2['fluxerr'] >= 3]\n",
    "    res1, fitted_model1 = sncosmo.fit_lc(lc_im1_det, model, ['t0', 'x0', 'x1', 'c'], modelcov=True)\n",
    "    input_deltaT = df['time_delay'][indexx][1] - df['time_delay'][indexx][0]\n",
    "    model['x1'] = res1.parameters[3]\n",
    "    model['c']  = res1.parameters[4]\n",
    "    #print(res1.errors)\n",
    "    res2, fitted_model2 = sncosmo.fit_lc(lc_im2_det, model, ['t0', 'x0'], modelcov=True)\n",
    "    if savefig: \n",
    "        sncosmo.plot_lc(lc_im1_det, fitted_model1, errors=res1.errors, fname='outputs/plots/resolved_timedelay/gLSN_'+str(ii)+'_image1.png')\n",
    "        sncosmo.plot_lc(lc_im2_det, model=fitted_model2, errors=res2.errors, fname='outputs/plots/resolved_timedelay/gLSN_'+str(ii)+'_image2.png')\n",
    "    infer_deltaT = res2.parameters[1] - res1.parameters[1]\n",
    "    sig_infer_deltaT = np.sqrt(res1.errors['t0'] ** 2. + res2.errors['t0'] ** 2.)\n",
    "    return infer_deltaT, sig_infer_deltaT, input_deltaT\n",
    "\n",
    "infer_input_arr = []\n",
    "#for ii in best_index:\n",
    "for ii in good_index: \n",
    "    inferT, sigma, input_dt = fit_salt(doubles_df, ii, model)\n",
    "    print(inferT, sigma, input_dt)\n",
    "    infer_input_arr.append([ii, inferT, sigma, input_dt])\n",
    "print(infer_input_arr)\n",
    "np.savetxt('outputs/metafiles/infer_timedelay_doubles.txt', infer_input_arr, fmt='%s')\n"
   ]
  },
  {
   "cell_type": "code",
   "execution_count": 9,
   "id": "0457c384",
   "metadata": {},
   "outputs": [
    {
     "ename": "IndexError",
     "evalue": "too many indices for array: array is 1-dimensional, but 2 were indexed",
     "output_type": "error",
     "traceback": [
      "\u001b[0;31m---------------------------------------------------------------------------\u001b[0m",
      "\u001b[0;31mIndexError\u001b[0m                                Traceback (most recent call last)",
      "Input \u001b[0;32mIn [9]\u001b[0m, in \u001b[0;36m<cell line: 2>\u001b[0;34m()\u001b[0m\n\u001b[1;32m      1\u001b[0m infer_input_arr \u001b[38;5;241m=\u001b[39m np\u001b[38;5;241m.\u001b[39marray(infer_input_arr)\n\u001b[0;32m----> 2\u001b[0m dif \u001b[38;5;241m=\u001b[39m \u001b[43minfer_input_arr\u001b[49m\u001b[43m[\u001b[49m\u001b[43m:\u001b[49m\u001b[43m,\u001b[49m\u001b[38;5;241;43m1\u001b[39;49m\u001b[43m]\u001b[49m \u001b[38;5;241m-\u001b[39m infer_input_arr[:,\u001b[38;5;241m3\u001b[39m]\n\u001b[1;32m      3\u001b[0m cond \u001b[38;5;241m=\u001b[39m infer_input_arr[:,\u001b[38;5;241m2\u001b[39m] \u001b[38;5;241m<\u001b[39m\u001b[38;5;241m=\u001b[39m \u001b[38;5;241m10\u001b[39m\n\u001b[1;32m      4\u001b[0m \u001b[38;5;28mprint\u001b[39m(doubles_df\u001b[38;5;241m.\u001b[39mkeys())\n",
      "\u001b[0;31mIndexError\u001b[0m: too many indices for array: array is 1-dimensional, but 2 were indexed"
     ]
    }
   ],
   "source": [
    "infer_input_arr = np.array(infer_input_arr)\n",
    "dif = infer_input_arr[:,1] - infer_input_arr[:,3]\n",
    "cond = infer_input_arr[:,2] <= 10\n",
    "print(doubles_df.keys())\n",
    "infer_input_clean = infer_input_arr[cond]\n",
    "theta_arr = [doubles_df['theta_E'][i[0]] for i in infer_input_clean]\n",
    "print(theta_arr)"
   ]
  },
  {
   "cell_type": "code",
   "execution_count": 10,
   "id": "ad210bdf",
   "metadata": {},
   "outputs": [
    {
     "ename": "FileNotFoundError",
     "evalue": "outputs/metafiles/infer_timedelay_doublesv30_400_700.txt not found.",
     "output_type": "error",
     "traceback": [
      "\u001b[0;31m---------------------------------------------------------------------------\u001b[0m",
      "\u001b[0;31mFileNotFoundError\u001b[0m                         Traceback (most recent call last)",
      "Input \u001b[0;32mIn [10]\u001b[0m, in \u001b[0;36m<cell line: 1>\u001b[0;34m()\u001b[0m\n\u001b[0;32m----> 1\u001b[0m infer_input_arr \u001b[38;5;241m=\u001b[39m \u001b[43mnp\u001b[49m\u001b[38;5;241;43m.\u001b[39;49m\u001b[43mloadtxt\u001b[49m\u001b[43m(\u001b[49m\u001b[38;5;124;43m'\u001b[39;49m\u001b[38;5;124;43moutputs/metafiles/infer_timedelay_doublesv30_400_700.txt\u001b[39;49m\u001b[38;5;124;43m'\u001b[39;49m\u001b[43m)\u001b[49m\n\u001b[1;32m      2\u001b[0m \u001b[38;5;66;03m#infer_input_arr = np.loadtxt('outputs/metafiles/infer_timedelay_doublesv30_400_700.txt')\u001b[39;00m\n\u001b[1;32m      3\u001b[0m \u001b[38;5;28mprint\u001b[39m(\u001b[38;5;28mlen\u001b[39m(infer_input_arr[:,\u001b[38;5;241m0\u001b[39m]))\n",
      "File \u001b[0;32m~/anaconda3/envs/rubin/lib/python3.9/site-packages/numpy/lib/npyio.py:1042\u001b[0m, in \u001b[0;36mloadtxt\u001b[0;34m(fname, dtype, comments, delimiter, converters, skiprows, usecols, unpack, ndmin, encoding, max_rows, like)\u001b[0m\n\u001b[1;32m   1040\u001b[0m     fname \u001b[38;5;241m=\u001b[39m os_fspath(fname)\n\u001b[1;32m   1041\u001b[0m \u001b[38;5;28;01mif\u001b[39;00m _is_string_like(fname):\n\u001b[0;32m-> 1042\u001b[0m     fh \u001b[38;5;241m=\u001b[39m \u001b[43mnp\u001b[49m\u001b[38;5;241;43m.\u001b[39;49m\u001b[43mlib\u001b[49m\u001b[38;5;241;43m.\u001b[39;49m\u001b[43m_datasource\u001b[49m\u001b[38;5;241;43m.\u001b[39;49m\u001b[43mopen\u001b[49m\u001b[43m(\u001b[49m\u001b[43mfname\u001b[49m\u001b[43m,\u001b[49m\u001b[43m \u001b[49m\u001b[38;5;124;43m'\u001b[39;49m\u001b[38;5;124;43mrt\u001b[39;49m\u001b[38;5;124;43m'\u001b[39;49m\u001b[43m,\u001b[49m\u001b[43m \u001b[49m\u001b[43mencoding\u001b[49m\u001b[38;5;241;43m=\u001b[39;49m\u001b[43mencoding\u001b[49m\u001b[43m)\u001b[49m\n\u001b[1;32m   1043\u001b[0m     fencoding \u001b[38;5;241m=\u001b[39m \u001b[38;5;28mgetattr\u001b[39m(fh, \u001b[38;5;124m'\u001b[39m\u001b[38;5;124mencoding\u001b[39m\u001b[38;5;124m'\u001b[39m, \u001b[38;5;124m'\u001b[39m\u001b[38;5;124mlatin1\u001b[39m\u001b[38;5;124m'\u001b[39m)\n\u001b[1;32m   1044\u001b[0m     line_iter \u001b[38;5;241m=\u001b[39m \u001b[38;5;28miter\u001b[39m(fh)\n",
      "File \u001b[0;32m~/anaconda3/envs/rubin/lib/python3.9/site-packages/numpy/lib/_datasource.py:193\u001b[0m, in \u001b[0;36mopen\u001b[0;34m(path, mode, destpath, encoding, newline)\u001b[0m\n\u001b[1;32m    156\u001b[0m \u001b[38;5;124;03m\"\"\"\u001b[39;00m\n\u001b[1;32m    157\u001b[0m \u001b[38;5;124;03mOpen `path` with `mode` and return the file object.\u001b[39;00m\n\u001b[1;32m    158\u001b[0m \n\u001b[0;32m   (...)\u001b[0m\n\u001b[1;32m    189\u001b[0m \n\u001b[1;32m    190\u001b[0m \u001b[38;5;124;03m\"\"\"\u001b[39;00m\n\u001b[1;32m    192\u001b[0m ds \u001b[38;5;241m=\u001b[39m DataSource(destpath)\n\u001b[0;32m--> 193\u001b[0m \u001b[38;5;28;01mreturn\u001b[39;00m \u001b[43mds\u001b[49m\u001b[38;5;241;43m.\u001b[39;49m\u001b[43mopen\u001b[49m\u001b[43m(\u001b[49m\u001b[43mpath\u001b[49m\u001b[43m,\u001b[49m\u001b[43m \u001b[49m\u001b[43mmode\u001b[49m\u001b[43m,\u001b[49m\u001b[43m \u001b[49m\u001b[43mencoding\u001b[49m\u001b[38;5;241;43m=\u001b[39;49m\u001b[43mencoding\u001b[49m\u001b[43m,\u001b[49m\u001b[43m \u001b[49m\u001b[43mnewline\u001b[49m\u001b[38;5;241;43m=\u001b[39;49m\u001b[43mnewline\u001b[49m\u001b[43m)\u001b[49m\n",
      "File \u001b[0;32m~/anaconda3/envs/rubin/lib/python3.9/site-packages/numpy/lib/_datasource.py:532\u001b[0m, in \u001b[0;36mDataSource.open\u001b[0;34m(self, path, mode, encoding, newline)\u001b[0m\n\u001b[1;32m    529\u001b[0m     \u001b[38;5;28;01mreturn\u001b[39;00m _file_openers[ext](found, mode\u001b[38;5;241m=\u001b[39mmode,\n\u001b[1;32m    530\u001b[0m                               encoding\u001b[38;5;241m=\u001b[39mencoding, newline\u001b[38;5;241m=\u001b[39mnewline)\n\u001b[1;32m    531\u001b[0m \u001b[38;5;28;01melse\u001b[39;00m:\n\u001b[0;32m--> 532\u001b[0m     \u001b[38;5;28;01mraise\u001b[39;00m \u001b[38;5;167;01mFileNotFoundError\u001b[39;00m(\u001b[38;5;124mf\u001b[39m\u001b[38;5;124m\"\u001b[39m\u001b[38;5;132;01m{\u001b[39;00mpath\u001b[38;5;132;01m}\u001b[39;00m\u001b[38;5;124m not found.\u001b[39m\u001b[38;5;124m\"\u001b[39m)\n",
      "\u001b[0;31mFileNotFoundError\u001b[0m: outputs/metafiles/infer_timedelay_doublesv30_400_700.txt not found."
     ]
    }
   ],
   "source": [
    "infer_input_arr = np.loadtxt('outputs/metafiles/infer_timedelay_doublesv30_400_700.txt')\n",
    "#infer_input_arr = np.loadtxt('outputs/metafiles/infer_timedelay_doublesv30_400_700.txt')\n",
    "print(len(infer_input_arr[:,0]))"
   ]
  },
  {
   "cell_type": "code",
   "execution_count": 24,
   "id": "23763b01",
   "metadata": {},
   "outputs": [],
   "source": [
    "## Get goodness of fit criteria\n",
    "goodness_offit = []\n",
    "micro_lens = False\n",
    "if micro_lens:\n",
    "    outdir = 'outputs/WithWeather/microlensing/'\n",
    "else:\n",
    "    outdir = 'outputs/WithWeather/'\n",
    "for ii in infer_input_arr:\n",
    "    if ii[1] != -99:\n",
    "        f1 = outdir+'fitparams_gLSN_v30_'+str(int(ii[0]))+'_doubles_1.pkl'\n",
    "        f2 = outdir+'fitparams_gLSN_v30_'+str(int(ii[0]))+'_doubles_2.pkl'\n",
    "        if os.path.exists(f1) and os.path.exists(f2):\n",
    "            res1 = pd.read_pickle(f1)\n",
    "            res2 = pd.read_pickle(f2)\n",
    "            rchi = res1.chisq / res1.ndof\n",
    "            rchi2 = res2.chisq / res2.ndof\n",
    "        #print(res2.errors)\n",
    "            goodness_offit.append([ii[0], ii[1], ii[2], ii[3], res1.errors['x1'], rchi, rchi2])\n",
    "#print(goodness_offit)\n",
    "#print(goodness_offit)"
   ]
  },
  {
   "cell_type": "code",
   "execution_count": 19,
   "id": "ebcb0642",
   "metadata": {},
   "outputs": [
    {
     "name": "stdout",
     "output_type": "stream",
     "text": [
      "Total number of fits are:  294\n",
      "Out of those, the ones with reasonable error bars are:  38\n",
      "difference within 5% 28\n",
      "difference with one day 16\n",
      "Indices with differences > 1 day [403. 428. 436. 450. 455. 466. 485. 488. 522. 536. 573. 603. 604. 620.\n",
      " 621. 627. 638. 650. 670. 679. 681. 697.]\n",
      "Indices with differences < 1 day [408. 412. 420. 438. 446. 476. 511. 530. 570. 578. 580. 587. 605. 606.\n",
      " 615. 636.]\n",
      "Time delays with differences < 1 day [35.17703923 56.50061421  8.9952975  58.05053118  5.38876745  6.91811669\n",
      " 11.07953409  0.93602615 38.10508109  2.54282662 29.89491729  4.36055621\n",
      "  6.24027095  3.49372005 18.61339429 11.14042284]\n",
      "12\n"
     ]
    },
    {
     "data": {
      "text/plain": [
       "Text(0, 0.5, 'Inferred $\\\\Delta$ t - Input')"
      ]
     },
     "execution_count": 19,
     "metadata": {},
     "output_type": "execute_result"
    },
    {
     "data": {
      "image/png": "[encoded data removed]",
      "text/plain": [
       "<Figure size 576x576 with 1 Axes>"
      ]
     },
     "metadata": {
      "needs_background": "light"
     },
     "output_type": "display_data"
    }
   ],
   "source": [
    "#infer_input_arr = np.array(infer_input_arr)\n",
    "plt.figure(figsize=(8,8))\n",
    "goodness_offit = np.array(goodness_offit)\n",
    "dif = goodness_offit[:,1] - goodness_offit[:,3]\n",
    "nredchi = 10\n",
    "cond = (goodness_offit[:,2] <= 1) & (goodness_offit[:,3] >= 0) & (goodness_offit[:,-2] <= nredchi) & (goodness_offit[:,-1] <= nredchi)  & (goodness_offit[:,-3] <= 1)  \n",
    "cond1 = (goodness_offit[:,2] <= 2) & (goodness_offit[:,3] >= 0) & (abs(dif) >= 5)\n",
    "\n",
    "print(\"Total number of fits are: \", len(infer_input_arr))\n",
    "print(\"Out of those, the ones with reasonable error bars are: \", len(goodness_offit[cond]))\n",
    "print('difference within 5%', len(dif[cond][dif[cond] / (goodness_offit[:,3][cond]) <= .05]))\n",
    "print('difference with one day', len(dif[cond][abs(dif[cond]) <= 1.]))\n",
    "print('Indices with differences > 1 day', goodness_offit[:,0][cond][abs(dif[cond]) >= 1.])\n",
    "print('Indices with differences < 1 day', goodness_offit[:,0][cond][abs(dif[cond]) < 1.])\n",
    "print('Time delays with differences < 1 day', goodness_offit[:,3][cond][abs(dif[cond]) < 1.])\n",
    "\n",
    "\n",
    "best_infer = goodness_offit[cond][abs(dif[cond]) <= 1]\n",
    "theta_E_best = np.array([doubles_df['theta_E'][i[0]] for i in best_infer])\n",
    "\n",
    "#print(\"Indices which pass the cuts \", goodness_offit[:,0][cond])\n",
    "print(len(best_infer[theta_E_best >= 0.5]))\n",
    "plt.errorbar(goodness_offit[:,3][cond], dif[cond], yerr=goodness_offit[:,2][cond], fmt='gs')\n",
    "plt.fill_between([0, 100], -1, 1, alpha=0.5, color='b')\n",
    "#print(infer_input_arr[:,0][cond], infer_input_arr[:,0][cond1])\n",
    "plt.ylim(-20, 20)\n",
    "plt.xlim(-0.5, 100)\n",
    "plt.xlabel('Input $\\Delta$ t', fontsize=25, labelpad=-3)\n",
    "plt.ylabel('Inferred $\\Delta$ t - Input', fontsize=25, labelpad=-3)\n",
    "#plt.savefig('outputs/plots/input_inferred_deltaT_randomIndex_WithWeather_quads_fitCut.png')\n",
    "#best_indexx = goodness_offit[cond][abs(dif[cond]) <= 1.][:,0]"
   ]
  },
  {
   "cell_type": "code",
   "execution_count": 16,
   "id": "c5807d22",
   "metadata": {},
   "outputs": [
    {
     "data": {
      "image/png": "[encoded data removed]",
      "text/plain": [
       "<Figure size 576x576 with 2 Axes>"
      ]
     },
     "metadata": {
      "needs_background": "light"
     },
     "output_type": "display_data"
    }
   ],
   "source": [
    "sourcez_best = np.array([doubles_df['z_source'][ii] for ii in best_indexx])\n",
    "lensz_best = np.array([doubles_df['z_lens'][ii] for ii in best_indexx])\n",
    "plt.figure(1, figsize=(8,8))\n",
    "plt.subplot(211)\n",
    "plt.hist(sourcez_best, histtype='step', bins=np.arange(0.25, 1.25, 0.05))\n",
    "plt.xlabel(r'$z_{\\rm s}$', fontsize=20)\n",
    "\n",
    "\n",
    "plt.subplot(212)\n",
    "plt.hist(lensz_best, histtype='step', bins=np.arange(0.0, 0.6, 0.05))\n",
    "plt.xlabel(r'$z_{\\rm lens}$', fontsize=20)\n",
    "plt.savefig('outputs/plots/redshift_hist.pdf')\n",
    "\n"
   ]
  },
  {
   "cell_type": "code",
   "execution_count": 35,
   "id": "8160c812",
   "metadata": {
    "scrolled": true
   },
   "outputs": [],
   "source": [
    "import os \n",
    "trans_mjd = 60768\n",
    "tag_arr = []\n",
    "#infer_input_arr = np.array(infer_input_arr)\n",
    "dif = infer_input_arr[:,1] - infer_input_arr[:,3]\n",
    "cond = (infer_input_arr[:,2] <= 10) & (infer_input_arr[:,3] >= 0)\n",
    "best_infer = infer_input_arr[cond][abs(dif[cond]) <= 1]\n",
    "for indexx in best_infer[:,0]:\n",
    "    \n",
    "    obs_st = doubles_df['obs_start'][indexx]\n",
    "    if obs_st <= trans_mjd:\n",
    "        tag_arr.append('Non-Rolling')\n",
    "    else:\n",
    "        tag_arr.append('Rolling')"
   ]
  },
  {
   "cell_type": "code",
   "execution_count": 36,
   "id": "f7f0cbb5",
   "metadata": {},
   "outputs": [
    {
     "data": {
      "text/plain": [
       "(6, 11)"
      ]
     },
     "execution_count": 36,
     "metadata": {},
     "output_type": "execute_result"
    }
   ],
   "source": [
    "tag_arr = np.array(tag_arr)\n",
    "len(tag_arr[tag_arr=='Rolling']), len(tag_arr)"
   ]
  },
  {
   "cell_type": "markdown",
   "id": "f964bb2f",
   "metadata": {},
   "source": [
    "## Summary statistics for Quads / Doubles (without SALT2 / time-delay fits )"
   ]
  },
  {
   "cell_type": "code",
   "execution_count": 19,
   "id": "11c7dc0b",
   "metadata": {},
   "outputs": [
    {
     "data": {
      "text/plain": [
       "Index(['time_series', 'z_source', 'z_lens', 'H0', 'theta_E', 'obs_peak',\n",
       "       'obs_times', 'obs_bands', 'model_mag', 'obs_mag', 'obs_mag_error',\n",
       "       'obs_snr', 'obs_mag_unresolved', 'mag_unresolved_error',\n",
       "       'snr_unresolved', 'macro_mag', 'source_x', 'source_y', 'time_delay',\n",
       "       'time_delay_distance', 'image_x', 'image_y', 'gamma_lens', 'e1_lens',\n",
       "       'e2_lens', 'g1_shear', 'g2_shear', 'micro_kappa', 'micro_gamma',\n",
       "       'micro_s', 'micro_peak', 'stretch', 'colour', 'Mb', 'obs_start',\n",
       "       'obs_end', 'mult_method_peak', 'mult_method', 'mag_method_peak',\n",
       "       'mag_method', 'coords', 'obs_skybrightness', 'obs_psf', 'obs_lim_mag',\n",
       "       'obs_N_coadds'],\n",
       "      dtype='object')"
      ]
     },
     "execution_count": 19,
     "metadata": {},
     "output_type": "execute_result"
    }
   ],
   "source": [
    "doubles_df.keys()"
   ]
  },
  {
   "cell_type": "code",
   "execution_count": 34,
   "id": "0d48bf8a",
   "metadata": {},
   "outputs": [
    {
     "name": "stdout",
     "output_type": "stream",
     "text": [
      "['22.340204826793386' '21.500099451524303' '22.59505154564142'\n",
      " '21.528402120079917' '21.59362233399996' '21.957708108996908'\n",
      " '21.885098054448083' '21.55094477337672' '22.53219397125866'\n",
      " '22.518508516172602']\n"
     ]
    }
   ],
   "source": [
    "doubles_df.keys()\n",
    "pre_peak_obs = []\n",
    "dict_peak = {}\n",
    "for ii, tval in enumerate([doubles_df['obs_peak']]):\n",
    "    t_arr = doubles_df['obs_times'][ii]\n",
    "    f_arr = doubles_df['obs_bands'][ii]\n",
    "    mag_arr = doubles_df['obs_mag_unresolved'][ii]\n",
    "    mag_err_arr = doubles_df['mag_unresolved_error'][ii]\n",
    "    lc = np.vstack([t_arr, f_arr, mag_arr, mag_err_arr]).T\n",
    "    cond_det = mag_err_arr <= 0.3\n",
    "    lc_det = lc[cond_det]\n",
    "    print(lc_det[:,2])\n",
    "    early_cond = lc_det[:,2].astype('float32') == min(lc_det[:,2].astype('float32'))\n",
    "    f_early = lc_det[:,1][early_cond]\n",
    "\n",
    "    f_len = []\n",
    "    for fval in np.unique(f_early):\n",
    "        ll = len(f_early[f_early == fval])\n",
    "        f_len.append([fval, ll])\n",
    "    dict_peak['SN'+str(ii)] = f_len"
   ]
  },
  {
   "cell_type": "code",
   "execution_count": 50,
   "id": "74f755b1",
   "metadata": {},
   "outputs": [
    {
     "name": "stdout",
     "output_type": "stream",
     "text": [
      "{'SN0': [['i', 1]]}\n"
     ]
    },
    {
     "ename": "Exception",
     "evalue": "'' not in registry. Registered names: 'f555w', 'ps1::y', 'swope2::b', 'keplercam::r', '4shooter2::b', 'uvot::v', 'sdssu', 'f763m', 'ps1::g', 'bessellr', 'f090w', 'f1550c', 'cspr', 'bessellux', 'bessellv', 'swope2::i', '4shooter2::us', 'uvot::u', 'nicf110w', 'uvot::uvw2', 'keplercam::us', 'desy', 'f139m', 'lssty', 'uvot::b', '4shooter2::i', 'cspv9844', 'uvot::uvw1', 'f277w', 'lssti', 'lsstg', 'f087', 'f475w', 'swope2::v', 'cspjs', 'csphs', 'f129', '4shooter2::r', 'lsstr', 'f162m', 'f444w', 'f250m', 'cspv3014', 'cspu', 'f560w', 'f770w', 'f275w', 'f300m', 'ztfr', 'nicmos2::f160w', 'f480m', 'standard::b', '4shooter2::v', 'cspi', 'f1130w', 'uvf606w', 'f410m', 'f062', 'cspyd', 'swope2::u', 'f689m', 'standard::r', 'acswf::f850lp', 'acswf::f775w', 'f110w', 'f2100w', 'uvf814w', 'f430m', 'sdss::z', 'f127m', 'sdssi', 'f460m', 'f158', 'swope2::r', 'keplercam::v', 'desg', 'sdssr', 'f1140c', 'sdss::r', 'acswf::f606w', 'besselli', 'sdssz', 'nicf160w', 'sdssg', 'cspjd', 'f184', 'f153m', 'ps1::open', 'f1000w', 'swope2::y', 'swope2::v1', 'f070w', 'ps1::w', 'f435w', 'f2300c', 'f105w', 'f115w', 'desz', 'uvf555w', 'ps1::i', 'sdss::g', 'uvf625w', 'f182m', 'cspb', 'swope2::j', 'f2550w', 'standard::u', 'cspk', 'cspv3009', 'f213', 'ps1::z', 'f125w', 'f106', 'sdss::i', 'f390w', 'f350lp', 'lsstu', 'ztfi', 'standard::i', 'f775w', 'uvf775w', 'bessellb', 'cspg', 'f1800w', 'ps1::r', 'uvot::uvm2', 'nicmos2::f110w', 'f356w', 'f1065c', 'f438w', 'lsstz', 'f625w', 'csphd', 'f1280w', 'swope2::h', 'swope2::v2', 'desr', 'f140w', 'f606w', 'f218w', 'standard::v', 'f850lp', 'f200w', 'ztfg', 'uvf475w', 'keplercam::b', 'kepler', 'f098m', 'f360m', 'f1500w', 'f146', 'uvot::white', 'f225w', 'f335m', 'desi', 'swope2::g', 'f336w', 'f845m', 'sdss::u', 'f140m', 'f210m', 'uvf850lp', 'f160w', 'f300x', 'keplercam::i', 'cspys', 'f150w'",
     "output_type": "error",
     "traceback": [
      "\u001b[0;31m---------------------------------------------------------------------------\u001b[0m",
      "\u001b[0;31mException\u001b[0m                                 Traceback (most recent call last)",
      "\u001b[0;32m/var/folders/gw/tk55k1z12ksby9rfdqpd6jh80000gn/T/ipykernel_84797/3716690520.py\u001b[0m in \u001b[0;36m<module>\u001b[0;34m\u001b[0m\n\u001b[1;32m      1\u001b[0m \u001b[0mprint\u001b[0m\u001b[0;34m(\u001b[0m\u001b[0mdict_peak\u001b[0m\u001b[0;34m)\u001b[0m\u001b[0;34m\u001b[0m\u001b[0;34m\u001b[0m\u001b[0m\n\u001b[0;32m----> 2\u001b[0;31m \u001b[0msncosmo\u001b[0m\u001b[0;34m.\u001b[0m\u001b[0mget_bandpass\u001b[0m\u001b[0;34m(\u001b[0m\u001b[0;34m''\u001b[0m\u001b[0;34m)\u001b[0m\u001b[0;34m\u001b[0m\u001b[0;34m\u001b[0m\u001b[0m\n\u001b[0m",
      "\u001b[0;32m/opt/anaconda3/lib/python3.9/site-packages/sncosmo/bandpasses.py\u001b[0m in \u001b[0;36mget_bandpass\u001b[0;34m(name, *args)\u001b[0m\n\u001b[1;32m     25\u001b[0m         \u001b[0;32mreturn\u001b[0m \u001b[0mname\u001b[0m\u001b[0;34m\u001b[0m\u001b[0;34m\u001b[0m\u001b[0m\n\u001b[1;32m     26\u001b[0m     \u001b[0;32mif\u001b[0m \u001b[0mlen\u001b[0m\u001b[0;34m(\u001b[0m\u001b[0margs\u001b[0m\u001b[0;34m)\u001b[0m \u001b[0;34m==\u001b[0m \u001b[0;36m0\u001b[0m\u001b[0;34m:\u001b[0m\u001b[0;34m\u001b[0m\u001b[0;34m\u001b[0m\u001b[0m\n\u001b[0;32m---> 27\u001b[0;31m         \u001b[0;32mreturn\u001b[0m \u001b[0m_BANDPASSES\u001b[0m\u001b[0;34m.\u001b[0m\u001b[0mretrieve\u001b[0m\u001b[0;34m(\u001b[0m\u001b[0mname\u001b[0m\u001b[0;34m)\u001b[0m\u001b[0;34m\u001b[0m\u001b[0;34m\u001b[0m\u001b[0m\n\u001b[0m\u001b[1;32m     28\u001b[0m     \u001b[0;32melse\u001b[0m\u001b[0;34m:\u001b[0m\u001b[0;34m\u001b[0m\u001b[0;34m\u001b[0m\u001b[0m\n\u001b[1;32m     29\u001b[0m         \u001b[0minterp\u001b[0m \u001b[0;34m=\u001b[0m \u001b[0m_BANDPASS_INTERPOLATORS\u001b[0m\u001b[0;34m.\u001b[0m\u001b[0mretrieve\u001b[0m\u001b[0;34m(\u001b[0m\u001b[0mname\u001b[0m\u001b[0;34m)\u001b[0m\u001b[0;34m\u001b[0m\u001b[0;34m\u001b[0m\u001b[0m\n",
      "\u001b[0;32m/opt/anaconda3/lib/python3.9/site-packages/sncosmo/_registry.py\u001b[0m in \u001b[0;36mretrieve\u001b[0;34m(self, name, version)\u001b[0m\n\u001b[1;32m    188\u001b[0m         \u001b[0;31m# If we don't have the name regardless of version:\u001b[0m\u001b[0;34m\u001b[0m\u001b[0;34m\u001b[0m\u001b[0m\n\u001b[1;32m    189\u001b[0m         \u001b[0;32mif\u001b[0m \u001b[0mversion\u001b[0m \u001b[0;32mis\u001b[0m \u001b[0;32mNone\u001b[0m \u001b[0;32mor\u001b[0m \u001b[0mname\u001b[0m \u001b[0;32mnot\u001b[0m \u001b[0;32min\u001b[0m \u001b[0mregistered_names\u001b[0m\u001b[0;34m:\u001b[0m\u001b[0;34m\u001b[0m\u001b[0;34m\u001b[0m\u001b[0m\n\u001b[0;32m--> 190\u001b[0;31m             raise Exception(\n\u001b[0m\u001b[1;32m    191\u001b[0m                 \u001b[0;34m\"{0!r} not in registry. Registered names: '{1}'\"\u001b[0m\u001b[0;34m\u001b[0m\u001b[0;34m\u001b[0m\u001b[0m\n\u001b[1;32m    192\u001b[0m                 .format(name, \"', '\".join(registered_names)))\n",
      "\u001b[0;31mException\u001b[0m: '' not in registry. Registered names: 'f555w', 'ps1::y', 'swope2::b', 'keplercam::r', '4shooter2::b', 'uvot::v', 'sdssu', 'f763m', 'ps1::g', 'bessellr', 'f090w', 'f1550c', 'cspr', 'bessellux', 'bessellv', 'swope2::i', '4shooter2::us', 'uvot::u', 'nicf110w', 'uvot::uvw2', 'keplercam::us', 'desy', 'f139m', 'lssty', 'uvot::b', '4shooter2::i', 'cspv9844', 'uvot::uvw1', 'f277w', 'lssti', 'lsstg', 'f087', 'f475w', 'swope2::v', 'cspjs', 'csphs', 'f129', '4shooter2::r', 'lsstr', 'f162m', 'f444w', 'f250m', 'cspv3014', 'cspu', 'f560w', 'f770w', 'f275w', 'f300m', 'ztfr', 'nicmos2::f160w', 'f480m', 'standard::b', '4shooter2::v', 'cspi', 'f1130w', 'uvf606w', 'f410m', 'f062', 'cspyd', 'swope2::u', 'f689m', 'standard::r', 'acswf::f850lp', 'acswf::f775w', 'f110w', 'f2100w', 'uvf814w', 'f430m', 'sdss::z', 'f127m', 'sdssi', 'f460m', 'f158', 'swope2::r', 'keplercam::v', 'desg', 'sdssr', 'f1140c', 'sdss::r', 'acswf::f606w', 'besselli', 'sdssz', 'nicf160w', 'sdssg', 'cspjd', 'f184', 'f153m', 'ps1::open', 'f1000w', 'swope2::y', 'swope2::v1', 'f070w', 'ps1::w', 'f435w', 'f2300c', 'f105w', 'f115w', 'desz', 'uvf555w', 'ps1::i', 'sdss::g', 'uvf625w', 'f182m', 'cspb', 'swope2::j', 'f2550w', 'standard::u', 'cspk', 'cspv3009', 'f213', 'ps1::z', 'f125w', 'f106', 'sdss::i', 'f390w', 'f350lp', 'lsstu', 'ztfi', 'standard::i', 'f775w', 'uvf775w', 'bessellb', 'cspg', 'f1800w', 'ps1::r', 'uvot::uvm2', 'nicmos2::f110w', 'f356w', 'f1065c', 'f438w', 'lsstz', 'f625w', 'csphd', 'f1280w', 'swope2::h', 'swope2::v2', 'desr', 'f140w', 'f606w', 'f218w', 'standard::v', 'f850lp', 'f200w', 'ztfg', 'uvf475w', 'keplercam::b', 'kepler', 'f098m', 'f360m', 'f1500w', 'f146', 'uvot::white', 'f225w', 'f335m', 'desi', 'swope2::g', 'f336w', 'f845m', 'sdss::u', 'f140m', 'f210m', 'uvf850lp', 'f160w', 'f300x', 'keplercam::i', 'cspys', 'f150w'"
     ]
    }
   ],
   "source": [
    "print(dict_peak)\n",
    "sncosmo.get_bandpass('')"
   ]
  },
  {
   "cell_type": "code",
   "execution_count": 46,
   "id": "38742bec",
   "metadata": {},
   "outputs": [
    {
     "name": "stdout",
     "output_type": "stream",
     "text": [
      "Index(['time_series', 'z_source', 'z_lens', 'H0', 'theta_E', 'obs_peak',\n",
      "       'obs_times', 'obs_bands', 'model_mag', 'obs_mag', 'obs_mag_error',\n",
      "       'obs_snr', 'obs_mag_unresolved', 'mag_unresolved_error',\n",
      "       'snr_unresolved', 'macro_mag', 'source_x', 'source_y', 'time_delay',\n",
      "       'time_delay_distance', 'image_x', 'image_y', 'gamma_lens', 'e1_lens',\n",
      "       'e2_lens', 'g1_shear', 'g2_shear', 'micro_kappa', 'micro_gamma',\n",
      "       'micro_s', 'micro_peak', 'stretch', 'colour', 'Mb', 'obs_start',\n",
      "       'obs_end', 'mult_method_peak', 'mult_method', 'mult_method_micro',\n",
      "       'mag_method_peak', 'mag_method', 'mag_method_micro', 'coords',\n",
      "       'obs_skybrightness', 'obs_psf', 'obs_lim_mag', 'obs_N_coadds', 'survey',\n",
      "       'rolling', 'obs_mag_micro', 'mag_micro_error', 'obs_snr_micro',\n",
      "       'mag_unresolved_micro', 'mag_unresolved_micro_error',\n",
      "       'snr_unresolved_micro', 'peak_magnitudes', 'peak_magnitudes_micro'],\n",
      "      dtype='object')\n"
     ]
    }
   ],
   "source": [
    "mod_str = 'salt2-extended'\n",
    "model = sncosmo.Model(mod_str, effects=[sncosmo.CCM89Dust()],\n",
    "                           effect_names=['MW'],\n",
    "                           effect_frames=['obs'])\n",
    "\n",
    "print(doubles_df.keys())"
   ]
  },
  {
   "cell_type": "code",
   "execution_count": 52,
   "id": "b4229402",
   "metadata": {},
   "outputs": [
    {
     "name": "stdout",
     "output_type": "stream",
     "text": [
      "[ 0.         11.14042284] 0.14216477466591207\n"
     ]
    }
   ],
   "source": [
    "print(doubles_df['time_delay'][636], doubles_df['z_lens'][636])"
   ]
  },
  {
   "cell_type": "code",
   "execution_count": 26,
   "id": "d23e2cf4",
   "metadata": {},
   "outputs": [],
   "source": [
    "def get_model_mag(indexx, imval, bpval, tval, direc='outputs/WithWeather/'):\n",
    "    ff = pd.read_pickle(direc+'fitparams_gLSN_v30_'+str(indexx)+'_doubles_'+str(imval)+'.pkl')\n",
    "    model['z'] = ff.parameters[0]\n",
    "    model['t0'] = ff.parameters[1]\n",
    "    model['x0'] = ff.parameters[2]\n",
    "    model['x1'] = ff.parameters[3]\n",
    "    model['c'] = ff.parameters[4]\n",
    "    modmag = model.bandmag('lsst'+bpval, 'ab', tval)\n",
    "    return modmag"
   ]
  },
  {
   "cell_type": "code",
   "execution_count": 42,
   "id": "4675211c",
   "metadata": {},
   "outputs": [
    {
     "name": "stdout",
     "output_type": "stream",
     "text": [
      "636\n",
      "636\n",
      "636\n",
      "636\n",
      "636\n",
      "636\n",
      "636\n",
      "636\n"
     ]
    },
    {
     "name": "stderr",
     "output_type": "stream",
     "text": [
      "/opt/anaconda3/lib/python3.9/site-packages/sncosmo/models.py:189: RuntimeWarning: divide by zero encountered in log10\n",
      "  result[i] = -2.5 * np.log10(f / zpf)\n",
      "/opt/anaconda3/lib/python3.9/site-packages/sncosmo/models.py:189: RuntimeWarning: divide by zero encountered in log10\n",
      "  result[i] = -2.5 * np.log10(f / zpf)\n",
      "/opt/anaconda3/lib/python3.9/site-packages/sncosmo/models.py:189: RuntimeWarning: divide by zero encountered in log10\n",
      "  result[i] = -2.5 * np.log10(f / zpf)\n",
      "/opt/anaconda3/lib/python3.9/site-packages/sncosmo/models.py:189: RuntimeWarning: divide by zero encountered in log10\n",
      "  result[i] = -2.5 * np.log10(f / zpf)\n"
     ]
    },
    {
     "data": {
      "image/png": "[encoded data removed]",
      "text/plain": [
       "<Figure size 648x648 with 4 Axes>"
      ]
     },
     "metadata": {
      "needs_background": "light"
     },
     "output_type": "display_data"
    }
   ],
   "source": [
    "from utils_suhail import to_sncosmo, to_salt\n",
    "from matplotlib.gridspec import GridSpec\n",
    "import sncosmo\n",
    "indexx = 636\n",
    "gs = GridSpec(2, 2)\n",
    "plt.figure(1, figsize=(9,9))\n",
    "bp_arr = ['lsstr', 'lssti', 'lsstz', 'lssty']\n",
    "for ii, val in enumerate(gs):\n",
    "    plt.subplot(val)\n",
    "    lc1 = to_salt(doubles_df,indexx,  1)\n",
    "    lc1 = lc1[lc1['flux'] / lc1['fluxerr'] >= 3]\n",
    "    lc2 = to_salt(doubles_df, indexx,2)\n",
    "    lc2 = lc2[lc2['flux'] / lc2['fluxerr'] >= 3]\n",
    "    #print(np.unique(lc1['band'])) \n",
    "    t1 = lc1['time']\n",
    "    t2 = lc2['time']\n",
    "    bpval = bp_arr[ii]\n",
    "    cond = lc1['band'] == bpval\n",
    "    cond2 = lc2['band'] == bpval\n",
    "\n",
    "    mag1 = -2.5 * np.log10(lc1['flux']) + lc1['zp']\n",
    "    mag2 = -2.5 * np.log10(lc2['flux']) + lc2['zp']\n",
    "\n",
    "    magerr1 = (2.5) / np.log(10) * (lc1['fluxerr'] / lc1['flux'])\n",
    "    magerr2 = (2.5) / np.log(10) * (lc2['fluxerr'] / lc2['flux'])\n",
    "\n",
    "    tt = np.linspace(-20, 50)\n",
    "\n",
    "    mod1 = get_model_mag(indexx, 1, bpval[-1], tt)\n",
    "    mod2 = get_model_mag(indexx, 2, bpval[-1], tt)\n",
    "    plt.annotate(bpval.upper()[:-1]+bpval[-1], xy=(0.7, 0.35), xycoords=\"axes fraction\", fontsize=20)\n",
    "\n",
    "    plt.errorbar(t1[cond], mag1[cond], magerr1[cond], fmt='rs', label='Image 1')\n",
    "    plt.plot(tt, mod1, color='r', linewidth=2)\n",
    "    plt.errorbar(t2[cond2], mag2[cond2], magerr2[cond2], fmt='go', label='Image 2')\n",
    "    plt.plot(tt, mod2, color='g', linewidth=2)\n",
    "    plt.ylim(plt.ylim()[::-1])\n",
    "    if ii==0 or ii == 2:\n",
    "        plt.ylabel(\"mag\", fontsize=20)\n",
    "    else:\n",
    "        plt.yticks([])\n",
    "    if ii > 1:\n",
    "        plt.xlabel(\"Phase (days)\", fontsize=20)\n",
    "    else:\n",
    "        plt.xticks([])\n",
    "plt.subplots_adjust(hspace=0.03, wspace=0.03)\n",
    "plt.legend(loc=0, prop={'size':14})\n",
    "#plt.title(\"SN \"+str(indexx) + \" \" + bpval, fontsize=20)\n",
    "plt.savefig('outputs/plots/example_multIm_goodIndex_double_multfilt.pdf')"
   ]
  },
  {
   "cell_type": "code",
   "execution_count": 12,
   "id": "7741f126",
   "metadata": {},
   "outputs": [
    {
     "ename": "NameError",
     "evalue": "name 'Table' is not defined",
     "output_type": "error",
     "traceback": [
      "\u001b[0;31m---------------------------------------------------------------------------\u001b[0m",
      "\u001b[0;31mNameError\u001b[0m                                 Traceback (most recent call last)",
      "Input \u001b[0;32mIn [12]\u001b[0m, in \u001b[0;36m<cell line: 8>\u001b[0;34m()\u001b[0m\n\u001b[1;32m      8\u001b[0m \u001b[38;5;28;01mfor\u001b[39;00m ii, val \u001b[38;5;129;01min\u001b[39;00m \u001b[38;5;28menumerate\u001b[39m(gs):\n\u001b[1;32m      9\u001b[0m     plt\u001b[38;5;241m.\u001b[39msubplot(val)\n\u001b[0;32m---> 10\u001b[0m     lc1 \u001b[38;5;241m=\u001b[39m \u001b[43mto_salt\u001b[49m\u001b[43m(\u001b[49m\u001b[43mdoubles_df\u001b[49m\u001b[43m,\u001b[49m\u001b[43mindexx\u001b[49m\u001b[43m,\u001b[49m\u001b[43m  \u001b[49m\u001b[38;5;241;43m1\u001b[39;49m\u001b[43m)\u001b[49m\n\u001b[1;32m     11\u001b[0m     lc1 \u001b[38;5;241m=\u001b[39m lc1[lc1[\u001b[38;5;124m'\u001b[39m\u001b[38;5;124mflux\u001b[39m\u001b[38;5;124m'\u001b[39m] \u001b[38;5;241m/\u001b[39m lc1[\u001b[38;5;124m'\u001b[39m\u001b[38;5;124mfluxerr\u001b[39m\u001b[38;5;124m'\u001b[39m] \u001b[38;5;241m>\u001b[39m\u001b[38;5;241m=\u001b[39m \u001b[38;5;241m3\u001b[39m]\n\u001b[1;32m     12\u001b[0m     lc2 \u001b[38;5;241m=\u001b[39m to_salt(doubles_df, indexx,\u001b[38;5;241m2\u001b[39m)\n",
      "Input \u001b[0;32mIn [5]\u001b[0m, in \u001b[0;36mto_salt\u001b[0;34m(df, i, im_val, filt_ls)\u001b[0m\n\u001b[1;32m      1\u001b[0m \u001b[38;5;28;01mdef\u001b[39;00m \u001b[38;5;21mto_salt\u001b[39m(df, i, im_val, filt_ls \u001b[38;5;241m=\u001b[39m [\u001b[38;5;124m'\u001b[39m\u001b[38;5;124mg\u001b[39m\u001b[38;5;124m'\u001b[39m, \u001b[38;5;124m'\u001b[39m\u001b[38;5;124mr\u001b[39m\u001b[38;5;124m'\u001b[39m, \u001b[38;5;124m'\u001b[39m\u001b[38;5;124mi\u001b[39m\u001b[38;5;124m'\u001b[39m, \u001b[38;5;124m'\u001b[39m\u001b[38;5;124mz\u001b[39m\u001b[38;5;124m'\u001b[39m, \u001b[38;5;124m'\u001b[39m\u001b[38;5;124my\u001b[39m\u001b[38;5;124m'\u001b[39m]):\n\u001b[0;32m----> 2\u001b[0m     lc_tab \u001b[38;5;241m=\u001b[39m \u001b[43mTable\u001b[49m()\n\u001b[1;32m      3\u001b[0m     lc_tab\u001b[38;5;241m.\u001b[39mmeta[\u001b[38;5;124m'\u001b[39m\u001b[38;5;124mz\u001b[39m\u001b[38;5;124m'\u001b[39m] \u001b[38;5;241m=\u001b[39m df[\u001b[38;5;124m'\u001b[39m\u001b[38;5;124mz_source\u001b[39m\u001b[38;5;124m'\u001b[39m][i]\n\u001b[1;32m      4\u001b[0m     lc_tab\u001b[38;5;241m.\u001b[39mmeta[\u001b[38;5;124m'\u001b[39m\u001b[38;5;124mzlens\u001b[39m\u001b[38;5;124m'\u001b[39m] \u001b[38;5;241m=\u001b[39m df[\u001b[38;5;124m'\u001b[39m\u001b[38;5;124mz_lens\u001b[39m\u001b[38;5;124m'\u001b[39m][i]\n",
      "\u001b[0;31mNameError\u001b[0m: name 'Table' is not defined"
     ]
    },
    {
     "data": {
      "image/png": "[encoded data removed]",
      "text/plain": [
       "<Figure size 900x900 with 1 Axes>"
      ]
     },
     "metadata": {},
     "output_type": "display_data"
    }
   ],
   "source": [
    "# from utils_suhail import to_sncosmo, to_salt\n",
    "from matplotlib.gridspec import GridSpec\n",
    "import sncosmo\n",
    "indexx = 636\n",
    "gs = GridSpec(2, 2)\n",
    "plt.figure(1, figsize=(9,9))\n",
    "bp_arr = ['lsstr', 'lssti', 'lsstz', 'lssty']\n",
    "for ii, val in enumerate(gs):\n",
    "    plt.subplot(val)\n",
    "    lc1 = to_salt(doubles_df,indexx,  1)\n",
    "    lc1 = lc1[lc1['flux'] / lc1['fluxerr'] >= 3]\n",
    "    lc2 = to_salt(doubles_df, indexx,2)\n",
    "    lc2 = lc2[lc2['flux'] / lc2['fluxerr'] >= 3]\n",
    "    #print(np.unique(lc1['band'])) \n",
    "    t1 = lc1['time']\n",
    "    t2 = lc2['time']\n",
    "    bpval = bp_arr[ii]\n",
    "    cond = lc1['band'] == bpval\n",
    "    cond2 = lc2['band'] == bpval\n",
    "\n",
    "    mag1 = -2.5 * np.log10(lc1['flux']) + lc1['zp']\n",
    "    mag2 = -2.5 * np.log10(lc2['flux']) + lc2['zp']\n",
    "\n",
    "    magerr1 = (2.5) / np.log(10) * (lc1['fluxerr'] / lc1['flux'])\n",
    "    magerr2 = (2.5) / np.log(10) * (lc2['fluxerr'] / lc2['flux'])\n",
    "\n",
    "    tt = np.linspace(-20, 50)\n",
    "\n",
    "    mod1 = get_model_mag(indexx, 1, bpval[-1], tt)\n",
    "    mod2 = get_model_mag(indexx, 2, bpval[-1], tt)\n",
    "    plt.annotate(bpval.upper()[:-1]+bpval[-1], xy=(0.7, 0.35), xycoords=\"axes fraction\", fontsize=20)\n",
    "\n",
    "    plt.errorbar(t1[cond], mag1[cond], magerr1[cond], fmt='rs', label='Image 1')\n",
    "    plt.plot(tt, mod1, color='r', linewidth=2)\n",
    "    plt.errorbar(t2[cond2], mag2[cond2], magerr2[cond2], fmt='go', label='Image 2')\n",
    "    plt.plot(tt, mod2, color='g', linewidth=2)\n",
    "    plt.ylim(plt.ylim()[::-1])\n",
    "    if ii==0 or ii == 2:\n",
    "        plt.ylabel(\"mag\", fontsize=20)\n",
    "    else:\n",
    "        plt.yticks([])\n",
    "    if ii > 1:\n",
    "        plt.xlabel(\"Phase (days)\", fontsize=20)\n",
    "    else:\n",
    "        plt.xticks([])\n",
    "plt.subplots_adjust(hspace=0.03, wspace=0.03)\n",
    "plt.legend(loc=0, prop={'size':14})\n",
    "#plt.title(\"SN \"+str(indexx) + \" \" + bpval, fontsize=20)\n",
    "#plt.savefig('outputs/plots/example_multIm_goodIndex_double_multfilt.pdf')"
   ]
  },
  {
   "cell_type": "code",
   "execution_count": null,
   "id": "89f7a77c",
   "metadata": {},
   "outputs": [],
   "source": []
  }
 ],
 "metadata": {
  "kernelspec": {
   "display_name": "Python [conda env:rubin]",
   "language": "python",
   "name": "conda-env-rubin-py"
  },
  "language_info": {
   "codemirror_mode": {
    "name": "ipython",
    "version": 3
   },
   "file_extension": ".py",
   "mimetype": "text/x-python",
   "name": "python",
   "nbconvert_exporter": "python",
   "pygments_lexer": "ipython3",
   "version": "3.9.13"
  }
 },
 "nbformat": 4,
 "nbformat_minor": 5
}
