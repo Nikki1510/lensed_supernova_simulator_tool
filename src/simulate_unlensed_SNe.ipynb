{
 "cells": [
  {
   "cell_type": "code",
   "execution_count": 1,
   "id": "789d284d",
   "metadata": {},
   "outputs": [],
   "source": [
    "import pickle as pickle\n",
    "from class_telescope import Telescope\n",
    "from simulate_unlensed_sne import simulate_unlensed_sne\n",
    "import numpy as np\n",
    "import matplotlib.pyplot as plt\n",
    "import warnings\n",
    "warnings.filterwarnings('ignore')\n",
    "plt.rc(\"font\", family=\"serif\")\n",
    "plt.rc(\"text\", usetex=True)"
   ]
  },
  {
   "cell_type": "code",
   "execution_count": 2,
   "id": "1b2feef2",
   "metadata": {
    "scrolled": false
   },
   "outputs": [
    {
     "name": "stdout",
     "output_type": "stream",
     "text": [
      "Setting up OpSim Summary generator...\n",
      " reading from database sqlite:///../data/OpSim_databases/baseline_v3.0_10yrs.db\n",
      "We have filterNull set to False\n",
      "checking that summary table read in\n",
      "\n",
      "Reading in raw tables successful\n",
      "replacing names works\n",
      "dropping duplicates works\n",
      "dithered column names exists \n",
      "Changing units for fbsv2 from degrees\n"
     ]
    }
   ],
   "source": [
    "num_samples = 5000            # Total number of lens systems to be generated  \n",
    "batch_size = 5000             # Number of lens systems that is saved together in a batch\n",
    "batch = 1                     # Starting number of the batch\n",
    "obs_upper_limit = 200         # Upper limit of number of observations\n",
    "obs_lower_limit = 5           # Lower limit of number of observations\n",
    "fixed_H0 = True               # Bool, if False: vary H0. if True: fix H0 to 70 km/s/Mpc (for the evaluation set)\n",
    "\n",
    "Show = False                  # Bool, if True: Show figures and print information about the lens systems\n",
    "Save = True                   # Bool, if True: Save image time-series\n",
    "path = \"../processed_data/Baseline_v_3_0/\" # Path to folder in which to save the results\n",
    "\n",
    "telescope = 'LSST'\n",
    "\n",
    "# ---------------------------------\n",
    "\n",
    "lsst = Telescope(telescope, 5000)\n",
    "\n",
    "# ---------------------------------\n"
   ]
  },
  {
   "cell_type": "code",
   "execution_count": 3,
   "id": "8dec4083",
   "metadata": {
    "scrolled": false
   },
   "outputs": [
    {
     "data": {
      "application/vnd.jupyter.widget-view+json": {
       "model_id": "34c183850b8a4909a4996375d46591b0",
       "version_major": 2,
       "version_minor": 0
      },
      "text/plain": [
       "  0%|          | 0/5000 [00:00<?, ?it/s]"
      ]
     },
     "metadata": {},
     "output_type": "display_data"
    },
    {
     "name": "stdout",
     "output_type": "stream",
     "text": [
      "check using ptree True\n",
      "Done!\n",
      "Simulating images took  166.0 seconds ( 0.05 hours) to complete.\n",
      "Number of image-time series generated:  5000\n",
      "Number of configurations tried:  5000\n",
      "Number of attempts:  11483\n",
      " \n",
      "      z_source    H0                                           obs_peak  \\\n",
      "0     0.539394  67.8  [25.212836680667646, 23.465970405185487, 23.09...   \n",
      "1     0.903030  67.8  [nan, 25.52124721084819, 24.015428263738084, 2...   \n",
      "2     0.296970  67.8  [nan, 22.013939525503417, 21.105346400854962, ...   \n",
      "3     0.745455  67.8            [nan, nan, 23.41329911037458, inf, nan]   \n",
      "4     0.830303  67.8                          [nan, nan, inf, nan, nan]   \n",
      "...        ...   ...                                                ...   \n",
      "4995  0.672727  67.8  [26.531889187486968, 23.742121692817058, 23.22...   \n",
      "4996  0.854545  67.8  [nan, inf, 23.98343037477343, 23.3536753215036...   \n",
      "4997  0.587879  67.8                          [nan, nan, inf, inf, nan]   \n",
      "4998  0.757576  67.8  [24.99217784638579, 23.80468039632837, 22.9270...   \n",
      "4999  0.818182  67.8           [nan, inf, inf, inf, 23.203665403379894]   \n",
      "\n",
      "                                              obs_times  \\\n",
      "0     [-30.301295100565767, -30.757905295311502, -30...   \n",
      "1     [-38.060606060607824, -38.036146173886664, -31...   \n",
      "2     [-25.939393939392176, -25.91495155156008, -13....   \n",
      "3     [-34.90909090908826, -15.888157695946575, -15....   \n",
      "4                                 [-36.604519457865536]   \n",
      "...                                                 ...   \n",
      "4995  [-33.45454545454413, -19.418834893938765, -11....   \n",
      "4996  [-37.087769304089306, 17.872079125168966, 20.8...   \n",
      "4997         [-31.756906999045896, -31.745271657451667]   \n",
      "4998  [-35.061193925233965, -35.06738493402372, -32....   \n",
      "4999  [-36.36363636363967, 1.4901771158329211, 35.45...   \n",
      "\n",
      "                                              obs_bands  \\\n",
      "0     [i, z, y, r, z, y, i, i, z, r, i, r, g, z, y, ...   \n",
      "1         [z, y, y, y, i, r, i, z, r, i, i, z, r, r, r]   \n",
      "2                           [i, z, r, i, i, z, z, i, r]   \n",
      "3                                          [z, i, z, i]   \n",
      "4                                                   [i]   \n",
      "...                                                 ...   \n",
      "4995  [z, r, z, r, i, z, y, r, i, g, r, i, g, r, y, ...   \n",
      "4996   [r, i, z, y, i, r, y, r, i, z, z, y, r, i, z, y]   \n",
      "4997                                             [i, z]   \n",
      "4998  [i, z, y, z, r, y, g, r, r, g, g, r, y, y, r, ...   \n",
      "4999                        [r, y, r, i, i, z, y, r, r]   \n",
      "\n",
      "                                              model_mag  \\\n",
      "0     [nan, 30.515392058721183, 30.34726353120046, n...   \n",
      "1     [inf, 31.155438355270825, 27.27440512867478, 2...   \n",
      "2     [29.328396608968873, 29.03764302917978, 22.039...   \n",
      "3     [30.8394318882458, 24.77702243458916, 24.87800...   \n",
      "4                                   [32.02494088663913]   \n",
      "...                                                 ...   \n",
      "4995  [30.31574137187656, 25.115342392800763, 23.719...   \n",
      "4996  [33.17179614674038, 24.54304863794771, 24.3678...   \n",
      "4997           [30.265048658161614, 30.301998354242944]   \n",
      "4998  [31.184629245449816, 31.153894673671243, 31.67...   \n",
      "4999  [inf, 23.687519024715677, 26.8110928584465, 25...   \n",
      "\n",
      "                                                obs_mag  \\\n",
      "0     [inf, inf, inf, inf, inf, inf, inf, inf, inf, ...   \n",
      "1     [inf, inf, inf, inf, 24.015428263738084, 25.52...   \n",
      "2     [inf, inf, 22.013939525503417, 22.127109525883...   \n",
      "3                    [inf, inf, inf, 23.41329911037458]   \n",
      "4                                                 [inf]   \n",
      "...                                                 ...   \n",
      "4995  [inf, 25.091508237594088, inf, 23.759728646477...   \n",
      "4996  [inf, 23.98343037477343, 23.353675321503655, i...   \n",
      "4997                                         [inf, inf]   \n",
      "4998  [inf, inf, inf, inf, inf, inf, inf, inf, 25.31...   \n",
      "4999  [inf, 23.203665403379894, inf, inf, inf, inf, ...   \n",
      "\n",
      "                                          obs_mag_error  \\\n",
      "0     [nan, nan, nan, nan, nan, nan, nan, nan, nan, ...   \n",
      "1     [nan, nan, nan, nan, 0.31104961502631895, 0.97...   \n",
      "2     [nan, nan, 0.026280950876802982, 0.03542099642...   \n",
      "3                  [nan, nan, nan, 0.31659425901323895]   \n",
      "4                                                 [nan]   \n",
      "...                                                 ...   \n",
      "4995  [nan, 0.716266402648481, nan, 0.14251032989619...   \n",
      "4996  [nan, 0.30733291212977026, 0.4115434585421597,...   \n",
      "4997                                         [nan, nan]   \n",
      "4998  [nan, nan, nan, nan, nan, nan, nan, nan, 0.439...   \n",
      "4999  [nan, 0.6774309755597968, nan, nan, nan, nan, ...   \n",
      "\n",
      "                                                obs_snr   stretch  ...  \\\n",
      "0     [0.0, 0.0, 0.0, 0.0, 0.0, 0.0, 0.0, 0.0, 0.0, ...  0.204461  ...   \n",
      "1     [0.0, 0.0, 0.0, 0.0, 3.4905563366997305, 1.111... -0.116368  ...   \n",
      "2     [0.0, 0.0, 41.31266824582287, 30.6523337630306...  1.149416  ...   \n",
      "3                   [0.0, 0.0, 0.0, 3.4294248042973123] -0.880287  ...   \n",
      "4                                                 [0.0]  1.190873  ...   \n",
      "...                                                 ...       ...  ...   \n",
      "4995  [0.0, 1.5158273524257029, 0.0, 7.6186491572153... -0.771249  ...   \n",
      "4996  [0.0, 3.532769065422063, 2.638205473133291, 0....  0.518132  ...   \n",
      "4997                                         [0.0, 0.0] -0.282993  ...   \n",
      "4998  [0.0, 0.0, 0.0, 0.0, 0.0, 0.0, 0.0, 0.0, 2.468...  0.583229  ...   \n",
      "4999  [0.0, 1.6027259513206176, 0.0, 0.0, 0.0, 0.0, ... -0.723259  ...   \n",
      "\n",
      "             Mb     obs_start       obs_end  \\\n",
      "0    -19.160060  60369.311098  60460.560608   \n",
      "1    -19.600926  60415.352056  60526.141400   \n",
      "2    -19.896349  60628.097999  60682.043047   \n",
      "3    -19.046837  60666.055515  60706.034778   \n",
      "4    -19.833796  61314.390971  61314.390971   \n",
      "...         ...           ...           ...   \n",
      "4995 -19.697454  60662.326722  60767.195747   \n",
      "4996 -19.507166  60690.365496  60811.312015   \n",
      "4997 -19.356843  60717.030150  60717.041785   \n",
      "4998 -19.811464  60953.018274  61063.959505   \n",
      "4999 -19.461831  61061.373563  61175.104352   \n",
      "\n",
      "                                         coords  \\\n",
      "0       [186.8914629823118, 11.943196851353324]   \n",
      "1       [271.26857511814154, 2.815290068211087]   \n",
      "2      [352.20454203073973, -29.67626161272578]   \n",
      "3     [11.063701129818039, -10.648542877414604]   \n",
      "4      [132.49062704168566, -6.946637215080601]   \n",
      "...                                         ...   \n",
      "4995   [158.19658136285958, -53.11848586023975]   \n",
      "4996     [236.899713222815, -24.44945094045873]   \n",
      "4997    [86.61334924876058, 25.184373257612503]   \n",
      "4998   [24.381166576413438, -57.42048837819232]   \n",
      "4999    [184.56371504522951, 20.53413167025392]   \n",
      "\n",
      "                                      obs_skybrightness  \\\n",
      "0     [19.033045410942258, 18.61897267381235, 17.997...   \n",
      "1     [19.311204894466652, 18.48451482953318, 18.261...   \n",
      "2     [19.224177051410415, 18.82968935553636, 21.205...   \n",
      "3     [19.276652053127982, 19.14259042220329, 18.455...   \n",
      "4                                   [18.65437707987404]   \n",
      "...                                                 ...   \n",
      "4995  [19.11825600890294, 20.267575062711227, 18.333...   \n",
      "4996  [18.827567786545156, 19.940732785290667, 18.49...   \n",
      "4997            [18.254726529584126, 18.12161008296904]   \n",
      "4998  [18.894437774192355, 18.61949870156916, 18.235...   \n",
      "4999  [20.17558641851929, 17.99319809712196, 18.1813...   \n",
      "\n",
      "                                                obs_psf  \\\n",
      "0     [0.9605009096200988, 1.0154059401633218, 0.981...   \n",
      "1     [0.9883883101652313, 0.7571822864243586, 1.241...   \n",
      "2     [0.6958428454401738, 0.7765121175449586, 0.763...   \n",
      "3     [0.8442666407464943, 1.3948032217641044, 1.807...   \n",
      "4                                  [0.8550489010175263]   \n",
      "...                                                 ...   \n",
      "4995  [0.6193872111627599, 1.2260755623495379, 1.458...   \n",
      "4996  [0.9351364361245533, 0.758783515989288, 0.7982...   \n",
      "4997           [0.8094079049294778, 0.7172585133504696]   \n",
      "4998  [0.9873017662435158, 0.8850331911353865, 0.926...   \n",
      "4999  [0.8319213516381081, 1.2772610737741532, 0.917...   \n",
      "\n",
      "                                            obs_lim_mag  \\\n",
      "0     [23.356421889277826, 22.82714148935706, 21.649...   \n",
      "1     [22.802250319306733, 22.24469106970822, 22.192...   \n",
      "2     [23.36718374390879, 22.856235972854574, 24.306...   \n",
      "3     [22.969133128223767, 22.468736493311887, 21.64...   \n",
      "4                                  [22.635766987599975]   \n",
      "...                                                 ...   \n",
      "4995  [23.25985529486481, 23.795707575378945, 21.901...   \n",
      "4996  [23.107142659823673, 23.6062934860438, 22.6595...   \n",
      "4997            [23.10273211830637, 22.984839614242667]   \n",
      "4998  [23.794209443146567, 23.442423178246198, 22.24...   \n",
      "4999  [23.687374665372364, 21.96838856523116, 22.601...   \n",
      "\n",
      "                                           obs_N_coadds          survey  \\\n",
      "0     [2, 2, 1, 1, 2, 1, 1, 1, 1, 1, 1, 1, 1, 1, 3, ...             WFD   \n",
      "1         [1, 1, 2, 2, 1, 1, 1, 1, 1, 1, 2, 2, 1, 1, 1]  galactic plane   \n",
      "2                           [1, 1, 1, 1, 1, 1, 1, 1, 4]             WFD   \n",
      "3                                          [1, 1, 1, 4]             WFD   \n",
      "4                                                   [2]             WFD   \n",
      "...                                                 ...             ...   \n",
      "4995  [1, 2, 1, 1, 1, 2, 2, 1, 2, 1, 2, 1, 1, 1, 2, ...             WFD   \n",
      "4996   [3, 1, 1, 1, 1, 1, 1, 1, 1, 1, 1, 1, 1, 1, 1, 1]             WFD   \n",
      "4997                                             [2, 2]  galactic plane   \n",
      "4998  [3, 3, 2, 2, 1, 2, 1, 1, 1, 1, 1, 1, 2, 3, 3, ...             WFD   \n",
      "4999                        [1, 2, 1, 1, 1, 1, 2, 1, 1]             WFD   \n",
      "\n",
      "         rolling  \n",
      "0     no rolling  \n",
      "1            NaN  \n",
      "2     no rolling  \n",
      "3     no rolling  \n",
      "4         active  \n",
      "...          ...  \n",
      "4995  no rolling  \n",
      "4996  no rolling  \n",
      "4997         NaN  \n",
      "4998      active  \n",
      "4999  background  \n",
      "\n",
      "[5000 rows x 21 columns]\n"
     ]
    }
   ],
   "source": [
    "\n",
    "df, timings = simulate_unlensed_sne(num_samples, batch_size, batch, obs_lower_limit, obs_upper_limit, \n",
    "                                    fixed_H0, lsst, Show, Save, path)"
   ]
  },
  {
   "cell_type": "code",
   "execution_count": 4,
   "id": "86cd6bc0",
   "metadata": {},
   "outputs": [
    {
     "data": {
      "text/plain": [
       "42.284106740107994"
      ]
     },
     "execution_count": 4,
     "metadata": {},
     "output_type": "execute_result"
    }
   ],
   "source": [
    "5 * np.log10(2863 * 10**6) - 5"
   ]
  },
  {
   "cell_type": "code",
   "execution_count": 5,
   "id": "9be9966b",
   "metadata": {},
   "outputs": [
    {
     "data": {
      "text/plain": [
       "22.599999999999998"
      ]
     },
     "execution_count": 5,
     "metadata": {},
     "output_type": "execute_result"
    }
   ],
   "source": [
    "42.3 - 19.7"
   ]
  },
  {
   "cell_type": "code",
   "execution_count": 6,
   "id": "66a45040",
   "metadata": {},
   "outputs": [
    {
     "name": "stdout",
     "output_type": "stream",
     "text": [
      "0      -19.160060\n",
      "1      -19.600926\n",
      "2      -19.896349\n",
      "3      -19.046837\n",
      "4      -19.833796\n",
      "          ...    \n",
      "4995   -19.697454\n",
      "4996   -19.507166\n",
      "4997   -19.356843\n",
      "4998   -19.811464\n",
      "4999   -19.461831\n",
      "Name: Mb, Length: 5000, dtype: float64\n"
     ]
    }
   ],
   "source": [
    "print(df['Mb'])"
   ]
  },
  {
   "cell_type": "code",
   "execution_count": null,
   "id": "b07f0b97",
   "metadata": {},
   "outputs": [],
   "source": []
  }
 ],
 "metadata": {
  "kernelspec": {
   "display_name": "Python 3 (ipykernel)",
   "language": "python",
   "name": "python3"
  },
  "language_info": {
   "codemirror_mode": {
    "name": "ipython",
    "version": 3
   },
   "file_extension": ".py",
   "mimetype": "text/x-python",
   "name": "python",
   "nbconvert_exporter": "python",
   "pygments_lexer": "ipython3",
   "version": "3.7.1"
  }
 },
 "nbformat": 4,
 "nbformat_minor": 5
}
