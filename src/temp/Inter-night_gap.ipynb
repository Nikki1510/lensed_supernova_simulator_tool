{
 "cells": [
  {
   "cell_type": "code",
   "execution_count": 28,
   "id": "expanded-horse",
   "metadata": {},
   "outputs": [
    {
     "name": "stdout",
     "output_type": "stream",
     "text": [
      "Median inter-night gap:  11.008518518516212\n"
     ]
    }
   ],
   "source": [
    "import pickle\n",
    "import numpy as np\n",
    "import matplotlib.pyplot as plt\n",
    "import pandas as pd\n",
    "plt.rc(\"font\", family=\"serif\")\n",
    "plt.rc(\"text\", usetex=True)\n",
    "\n",
    "with open('internight_gaps_i.pickle', 'rb') as f:\n",
    "    ing2 = pickle.load(f)\n",
    "    \n",
    "data = np.load('baseline2018a_Median_Inter-Night_Gap_WFD_i_band_HEAL.npz', allow_pickle=True)\n",
    "ing1 = data['metricValues']\n",
    "ing1 = ing1[ing1 > 0.5]\n",
    "\n",
    "print(\"Median inter-night gap: \", np.median(ing1))"
   ]
  },
  {
   "cell_type": "code",
   "execution_count": 22,
   "id": "smoking-corner",
   "metadata": {},
   "outputs": [
    {
     "name": "stdout",
     "output_type": "stream",
     "text": [
      "['header', 'metricValues', 'mask', 'fill', 'slicer_init', 'slicerName', 'slicePoints', 'slicerNSlice', 'slicerShape']\n",
      "{'metricName': 'Median Inter-Night Gap', 'constraint': '(proposalId = 3) and (filter = \"i\")', 'metadata': 'WFD i band', 'simDataName': 'baseline2018a', 'dateRan': '2018-06-24', 'displayDict': {'group': 'InterNight', 'subgroup': 'Night gaps', 'order': 4, 'caption': 'Median gap between nights with observations, WFD i band.'}, 'plotDict': {'color': 'r'}, '__version__': '2.8.0.sims-40-g2ae7a75c', '__repo_version__': '2.8.0.sims-40-g2ae7a75c', '__fingerprint__': '2ae7a75c494a0646a095ce19de1dd58efe5dea3a', '__dependency_versions__': {}}\n"
     ]
    }
   ],
   "source": [
    "print(data.files)\n",
    "print(data['header'])"
   ]
  },
  {
   "cell_type": "code",
   "execution_count": 23,
   "id": "nervous-qatar",
   "metadata": {},
   "outputs": [
    {
     "name": "stdout",
     "output_type": "stream",
     "text": [
      "21495 17302714\n",
      "600.2960999999996\n"
     ]
    }
   ],
   "source": [
    "print(len(ing1), len(ing2))\n",
    "print(max(ing2))"
   ]
  },
  {
   "cell_type": "code",
   "execution_count": 21,
   "id": "periodic-saver",
   "metadata": {},
   "outputs": [
    {
     "data": {
      "image/png": "[encoded data removed]",
      "text/plain": [
       "<Figure size 432x288 with 1 Axes>"
      ]
     },
     "metadata": {
      "needs_background": "light"
     },
     "output_type": "display_data"
    }
   ],
   "source": [
    "\n",
    "\n",
    "plt.figure()\n",
    "plt.hist(ing1, bins=50, range=(0, 50), alpha=0.7, density=True, label=\"Median\")\n",
    "plt.hist(ing2, bins=50, range=(0, 50), alpha=0.7, density=True, label=\"Individual\")\n",
    "plt.xlabel(\"Inter-night gap (days)\", fontsize=15)\n",
    "plt.ylabel(\"Density\", fontsize=15)\n",
    "plt.legend(fontsize=15)\n",
    "plt.savefig(\"inter-night_gap.png\", dpi=100, facecolor='white')\n",
    "plt.show()"
   ]
  },
  {
   "cell_type": "code",
   "execution_count": 21,
   "id": "structural-jonathan",
   "metadata": {},
   "outputs": [
    {
     "name": "stdout",
     "output_type": "stream",
     "text": [
      "Median inter-night gap:  6.9835000000020955\n"
     ]
    }
   ],
   "source": [
    "print(\"Median inter-night gap: \", np.median(ing2))"
   ]
  },
  {
   "cell_type": "code",
   "execution_count": 20,
   "id": "legendary-margin",
   "metadata": {},
   "outputs": [
    {
     "data": {
      "text/plain": [
       "(array([2.7657e+04, 0.0000e+00, 0.0000e+00, 0.0000e+00, 0.0000e+00,\n",
       "        0.0000e+00, 0.0000e+00, 1.0000e+00, 0.0000e+00, 7.0000e+00,\n",
       "        6.0000e+00, 2.3000e+01, 3.3000e+01, 1.2600e+02, 1.7500e+02,\n",
       "        2.8000e+02, 3.0400e+02, 6.3200e+02, 8.1400e+02, 1.0700e+03,\n",
       "        2.2320e+03, 1.9530e+03, 4.0230e+03, 2.2450e+03, 3.6710e+03,\n",
       "        1.5320e+03, 1.6020e+03, 4.4200e+02, 2.8400e+02, 4.0000e+01]),\n",
       " array([5.58125834e-315, 4.97523920e-001, 9.95047840e-001, 1.49257176e+000,\n",
       "        1.99009568e+000, 2.48761960e+000, 2.98514352e+000, 3.48266744e+000,\n",
       "        3.98019136e+000, 4.47771528e+000, 4.97523920e+000, 5.47276312e+000,\n",
       "        5.97028704e+000, 6.46781096e+000, 6.96533488e+000, 7.46285880e+000,\n",
       "        7.96038272e+000, 8.45790664e+000, 8.95543056e+000, 9.45295448e+000,\n",
       "        9.95047840e+000, 1.04480023e+001, 1.09455262e+001, 1.14430502e+001,\n",
       "        1.19405741e+001, 1.24380980e+001, 1.29356219e+001, 1.34331458e+001,\n",
       "        1.39306698e+001, 1.44281937e+001, 1.49257176e+001]),\n",
       " <BarContainer object of 30 artists>)"
      ]
     },
     "execution_count": 20,
     "metadata": {},
     "output_type": "execute_result"
    },
    {
     "data": {
      "image/png": "[encoded data removed]",
      "text/plain": [
       "<Figure size 432x288 with 1 Axes>"
      ]
     },
     "metadata": {
      "needs_background": "light"
     },
     "output_type": "display_data"
    }
   ],
   "source": [
    "data = np.load('baseline2018a_Median_Inter-Night_Gap_WFD_i_band_HEAL.npz', allow_pickle=True)\n",
    "\n",
    "plt.figure(2)\n",
    "plt.hist(data['metricValues'], bins=30)"
   ]
  },
  {
   "cell_type": "code",
   "execution_count": 19,
   "id": "better-nevada",
   "metadata": {},
   "outputs": [
    {
     "name": "stdout",
     "output_type": "stream",
     "text": [
      "{'observations':          observationId     fieldRA   fieldDec  observationStartMJD  \\\n",
      "0                    0  310.024480 -60.812928         60218.001806   \n",
      "1                    1  310.601871 -63.561425         60218.002254   \n",
      "2                    2  311.292611 -66.317774         60218.002703   \n",
      "3                    3  312.140731 -69.082666         60218.003152   \n",
      "4                    4  304.170163 -73.375442         60218.003624   \n",
      "...                ...         ...        ...                  ...   \n",
      "2086975        2086975  338.528926 -55.399555         63870.104267   \n",
      "2086976        2086976  347.380828 -54.922128         63870.104758   \n",
      "2086977        2086977  350.974688 -52.986827         63870.105219   \n",
      "2086978        2086978  356.062503 -53.778759         63870.105677   \n",
      "2086979        2086979  352.585400 -55.879554         63870.106138   \n",
      "\n",
      "         flush_by_mjd  visitExposureTime filter   rotSkyPos  numExposures  \\\n",
      "0        60218.023576               30.0      y   62.750775             2   \n",
      "1        60218.023576               30.0      y   61.084250             2   \n",
      "2        60218.023576               30.0      y   60.726189             2   \n",
      "3        60218.023576               30.0      y   60.656781             2   \n",
      "4        60218.023576               30.0      y   49.095537             2   \n",
      "...               ...                ...    ...         ...           ...   \n",
      "2086975  63870.135780               30.0      y  334.771589             2   \n",
      "2086976  63870.135780               30.0      y  352.208194             2   \n",
      "2086977  63870.135780               30.0      y    0.553699             2   \n",
      "2086978  63870.135780               30.0      y    8.448490             2   \n",
      "2086979  63870.135780               30.0      y  359.915616             2   \n",
      "\n",
      "          airmass  ...      moonAz       sunAz     sunRA    sunDec  \\\n",
      "0        1.172534  ...   78.824163  255.593220  3.257553 -0.050105   \n",
      "1        1.207046  ...   78.744948  255.500445  3.257560 -0.050108   \n",
      "2        1.248190  ...   78.665665  255.407493  3.257567 -0.050111   \n",
      "3        1.295605  ...   78.586315  255.314364  3.257574 -0.050115   \n",
      "4        1.371481  ...   78.502749  255.216183  3.257582 -0.050118   \n",
      "...           ...  ...         ...         ...       ...       ...   \n",
      "2086975  1.105397  ...  259.819978  226.970400  3.250349 -0.047002   \n",
      "2086976  1.112273  ...  259.743158  226.774631  3.250357 -0.047006   \n",
      "2086977  1.104716  ...  259.671193  226.590591  3.250364 -0.047009   \n",
      "2086978  1.127202  ...  259.599480  226.406575  3.250371 -0.047012   \n",
      "2086979  1.132728  ...  259.527331  226.220805  3.250378 -0.047015   \n",
      "\n",
      "             moonRA    moonDec  moonDistance  solarElong  moonPhase  \\\n",
      "0         27.609463  11.956111     94.490314  102.958651  87.407902   \n",
      "1         27.615338  11.959438     95.029204  101.743959  87.404494   \n",
      "2         27.621208  11.962765     95.563446  100.497860  87.401088   \n",
      "3         27.627073  11.966093     96.092842   99.221261  87.397685   \n",
      "4         27.633237  11.969596     99.605374   94.821142  87.394108   \n",
      "...             ...        ...           ...         ...        ...   \n",
      "2086975  256.910244 -17.679842     70.801365  117.615117  39.323617   \n",
      "2086976  256.916126 -17.679412     75.871877  120.318717  39.326444   \n",
      "2086977  256.921640 -17.679010     78.348928  122.861886  39.329094   \n",
      "2086978  256.927139 -17.678608     81.048225  122.892555  39.331738   \n",
      "2086979  256.932676 -17.678204     78.535855  120.370310  39.334400   \n",
      "\n",
      "          cummTelAz  \n",
      "0        169.454444  \n",
      "1        170.502875  \n",
      "2        171.406738  \n",
      "3        172.197791  \n",
      "4        177.239803  \n",
      "...             ...  \n",
      "2086975 -120.359102  \n",
      "2086976 -131.999093  \n",
      "2086977 -138.401088  \n",
      "2086978 -143.001407  \n",
      "2086979 -136.891941  \n",
      "\n",
      "[2086980 rows x 41 columns], 'info':     index              Parameter  \\\n",
      "0       0              Date, ymd   \n",
      "1       1               hostname   \n",
      "2       2  rubin_sim.__version__   \n",
      "3       3                    maf   \n",
      "4       4                   maps   \n",
      "5       5          movingObjects   \n",
      "6       6                 orbits   \n",
      "7       7           sim_baseline   \n",
      "8       8            site_models   \n",
      "9       9          skybrightness   \n",
      "10     10      skybrightness_pre   \n",
      "11     11            throughputs   \n",
      "12     12                  tests   \n",
      "13     13           exec command   \n",
      "14     14               git hash   \n",
      "15     15          file executed   \n",
      "\n",
      "                                                Value  \n",
      "0                                         2021, 9, 24  \n",
      "1                                    n2238.hyak.local  \n",
      "2                                0.1.2.dev25+ga3ece08  \n",
      "3                                    maf_may_2021.tgz  \n",
      "4                                   maps_may_2021.tgz  \n",
      "5                          movingObjects_may_2021.tgz  \n",
      "6                                 orbits_may_2021.tgz  \n",
      "7                          sim_baseline_june_2021.tgz  \n",
      "8                            site_models_may_2021.tgz  \n",
      "9                          skybrightness_may_2021.tgz  \n",
      "10                     skybrightness_pre_may_2021.tgz  \n",
      "11                           throughputs_aug_2021.tgz  \n",
      "12                                 tests_may_2021.tgz  \n",
      "13                                        baseline.py  \n",
      "14         bbcb306aeaf240e04bc7520969fb031ea5c01c5f\\n  \n",
      "15  /gscratch/scrubbed/yoachim/sims_featureSchedul...  , 'Proposal':    proposalId proposalName proposalType\n",
      "0           0        Other        Other\n",
      "1           1          WFD          WFD\n",
      "2           2   DD:EDFS, b           DD\n",
      "3           3    DD:COSMOS           DD\n",
      "4           4   DD:XMM-LSS           DD\n",
      "5           5   DD:ELAISS1           DD\n",
      "6           6     DD:ECDFS           DD}\n"
     ]
    }
   ],
   "source": [
    "\n",
    "\n",
    "def read_sqlite(dbfile):\n",
    "    import sqlite3\n",
    "    from pandas import read_sql_query, read_sql_table\n",
    "\n",
    "    with sqlite3.connect(dbfile) as dbcon:\n",
    "        tables = list(read_sql_query(\"SELECT name FROM sqlite_master WHERE type='table';\", dbcon)['name'])\n",
    "        out = {tbl : read_sql_query(f\"SELECT * from {tbl}\", dbcon) for tbl in tables}\n",
    "\n",
    "    return out\n",
    "\n",
    "table = read_sqlite('baseline_v2.0_10yrs.db')"
   ]
  },
  {
   "cell_type": "code",
   "execution_count": null,
   "id": "funky-berkeley",
   "metadata": {},
   "outputs": [],
   "source": []
  }
 ],
 "metadata": {
  "kernelspec": {
   "display_name": "Python 3",
   "language": "python",
   "name": "python3"
  },
  "language_info": {
   "codemirror_mode": {
    "name": "ipython",
    "version": 3
   },
   "file_extension": ".py",
   "mimetype": "text/x-python",
   "name": "python",
   "nbconvert_exporter": "python",
   "pygments_lexer": "ipython3",
   "version": "3.7.1"
  }
 },
 "nbformat": 4,
 "nbformat_minor": 5
}
